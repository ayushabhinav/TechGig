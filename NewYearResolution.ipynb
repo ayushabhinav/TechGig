{
  "nbformat": 4,
  "nbformat_minor": 0,
  "metadata": {
    "colab": {
      "provenance": [],
      "collapsed_sections": [
        "J-QAIruQFk_R",
        "eRHV3GpZhsCy"
      ],
      "authorship_tag": "ABX9TyONMH4jVAxMMLW1DTDPDQy+",
      "include_colab_link": true
    },
    "kernelspec": {
      "name": "python3",
      "display_name": "Python 3"
    },
    "language_info": {
      "name": "python"
    }
  },
  "cells": [
    {
      "cell_type": "markdown",
      "metadata": {
        "id": "view-in-github",
        "colab_type": "text"
      },
      "source": [
        "<a href=\"https://colab.research.google.com/github/ayushabhinav/TechGig/blob/main/NewYearResolution.ipynb\" target=\"_parent\"><img src=\"https://colab.research.google.com/assets/colab-badge.svg\" alt=\"Open In Colab\"/></a>"
      ]
    },
    {
      "cell_type": "code",
      "execution_count": 1,
      "metadata": {
        "colab": {
          "base_uri": "https://localhost:8080/"
        },
        "id": "JXHKk76zah3q",
        "outputId": "4aad283f-06ea-4a6e-a705-319052c2c274"
      },
      "outputs": [
        {
          "output_type": "stream",
          "name": "stdout",
          "text": [
            "Mounted at /content/drive\n"
          ]
        }
      ],
      "source": [
        "from google.colab import drive\n",
        "drive.mount('/content/drive')"
      ]
    },
    {
      "cell_type": "code",
      "source": [
        "import os\n",
        "import pandas as pd\n",
        "import numpy as np\n",
        "import seaborn as sns \n",
        "import matplotlib.pyplot as plt\n",
        "import warnings"
      ],
      "metadata": {
        "id": "0N0Lzw1iarJ0"
      },
      "execution_count": 2,
      "outputs": []
    },
    {
      "cell_type": "code",
      "source": [
        "warnings.filterwarnings(\"ignore\")\n",
        "pd.set_option('display.max_rows', 500)\n",
        "pd.set_option('display.max_columns', 500)"
      ],
      "metadata": {
        "id": "EA_ri12Tc0OI"
      },
      "execution_count": 3,
      "outputs": []
    },
    {
      "cell_type": "code",
      "source": [
        "os.listdir('/content/drive/MyDrive/NewYearResolutionDataset')"
      ],
      "metadata": {
        "colab": {
          "base_uri": "https://localhost:8080/"
        },
        "id": "SMKBHtlTbK0x",
        "outputId": "5f43c88f-77cb-41a3-da3b-8ebfdcefd44e"
      },
      "execution_count": 4,
      "outputs": [
        {
          "output_type": "execute_result",
          "data": {
            "text/plain": [
              "['test.csv',\n",
              " 'train.csv',\n",
              " 'sample-submission.csv',\n",
              " 'NewYearResolution.ipynb',\n",
              " 'my_sub.csv',\n",
              " 'NYR.csv',\n",
              " 'NewYearResolution_NN.ipynb']"
            ]
          },
          "metadata": {},
          "execution_count": 4
        }
      ]
    },
    {
      "cell_type": "code",
      "source": [
        "base_folder = '/content/drive/MyDrive/NewYearResolutionDataset'\n",
        "test_file = os.path.join(base_folder, 'test.csv')\n",
        "train_file = os.path.join(base_folder, 'train.csv')"
      ],
      "metadata": {
        "id": "9bPlE2o4bOap"
      },
      "execution_count": 5,
      "outputs": []
    },
    {
      "cell_type": "markdown",
      "source": [
        "#### Load and Analyse the train data"
      ],
      "metadata": {
        "id": "pQsbGsZMbm2L"
      }
    },
    {
      "cell_type": "code",
      "source": [
        "train_data = pd.read_csv(train_file)\n",
        "train_data.head()"
      ],
      "metadata": {
        "colab": {
          "base_uri": "https://localhost:8080/",
          "height": 288
        },
        "id": "aKUzDL9ibkkD",
        "outputId": "6005dbaf-dad4-4adc-9d36-2755a352bd0d"
      },
      "execution_count": 6,
      "outputs": [
        {
          "output_type": "execute_result",
          "data": {
            "text/plain": [
              "   outlet_no  business_type           city state    zip  \\\n",
              "0        247              1           LIMA    OH  45804   \n",
              "1        253              4      VACAVILLE    CA  95687   \n",
              "2        265              4     CINCINNATI    OH  45219   \n",
              "3        267              1        GLASGOW    KY  42141   \n",
              "4        276              1  BOWLING GREEN    KY  42101   \n",
              "\n",
              "                      store_location  avg_age  blue_collar  white_collar  \\\n",
              "0  TRAVEL/TRANSPORTATION/HOSPITALITY    44.01        43.68         35.41   \n",
              "1                            AT-WORK    38.36        41.31         26.48   \n",
              "2                        EDUCATIONAL    28.81        17.22         43.06   \n",
              "3                            AT-WORK    42.89        38.49         44.00   \n",
              "4                  EATING & DRINKING    38.82        60.82         26.24   \n",
              "\n",
              "   female   male  total_household_size   total_household_income time_zone  \\\n",
              "0   53.37  46.63                   2.24                63860000       EST   \n",
              "1   54.00  46.00                   2.54                92764000       PST   \n",
              "2   45.56  54.44                   1.90                51027000       EST   \n",
              "3   52.41  47.59                   2.24                47119000       CST   \n",
              "4   54.18  45.82                   1.93                47941000       CST   \n",
              "\n",
              "    latitude   longitude location_employee_code  employee_size credit_score  \\\n",
              "0  40.704283  -84.147047                      E             70            B   \n",
              "1  38.354860 -121.950360                      D             35            A   \n",
              "2  39.136100  -84.504288                      C             13           A+   \n",
              "3  37.010838  -85.903418                      A              3           B+   \n",
              "4  36.964703  -86.436535                      A              3            P   \n",
              "\n",
              "        credit_score_range  actual_credit_score  total_sales  \n",
              "0                 80 TO 84                   80         4070  \n",
              "1                 90 TO 94                   91         4323  \n",
              "2                95 TO 100                   97         2163  \n",
              "3                 85 TO 89                   86          528  \n",
              "4  PROFESSIONAL INDIVIDUAL                   78          528  "
            ],
            "text/html": [
              "\n",
              "  <div id=\"df-fb580813-de9f-4f39-ab58-9bcf3e170e20\">\n",
              "    <div class=\"colab-df-container\">\n",
              "      <div>\n",
              "<style scoped>\n",
              "    .dataframe tbody tr th:only-of-type {\n",
              "        vertical-align: middle;\n",
              "    }\n",
              "\n",
              "    .dataframe tbody tr th {\n",
              "        vertical-align: top;\n",
              "    }\n",
              "\n",
              "    .dataframe thead th {\n",
              "        text-align: right;\n",
              "    }\n",
              "</style>\n",
              "<table border=\"1\" class=\"dataframe\">\n",
              "  <thead>\n",
              "    <tr style=\"text-align: right;\">\n",
              "      <th></th>\n",
              "      <th>outlet_no</th>\n",
              "      <th>business_type</th>\n",
              "      <th>city</th>\n",
              "      <th>state</th>\n",
              "      <th>zip</th>\n",
              "      <th>store_location</th>\n",
              "      <th>avg_age</th>\n",
              "      <th>blue_collar</th>\n",
              "      <th>white_collar</th>\n",
              "      <th>female</th>\n",
              "      <th>male</th>\n",
              "      <th>total_household_size</th>\n",
              "      <th>total_household_income</th>\n",
              "      <th>time_zone</th>\n",
              "      <th>latitude</th>\n",
              "      <th>longitude</th>\n",
              "      <th>location_employee_code</th>\n",
              "      <th>employee_size</th>\n",
              "      <th>credit_score</th>\n",
              "      <th>credit_score_range</th>\n",
              "      <th>actual_credit_score</th>\n",
              "      <th>total_sales</th>\n",
              "    </tr>\n",
              "  </thead>\n",
              "  <tbody>\n",
              "    <tr>\n",
              "      <th>0</th>\n",
              "      <td>247</td>\n",
              "      <td>1</td>\n",
              "      <td>LIMA</td>\n",
              "      <td>OH</td>\n",
              "      <td>45804</td>\n",
              "      <td>TRAVEL/TRANSPORTATION/HOSPITALITY</td>\n",
              "      <td>44.01</td>\n",
              "      <td>43.68</td>\n",
              "      <td>35.41</td>\n",
              "      <td>53.37</td>\n",
              "      <td>46.63</td>\n",
              "      <td>2.24</td>\n",
              "      <td>63860000</td>\n",
              "      <td>EST</td>\n",
              "      <td>40.704283</td>\n",
              "      <td>-84.147047</td>\n",
              "      <td>E</td>\n",
              "      <td>70</td>\n",
              "      <td>B</td>\n",
              "      <td>80 TO 84</td>\n",
              "      <td>80</td>\n",
              "      <td>4070</td>\n",
              "    </tr>\n",
              "    <tr>\n",
              "      <th>1</th>\n",
              "      <td>253</td>\n",
              "      <td>4</td>\n",
              "      <td>VACAVILLE</td>\n",
              "      <td>CA</td>\n",
              "      <td>95687</td>\n",
              "      <td>AT-WORK</td>\n",
              "      <td>38.36</td>\n",
              "      <td>41.31</td>\n",
              "      <td>26.48</td>\n",
              "      <td>54.00</td>\n",
              "      <td>46.00</td>\n",
              "      <td>2.54</td>\n",
              "      <td>92764000</td>\n",
              "      <td>PST</td>\n",
              "      <td>38.354860</td>\n",
              "      <td>-121.950360</td>\n",
              "      <td>D</td>\n",
              "      <td>35</td>\n",
              "      <td>A</td>\n",
              "      <td>90 TO 94</td>\n",
              "      <td>91</td>\n",
              "      <td>4323</td>\n",
              "    </tr>\n",
              "    <tr>\n",
              "      <th>2</th>\n",
              "      <td>265</td>\n",
              "      <td>4</td>\n",
              "      <td>CINCINNATI</td>\n",
              "      <td>OH</td>\n",
              "      <td>45219</td>\n",
              "      <td>EDUCATIONAL</td>\n",
              "      <td>28.81</td>\n",
              "      <td>17.22</td>\n",
              "      <td>43.06</td>\n",
              "      <td>45.56</td>\n",
              "      <td>54.44</td>\n",
              "      <td>1.90</td>\n",
              "      <td>51027000</td>\n",
              "      <td>EST</td>\n",
              "      <td>39.136100</td>\n",
              "      <td>-84.504288</td>\n",
              "      <td>C</td>\n",
              "      <td>13</td>\n",
              "      <td>A+</td>\n",
              "      <td>95 TO 100</td>\n",
              "      <td>97</td>\n",
              "      <td>2163</td>\n",
              "    </tr>\n",
              "    <tr>\n",
              "      <th>3</th>\n",
              "      <td>267</td>\n",
              "      <td>1</td>\n",
              "      <td>GLASGOW</td>\n",
              "      <td>KY</td>\n",
              "      <td>42141</td>\n",
              "      <td>AT-WORK</td>\n",
              "      <td>42.89</td>\n",
              "      <td>38.49</td>\n",
              "      <td>44.00</td>\n",
              "      <td>52.41</td>\n",
              "      <td>47.59</td>\n",
              "      <td>2.24</td>\n",
              "      <td>47119000</td>\n",
              "      <td>CST</td>\n",
              "      <td>37.010838</td>\n",
              "      <td>-85.903418</td>\n",
              "      <td>A</td>\n",
              "      <td>3</td>\n",
              "      <td>B+</td>\n",
              "      <td>85 TO 89</td>\n",
              "      <td>86</td>\n",
              "      <td>528</td>\n",
              "    </tr>\n",
              "    <tr>\n",
              "      <th>4</th>\n",
              "      <td>276</td>\n",
              "      <td>1</td>\n",
              "      <td>BOWLING GREEN</td>\n",
              "      <td>KY</td>\n",
              "      <td>42101</td>\n",
              "      <td>EATING &amp; DRINKING</td>\n",
              "      <td>38.82</td>\n",
              "      <td>60.82</td>\n",
              "      <td>26.24</td>\n",
              "      <td>54.18</td>\n",
              "      <td>45.82</td>\n",
              "      <td>1.93</td>\n",
              "      <td>47941000</td>\n",
              "      <td>CST</td>\n",
              "      <td>36.964703</td>\n",
              "      <td>-86.436535</td>\n",
              "      <td>A</td>\n",
              "      <td>3</td>\n",
              "      <td>P</td>\n",
              "      <td>PROFESSIONAL INDIVIDUAL</td>\n",
              "      <td>78</td>\n",
              "      <td>528</td>\n",
              "    </tr>\n",
              "  </tbody>\n",
              "</table>\n",
              "</div>\n",
              "      <button class=\"colab-df-convert\" onclick=\"convertToInteractive('df-fb580813-de9f-4f39-ab58-9bcf3e170e20')\"\n",
              "              title=\"Convert this dataframe to an interactive table.\"\n",
              "              style=\"display:none;\">\n",
              "        \n",
              "  <svg xmlns=\"http://www.w3.org/2000/svg\" height=\"24px\"viewBox=\"0 0 24 24\"\n",
              "       width=\"24px\">\n",
              "    <path d=\"M0 0h24v24H0V0z\" fill=\"none\"/>\n",
              "    <path d=\"M18.56 5.44l.94 2.06.94-2.06 2.06-.94-2.06-.94-.94-2.06-.94 2.06-2.06.94zm-11 1L8.5 8.5l.94-2.06 2.06-.94-2.06-.94L8.5 2.5l-.94 2.06-2.06.94zm10 10l.94 2.06.94-2.06 2.06-.94-2.06-.94-.94-2.06-.94 2.06-2.06.94z\"/><path d=\"M17.41 7.96l-1.37-1.37c-.4-.4-.92-.59-1.43-.59-.52 0-1.04.2-1.43.59L10.3 9.45l-7.72 7.72c-.78.78-.78 2.05 0 2.83L4 21.41c.39.39.9.59 1.41.59.51 0 1.02-.2 1.41-.59l7.78-7.78 2.81-2.81c.8-.78.8-2.07 0-2.86zM5.41 20L4 18.59l7.72-7.72 1.47 1.35L5.41 20z\"/>\n",
              "  </svg>\n",
              "      </button>\n",
              "      \n",
              "  <style>\n",
              "    .colab-df-container {\n",
              "      display:flex;\n",
              "      flex-wrap:wrap;\n",
              "      gap: 12px;\n",
              "    }\n",
              "\n",
              "    .colab-df-convert {\n",
              "      background-color: #E8F0FE;\n",
              "      border: none;\n",
              "      border-radius: 50%;\n",
              "      cursor: pointer;\n",
              "      display: none;\n",
              "      fill: #1967D2;\n",
              "      height: 32px;\n",
              "      padding: 0 0 0 0;\n",
              "      width: 32px;\n",
              "    }\n",
              "\n",
              "    .colab-df-convert:hover {\n",
              "      background-color: #E2EBFA;\n",
              "      box-shadow: 0px 1px 2px rgba(60, 64, 67, 0.3), 0px 1px 3px 1px rgba(60, 64, 67, 0.15);\n",
              "      fill: #174EA6;\n",
              "    }\n",
              "\n",
              "    [theme=dark] .colab-df-convert {\n",
              "      background-color: #3B4455;\n",
              "      fill: #D2E3FC;\n",
              "    }\n",
              "\n",
              "    [theme=dark] .colab-df-convert:hover {\n",
              "      background-color: #434B5C;\n",
              "      box-shadow: 0px 1px 3px 1px rgba(0, 0, 0, 0.15);\n",
              "      filter: drop-shadow(0px 1px 2px rgba(0, 0, 0, 0.3));\n",
              "      fill: #FFFFFF;\n",
              "    }\n",
              "  </style>\n",
              "\n",
              "      <script>\n",
              "        const buttonEl =\n",
              "          document.querySelector('#df-fb580813-de9f-4f39-ab58-9bcf3e170e20 button.colab-df-convert');\n",
              "        buttonEl.style.display =\n",
              "          google.colab.kernel.accessAllowed ? 'block' : 'none';\n",
              "\n",
              "        async function convertToInteractive(key) {\n",
              "          const element = document.querySelector('#df-fb580813-de9f-4f39-ab58-9bcf3e170e20');\n",
              "          const dataTable =\n",
              "            await google.colab.kernel.invokeFunction('convertToInteractive',\n",
              "                                                     [key], {});\n",
              "          if (!dataTable) return;\n",
              "\n",
              "          const docLinkHtml = 'Like what you see? Visit the ' +\n",
              "            '<a target=\"_blank\" href=https://colab.research.google.com/notebooks/data_table.ipynb>data table notebook</a>'\n",
              "            + ' to learn more about interactive tables.';\n",
              "          element.innerHTML = '';\n",
              "          dataTable['output_type'] = 'display_data';\n",
              "          await google.colab.output.renderOutput(dataTable, element);\n",
              "          const docLink = document.createElement('div');\n",
              "          docLink.innerHTML = docLinkHtml;\n",
              "          element.appendChild(docLink);\n",
              "        }\n",
              "      </script>\n",
              "    </div>\n",
              "  </div>\n",
              "  "
            ]
          },
          "metadata": {},
          "execution_count": 6
        }
      ]
    },
    {
      "cell_type": "code",
      "source": [
        "test_data = pd.read_csv(test_file)\n",
        "test_data.head()"
      ],
      "metadata": {
        "colab": {
          "base_uri": "https://localhost:8080/",
          "height": 288
        },
        "id": "kHBYCFWrcRiT",
        "outputId": "0d0900f1-e5c4-4fca-9cd9-d94ea3ad3da0"
      },
      "execution_count": 7,
      "outputs": [
        {
          "output_type": "execute_result",
          "data": {
            "text/plain": [
              "   outlet_no  business_type         city state    zip  \\\n",
              "0       1001              1      HOUSTON    TX  77057   \n",
              "1       1002              1   RAPID CITY    SD  57702   \n",
              "2       1003              1  CLARKSVILLE    AR  72830   \n",
              "3       1004              1   RAPID CITY    SD  57702   \n",
              "4       1005              1  CLARKSVILLE    AR  72830   \n",
              "\n",
              "                     store_location  avg_age  blue_collar  white_collar  \\\n",
              "0                           AT-WORK    33.96        22.42         44.74   \n",
              "1                           AT-WORK    37.34        42.41         34.52   \n",
              "2                           AT-WORK    36.06        54.47         33.87   \n",
              "3        THIRD PARTY (NON-CONSUMER)    37.34        42.41         34.52   \n",
              "4  ENTERTAINMENT/RECREATION/LEISURE    33.64        50.70         34.93   \n",
              "\n",
              "   female   male  total_household_size   total_household_income time_zone  \\\n",
              "0   50.76  49.24                   1.58                74121000       CST   \n",
              "1   50.06  49.94                   1.99                45196000       MST   \n",
              "2   50.46  49.54                   2.58                47034000       CST   \n",
              "3   50.06  49.94                   1.99                45196000       MST   \n",
              "4   51.30  48.70                   2.56                45592000       CST   \n",
              "\n",
              "    latitude   longitude location_employee_code  employee_size credit_score  \\\n",
              "0  29.749850  -95.482657                      D             41           A+   \n",
              "1  44.079441 -103.262005                      A              4           A+   \n",
              "2  35.482303  -93.476899                      A              4           A+   \n",
              "3  44.082562 -103.263440                      B              5           B+   \n",
              "4  35.472011  -93.482870                      B              5           A+   \n",
              "\n",
              "  credit_score_range  actual _credit_score  \n",
              "0          95 TO 100                    95  \n",
              "1          95 TO 100                    96  \n",
              "2          95 TO 100                    96  \n",
              "3           85 TO 89                    89  \n",
              "4          95 TO 100                    96  "
            ],
            "text/html": [
              "\n",
              "  <div id=\"df-3b7eda9b-9d96-4249-ba54-78391de055f3\">\n",
              "    <div class=\"colab-df-container\">\n",
              "      <div>\n",
              "<style scoped>\n",
              "    .dataframe tbody tr th:only-of-type {\n",
              "        vertical-align: middle;\n",
              "    }\n",
              "\n",
              "    .dataframe tbody tr th {\n",
              "        vertical-align: top;\n",
              "    }\n",
              "\n",
              "    .dataframe thead th {\n",
              "        text-align: right;\n",
              "    }\n",
              "</style>\n",
              "<table border=\"1\" class=\"dataframe\">\n",
              "  <thead>\n",
              "    <tr style=\"text-align: right;\">\n",
              "      <th></th>\n",
              "      <th>outlet_no</th>\n",
              "      <th>business_type</th>\n",
              "      <th>city</th>\n",
              "      <th>state</th>\n",
              "      <th>zip</th>\n",
              "      <th>store_location</th>\n",
              "      <th>avg_age</th>\n",
              "      <th>blue_collar</th>\n",
              "      <th>white_collar</th>\n",
              "      <th>female</th>\n",
              "      <th>male</th>\n",
              "      <th>total_household_size</th>\n",
              "      <th>total_household_income</th>\n",
              "      <th>time_zone</th>\n",
              "      <th>latitude</th>\n",
              "      <th>longitude</th>\n",
              "      <th>location_employee_code</th>\n",
              "      <th>employee_size</th>\n",
              "      <th>credit_score</th>\n",
              "      <th>credit_score_range</th>\n",
              "      <th>actual _credit_score</th>\n",
              "    </tr>\n",
              "  </thead>\n",
              "  <tbody>\n",
              "    <tr>\n",
              "      <th>0</th>\n",
              "      <td>1001</td>\n",
              "      <td>1</td>\n",
              "      <td>HOUSTON</td>\n",
              "      <td>TX</td>\n",
              "      <td>77057</td>\n",
              "      <td>AT-WORK</td>\n",
              "      <td>33.96</td>\n",
              "      <td>22.42</td>\n",
              "      <td>44.74</td>\n",
              "      <td>50.76</td>\n",
              "      <td>49.24</td>\n",
              "      <td>1.58</td>\n",
              "      <td>74121000</td>\n",
              "      <td>CST</td>\n",
              "      <td>29.749850</td>\n",
              "      <td>-95.482657</td>\n",
              "      <td>D</td>\n",
              "      <td>41</td>\n",
              "      <td>A+</td>\n",
              "      <td>95 TO 100</td>\n",
              "      <td>95</td>\n",
              "    </tr>\n",
              "    <tr>\n",
              "      <th>1</th>\n",
              "      <td>1002</td>\n",
              "      <td>1</td>\n",
              "      <td>RAPID CITY</td>\n",
              "      <td>SD</td>\n",
              "      <td>57702</td>\n",
              "      <td>AT-WORK</td>\n",
              "      <td>37.34</td>\n",
              "      <td>42.41</td>\n",
              "      <td>34.52</td>\n",
              "      <td>50.06</td>\n",
              "      <td>49.94</td>\n",
              "      <td>1.99</td>\n",
              "      <td>45196000</td>\n",
              "      <td>MST</td>\n",
              "      <td>44.079441</td>\n",
              "      <td>-103.262005</td>\n",
              "      <td>A</td>\n",
              "      <td>4</td>\n",
              "      <td>A+</td>\n",
              "      <td>95 TO 100</td>\n",
              "      <td>96</td>\n",
              "    </tr>\n",
              "    <tr>\n",
              "      <th>2</th>\n",
              "      <td>1003</td>\n",
              "      <td>1</td>\n",
              "      <td>CLARKSVILLE</td>\n",
              "      <td>AR</td>\n",
              "      <td>72830</td>\n",
              "      <td>AT-WORK</td>\n",
              "      <td>36.06</td>\n",
              "      <td>54.47</td>\n",
              "      <td>33.87</td>\n",
              "      <td>50.46</td>\n",
              "      <td>49.54</td>\n",
              "      <td>2.58</td>\n",
              "      <td>47034000</td>\n",
              "      <td>CST</td>\n",
              "      <td>35.482303</td>\n",
              "      <td>-93.476899</td>\n",
              "      <td>A</td>\n",
              "      <td>4</td>\n",
              "      <td>A+</td>\n",
              "      <td>95 TO 100</td>\n",
              "      <td>96</td>\n",
              "    </tr>\n",
              "    <tr>\n",
              "      <th>3</th>\n",
              "      <td>1004</td>\n",
              "      <td>1</td>\n",
              "      <td>RAPID CITY</td>\n",
              "      <td>SD</td>\n",
              "      <td>57702</td>\n",
              "      <td>THIRD PARTY (NON-CONSUMER)</td>\n",
              "      <td>37.34</td>\n",
              "      <td>42.41</td>\n",
              "      <td>34.52</td>\n",
              "      <td>50.06</td>\n",
              "      <td>49.94</td>\n",
              "      <td>1.99</td>\n",
              "      <td>45196000</td>\n",
              "      <td>MST</td>\n",
              "      <td>44.082562</td>\n",
              "      <td>-103.263440</td>\n",
              "      <td>B</td>\n",
              "      <td>5</td>\n",
              "      <td>B+</td>\n",
              "      <td>85 TO 89</td>\n",
              "      <td>89</td>\n",
              "    </tr>\n",
              "    <tr>\n",
              "      <th>4</th>\n",
              "      <td>1005</td>\n",
              "      <td>1</td>\n",
              "      <td>CLARKSVILLE</td>\n",
              "      <td>AR</td>\n",
              "      <td>72830</td>\n",
              "      <td>ENTERTAINMENT/RECREATION/LEISURE</td>\n",
              "      <td>33.64</td>\n",
              "      <td>50.70</td>\n",
              "      <td>34.93</td>\n",
              "      <td>51.30</td>\n",
              "      <td>48.70</td>\n",
              "      <td>2.56</td>\n",
              "      <td>45592000</td>\n",
              "      <td>CST</td>\n",
              "      <td>35.472011</td>\n",
              "      <td>-93.482870</td>\n",
              "      <td>B</td>\n",
              "      <td>5</td>\n",
              "      <td>A+</td>\n",
              "      <td>95 TO 100</td>\n",
              "      <td>96</td>\n",
              "    </tr>\n",
              "  </tbody>\n",
              "</table>\n",
              "</div>\n",
              "      <button class=\"colab-df-convert\" onclick=\"convertToInteractive('df-3b7eda9b-9d96-4249-ba54-78391de055f3')\"\n",
              "              title=\"Convert this dataframe to an interactive table.\"\n",
              "              style=\"display:none;\">\n",
              "        \n",
              "  <svg xmlns=\"http://www.w3.org/2000/svg\" height=\"24px\"viewBox=\"0 0 24 24\"\n",
              "       width=\"24px\">\n",
              "    <path d=\"M0 0h24v24H0V0z\" fill=\"none\"/>\n",
              "    <path d=\"M18.56 5.44l.94 2.06.94-2.06 2.06-.94-2.06-.94-.94-2.06-.94 2.06-2.06.94zm-11 1L8.5 8.5l.94-2.06 2.06-.94-2.06-.94L8.5 2.5l-.94 2.06-2.06.94zm10 10l.94 2.06.94-2.06 2.06-.94-2.06-.94-.94-2.06-.94 2.06-2.06.94z\"/><path d=\"M17.41 7.96l-1.37-1.37c-.4-.4-.92-.59-1.43-.59-.52 0-1.04.2-1.43.59L10.3 9.45l-7.72 7.72c-.78.78-.78 2.05 0 2.83L4 21.41c.39.39.9.59 1.41.59.51 0 1.02-.2 1.41-.59l7.78-7.78 2.81-2.81c.8-.78.8-2.07 0-2.86zM5.41 20L4 18.59l7.72-7.72 1.47 1.35L5.41 20z\"/>\n",
              "  </svg>\n",
              "      </button>\n",
              "      \n",
              "  <style>\n",
              "    .colab-df-container {\n",
              "      display:flex;\n",
              "      flex-wrap:wrap;\n",
              "      gap: 12px;\n",
              "    }\n",
              "\n",
              "    .colab-df-convert {\n",
              "      background-color: #E8F0FE;\n",
              "      border: none;\n",
              "      border-radius: 50%;\n",
              "      cursor: pointer;\n",
              "      display: none;\n",
              "      fill: #1967D2;\n",
              "      height: 32px;\n",
              "      padding: 0 0 0 0;\n",
              "      width: 32px;\n",
              "    }\n",
              "\n",
              "    .colab-df-convert:hover {\n",
              "      background-color: #E2EBFA;\n",
              "      box-shadow: 0px 1px 2px rgba(60, 64, 67, 0.3), 0px 1px 3px 1px rgba(60, 64, 67, 0.15);\n",
              "      fill: #174EA6;\n",
              "    }\n",
              "\n",
              "    [theme=dark] .colab-df-convert {\n",
              "      background-color: #3B4455;\n",
              "      fill: #D2E3FC;\n",
              "    }\n",
              "\n",
              "    [theme=dark] .colab-df-convert:hover {\n",
              "      background-color: #434B5C;\n",
              "      box-shadow: 0px 1px 3px 1px rgba(0, 0, 0, 0.15);\n",
              "      filter: drop-shadow(0px 1px 2px rgba(0, 0, 0, 0.3));\n",
              "      fill: #FFFFFF;\n",
              "    }\n",
              "  </style>\n",
              "\n",
              "      <script>\n",
              "        const buttonEl =\n",
              "          document.querySelector('#df-3b7eda9b-9d96-4249-ba54-78391de055f3 button.colab-df-convert');\n",
              "        buttonEl.style.display =\n",
              "          google.colab.kernel.accessAllowed ? 'block' : 'none';\n",
              "\n",
              "        async function convertToInteractive(key) {\n",
              "          const element = document.querySelector('#df-3b7eda9b-9d96-4249-ba54-78391de055f3');\n",
              "          const dataTable =\n",
              "            await google.colab.kernel.invokeFunction('convertToInteractive',\n",
              "                                                     [key], {});\n",
              "          if (!dataTable) return;\n",
              "\n",
              "          const docLinkHtml = 'Like what you see? Visit the ' +\n",
              "            '<a target=\"_blank\" href=https://colab.research.google.com/notebooks/data_table.ipynb>data table notebook</a>'\n",
              "            + ' to learn more about interactive tables.';\n",
              "          element.innerHTML = '';\n",
              "          dataTable['output_type'] = 'display_data';\n",
              "          await google.colab.output.renderOutput(dataTable, element);\n",
              "          const docLink = document.createElement('div');\n",
              "          docLink.innerHTML = docLinkHtml;\n",
              "          element.appendChild(docLink);\n",
              "        }\n",
              "      </script>\n",
              "    </div>\n",
              "  </div>\n",
              "  "
            ]
          },
          "metadata": {},
          "execution_count": 7
        }
      ]
    },
    {
      "cell_type": "code",
      "source": [
        "train_data.shape"
      ],
      "metadata": {
        "colab": {
          "base_uri": "https://localhost:8080/"
        },
        "id": "6kZ6IOQ9cOcW",
        "outputId": "a82c2dbf-3b11-47cb-a758-007506d749d1"
      },
      "execution_count": 8,
      "outputs": [
        {
          "output_type": "execute_result",
          "data": {
            "text/plain": [
              "(344, 22)"
            ]
          },
          "metadata": {},
          "execution_count": 8
        }
      ]
    },
    {
      "cell_type": "code",
      "source": [
        "train_data.describe()"
      ],
      "metadata": {
        "colab": {
          "base_uri": "https://localhost:8080/",
          "height": 300
        },
        "id": "Eu1xmCxRbvf7",
        "outputId": "173aa4cf-d398-40ab-b6af-89d59598bc3d"
      },
      "execution_count": 9,
      "outputs": [
        {
          "output_type": "execute_result",
          "data": {
            "text/plain": [
              "        outlet_no  business_type           zip     avg_age  blue_collar  \\\n",
              "count  344.000000     344.000000    344.000000  344.000000   344.000000   \n",
              "mean   551.049419       1.279070  52324.691860   40.166395    38.250930   \n",
              "std    174.709306       0.872664  25348.887511    8.735648    16.672136   \n",
              "min    247.000000       1.000000  10032.000000   19.670000     0.000000   \n",
              "25%    407.500000       1.000000  33632.500000   34.620000    25.575000   \n",
              "50%    550.500000       1.000000  46845.000000   39.170000    37.480000   \n",
              "75%    700.750000       1.000000  77165.000000   44.027500    49.162500   \n",
              "max    845.000000       4.000000  98370.000000   80.120000    78.640000   \n",
              "\n",
              "       white_collar      female        male  total_household_size   \\\n",
              "count    344.000000  344.000000  344.000000             344.000000   \n",
              "mean      39.269448   52.429041   47.571017               2.286715   \n",
              "std       12.423702    6.056760    6.056753               0.550595   \n",
              "min        0.000000    0.200000   29.080000               0.000000   \n",
              "25%       31.017500   50.642500   45.480000               1.930000   \n",
              "50%       38.605000   52.480000   47.520000               2.270000   \n",
              "75%       46.367500   54.520000   49.357500               2.570000   \n",
              "max      100.000000   70.920000   99.800000               4.080000   \n",
              "\n",
              "       total_household_income    latitude   longitude  employee_size  \\\n",
              "count            3.440000e+02  344.000000  344.000000     344.000000   \n",
              "mean             6.209274e+07   36.990696  -91.031090     164.654070   \n",
              "std              3.023098e+07    5.313465   12.600138     712.844468   \n",
              "min              1.605400e+07   26.158701 -122.742054       3.000000   \n",
              "25%              4.072800e+07   32.802480  -98.208423       4.000000   \n",
              "50%              5.516400e+07   38.563427  -86.719241      15.000000   \n",
              "75%              7.542600e+07   40.700441  -81.908571      70.000000   \n",
              "max              2.218590e+08   47.738760  -73.801880   10000.000000   \n",
              "\n",
              "       actual_credit_score   total_sales  \n",
              "count           344.000000  3.440000e+02  \n",
              "mean             89.668605  1.938712e+04  \n",
              "std               7.091699  9.650131e+04  \n",
              "min              67.000000  4.140000e+02  \n",
              "25%              85.000000  5.627500e+02  \n",
              "50%              91.000000  1.738500e+03  \n",
              "75%              95.000000  5.473750e+03  \n",
              "max             100.000000  1.424392e+06  "
            ],
            "text/html": [
              "\n",
              "  <div id=\"df-1b108d42-0d40-42ac-8697-2ae9980006bf\">\n",
              "    <div class=\"colab-df-container\">\n",
              "      <div>\n",
              "<style scoped>\n",
              "    .dataframe tbody tr th:only-of-type {\n",
              "        vertical-align: middle;\n",
              "    }\n",
              "\n",
              "    .dataframe tbody tr th {\n",
              "        vertical-align: top;\n",
              "    }\n",
              "\n",
              "    .dataframe thead th {\n",
              "        text-align: right;\n",
              "    }\n",
              "</style>\n",
              "<table border=\"1\" class=\"dataframe\">\n",
              "  <thead>\n",
              "    <tr style=\"text-align: right;\">\n",
              "      <th></th>\n",
              "      <th>outlet_no</th>\n",
              "      <th>business_type</th>\n",
              "      <th>zip</th>\n",
              "      <th>avg_age</th>\n",
              "      <th>blue_collar</th>\n",
              "      <th>white_collar</th>\n",
              "      <th>female</th>\n",
              "      <th>male</th>\n",
              "      <th>total_household_size</th>\n",
              "      <th>total_household_income</th>\n",
              "      <th>latitude</th>\n",
              "      <th>longitude</th>\n",
              "      <th>employee_size</th>\n",
              "      <th>actual_credit_score</th>\n",
              "      <th>total_sales</th>\n",
              "    </tr>\n",
              "  </thead>\n",
              "  <tbody>\n",
              "    <tr>\n",
              "      <th>count</th>\n",
              "      <td>344.000000</td>\n",
              "      <td>344.000000</td>\n",
              "      <td>344.000000</td>\n",
              "      <td>344.000000</td>\n",
              "      <td>344.000000</td>\n",
              "      <td>344.000000</td>\n",
              "      <td>344.000000</td>\n",
              "      <td>344.000000</td>\n",
              "      <td>344.000000</td>\n",
              "      <td>3.440000e+02</td>\n",
              "      <td>344.000000</td>\n",
              "      <td>344.000000</td>\n",
              "      <td>344.000000</td>\n",
              "      <td>344.000000</td>\n",
              "      <td>3.440000e+02</td>\n",
              "    </tr>\n",
              "    <tr>\n",
              "      <th>mean</th>\n",
              "      <td>551.049419</td>\n",
              "      <td>1.279070</td>\n",
              "      <td>52324.691860</td>\n",
              "      <td>40.166395</td>\n",
              "      <td>38.250930</td>\n",
              "      <td>39.269448</td>\n",
              "      <td>52.429041</td>\n",
              "      <td>47.571017</td>\n",
              "      <td>2.286715</td>\n",
              "      <td>6.209274e+07</td>\n",
              "      <td>36.990696</td>\n",
              "      <td>-91.031090</td>\n",
              "      <td>164.654070</td>\n",
              "      <td>89.668605</td>\n",
              "      <td>1.938712e+04</td>\n",
              "    </tr>\n",
              "    <tr>\n",
              "      <th>std</th>\n",
              "      <td>174.709306</td>\n",
              "      <td>0.872664</td>\n",
              "      <td>25348.887511</td>\n",
              "      <td>8.735648</td>\n",
              "      <td>16.672136</td>\n",
              "      <td>12.423702</td>\n",
              "      <td>6.056760</td>\n",
              "      <td>6.056753</td>\n",
              "      <td>0.550595</td>\n",
              "      <td>3.023098e+07</td>\n",
              "      <td>5.313465</td>\n",
              "      <td>12.600138</td>\n",
              "      <td>712.844468</td>\n",
              "      <td>7.091699</td>\n",
              "      <td>9.650131e+04</td>\n",
              "    </tr>\n",
              "    <tr>\n",
              "      <th>min</th>\n",
              "      <td>247.000000</td>\n",
              "      <td>1.000000</td>\n",
              "      <td>10032.000000</td>\n",
              "      <td>19.670000</td>\n",
              "      <td>0.000000</td>\n",
              "      <td>0.000000</td>\n",
              "      <td>0.200000</td>\n",
              "      <td>29.080000</td>\n",
              "      <td>0.000000</td>\n",
              "      <td>1.605400e+07</td>\n",
              "      <td>26.158701</td>\n",
              "      <td>-122.742054</td>\n",
              "      <td>3.000000</td>\n",
              "      <td>67.000000</td>\n",
              "      <td>4.140000e+02</td>\n",
              "    </tr>\n",
              "    <tr>\n",
              "      <th>25%</th>\n",
              "      <td>407.500000</td>\n",
              "      <td>1.000000</td>\n",
              "      <td>33632.500000</td>\n",
              "      <td>34.620000</td>\n",
              "      <td>25.575000</td>\n",
              "      <td>31.017500</td>\n",
              "      <td>50.642500</td>\n",
              "      <td>45.480000</td>\n",
              "      <td>1.930000</td>\n",
              "      <td>4.072800e+07</td>\n",
              "      <td>32.802480</td>\n",
              "      <td>-98.208423</td>\n",
              "      <td>4.000000</td>\n",
              "      <td>85.000000</td>\n",
              "      <td>5.627500e+02</td>\n",
              "    </tr>\n",
              "    <tr>\n",
              "      <th>50%</th>\n",
              "      <td>550.500000</td>\n",
              "      <td>1.000000</td>\n",
              "      <td>46845.000000</td>\n",
              "      <td>39.170000</td>\n",
              "      <td>37.480000</td>\n",
              "      <td>38.605000</td>\n",
              "      <td>52.480000</td>\n",
              "      <td>47.520000</td>\n",
              "      <td>2.270000</td>\n",
              "      <td>5.516400e+07</td>\n",
              "      <td>38.563427</td>\n",
              "      <td>-86.719241</td>\n",
              "      <td>15.000000</td>\n",
              "      <td>91.000000</td>\n",
              "      <td>1.738500e+03</td>\n",
              "    </tr>\n",
              "    <tr>\n",
              "      <th>75%</th>\n",
              "      <td>700.750000</td>\n",
              "      <td>1.000000</td>\n",
              "      <td>77165.000000</td>\n",
              "      <td>44.027500</td>\n",
              "      <td>49.162500</td>\n",
              "      <td>46.367500</td>\n",
              "      <td>54.520000</td>\n",
              "      <td>49.357500</td>\n",
              "      <td>2.570000</td>\n",
              "      <td>7.542600e+07</td>\n",
              "      <td>40.700441</td>\n",
              "      <td>-81.908571</td>\n",
              "      <td>70.000000</td>\n",
              "      <td>95.000000</td>\n",
              "      <td>5.473750e+03</td>\n",
              "    </tr>\n",
              "    <tr>\n",
              "      <th>max</th>\n",
              "      <td>845.000000</td>\n",
              "      <td>4.000000</td>\n",
              "      <td>98370.000000</td>\n",
              "      <td>80.120000</td>\n",
              "      <td>78.640000</td>\n",
              "      <td>100.000000</td>\n",
              "      <td>70.920000</td>\n",
              "      <td>99.800000</td>\n",
              "      <td>4.080000</td>\n",
              "      <td>2.218590e+08</td>\n",
              "      <td>47.738760</td>\n",
              "      <td>-73.801880</td>\n",
              "      <td>10000.000000</td>\n",
              "      <td>100.000000</td>\n",
              "      <td>1.424392e+06</td>\n",
              "    </tr>\n",
              "  </tbody>\n",
              "</table>\n",
              "</div>\n",
              "      <button class=\"colab-df-convert\" onclick=\"convertToInteractive('df-1b108d42-0d40-42ac-8697-2ae9980006bf')\"\n",
              "              title=\"Convert this dataframe to an interactive table.\"\n",
              "              style=\"display:none;\">\n",
              "        \n",
              "  <svg xmlns=\"http://www.w3.org/2000/svg\" height=\"24px\"viewBox=\"0 0 24 24\"\n",
              "       width=\"24px\">\n",
              "    <path d=\"M0 0h24v24H0V0z\" fill=\"none\"/>\n",
              "    <path d=\"M18.56 5.44l.94 2.06.94-2.06 2.06-.94-2.06-.94-.94-2.06-.94 2.06-2.06.94zm-11 1L8.5 8.5l.94-2.06 2.06-.94-2.06-.94L8.5 2.5l-.94 2.06-2.06.94zm10 10l.94 2.06.94-2.06 2.06-.94-2.06-.94-.94-2.06-.94 2.06-2.06.94z\"/><path d=\"M17.41 7.96l-1.37-1.37c-.4-.4-.92-.59-1.43-.59-.52 0-1.04.2-1.43.59L10.3 9.45l-7.72 7.72c-.78.78-.78 2.05 0 2.83L4 21.41c.39.39.9.59 1.41.59.51 0 1.02-.2 1.41-.59l7.78-7.78 2.81-2.81c.8-.78.8-2.07 0-2.86zM5.41 20L4 18.59l7.72-7.72 1.47 1.35L5.41 20z\"/>\n",
              "  </svg>\n",
              "      </button>\n",
              "      \n",
              "  <style>\n",
              "    .colab-df-container {\n",
              "      display:flex;\n",
              "      flex-wrap:wrap;\n",
              "      gap: 12px;\n",
              "    }\n",
              "\n",
              "    .colab-df-convert {\n",
              "      background-color: #E8F0FE;\n",
              "      border: none;\n",
              "      border-radius: 50%;\n",
              "      cursor: pointer;\n",
              "      display: none;\n",
              "      fill: #1967D2;\n",
              "      height: 32px;\n",
              "      padding: 0 0 0 0;\n",
              "      width: 32px;\n",
              "    }\n",
              "\n",
              "    .colab-df-convert:hover {\n",
              "      background-color: #E2EBFA;\n",
              "      box-shadow: 0px 1px 2px rgba(60, 64, 67, 0.3), 0px 1px 3px 1px rgba(60, 64, 67, 0.15);\n",
              "      fill: #174EA6;\n",
              "    }\n",
              "\n",
              "    [theme=dark] .colab-df-convert {\n",
              "      background-color: #3B4455;\n",
              "      fill: #D2E3FC;\n",
              "    }\n",
              "\n",
              "    [theme=dark] .colab-df-convert:hover {\n",
              "      background-color: #434B5C;\n",
              "      box-shadow: 0px 1px 3px 1px rgba(0, 0, 0, 0.15);\n",
              "      filter: drop-shadow(0px 1px 2px rgba(0, 0, 0, 0.3));\n",
              "      fill: #FFFFFF;\n",
              "    }\n",
              "  </style>\n",
              "\n",
              "      <script>\n",
              "        const buttonEl =\n",
              "          document.querySelector('#df-1b108d42-0d40-42ac-8697-2ae9980006bf button.colab-df-convert');\n",
              "        buttonEl.style.display =\n",
              "          google.colab.kernel.accessAllowed ? 'block' : 'none';\n",
              "\n",
              "        async function convertToInteractive(key) {\n",
              "          const element = document.querySelector('#df-1b108d42-0d40-42ac-8697-2ae9980006bf');\n",
              "          const dataTable =\n",
              "            await google.colab.kernel.invokeFunction('convertToInteractive',\n",
              "                                                     [key], {});\n",
              "          if (!dataTable) return;\n",
              "\n",
              "          const docLinkHtml = 'Like what you see? Visit the ' +\n",
              "            '<a target=\"_blank\" href=https://colab.research.google.com/notebooks/data_table.ipynb>data table notebook</a>'\n",
              "            + ' to learn more about interactive tables.';\n",
              "          element.innerHTML = '';\n",
              "          dataTable['output_type'] = 'display_data';\n",
              "          await google.colab.output.renderOutput(dataTable, element);\n",
              "          const docLink = document.createElement('div');\n",
              "          docLink.innerHTML = docLinkHtml;\n",
              "          element.appendChild(docLink);\n",
              "        }\n",
              "      </script>\n",
              "    </div>\n",
              "  </div>\n",
              "  "
            ]
          },
          "metadata": {},
          "execution_count": 9
        }
      ]
    },
    {
      "cell_type": "code",
      "source": [
        "train_data.info()"
      ],
      "metadata": {
        "colab": {
          "base_uri": "https://localhost:8080/"
        },
        "id": "z_-il-nzb5tW",
        "outputId": "44e46b12-828c-469e-f003-bacc213c5509"
      },
      "execution_count": 10,
      "outputs": [
        {
          "output_type": "stream",
          "name": "stdout",
          "text": [
            "<class 'pandas.core.frame.DataFrame'>\n",
            "RangeIndex: 344 entries, 0 to 343\n",
            "Data columns (total 22 columns):\n",
            " #   Column                  Non-Null Count  Dtype  \n",
            "---  ------                  --------------  -----  \n",
            " 0   outlet_no               344 non-null    int64  \n",
            " 1   business_type           344 non-null    int64  \n",
            " 2   city                    344 non-null    object \n",
            " 3   state                   344 non-null    object \n",
            " 4   zip                     344 non-null    int64  \n",
            " 5   store_location          344 non-null    object \n",
            " 6   avg_age                 344 non-null    float64\n",
            " 7   blue_collar             344 non-null    float64\n",
            " 8   white_collar            344 non-null    float64\n",
            " 9   female                  344 non-null    float64\n",
            " 10  male                    344 non-null    float64\n",
            " 11  total_household_size    344 non-null    float64\n",
            " 12  total_household_income  344 non-null    int64  \n",
            " 13  time_zone               344 non-null    object \n",
            " 14  latitude                344 non-null    float64\n",
            " 15  longitude               344 non-null    float64\n",
            " 16  location_employee_code  344 non-null    object \n",
            " 17  employee_size           344 non-null    int64  \n",
            " 18  credit_score            344 non-null    object \n",
            " 19  credit_score_range      344 non-null    object \n",
            " 20  actual_credit_score     344 non-null    int64  \n",
            " 21  total_sales             344 non-null    int64  \n",
            "dtypes: float64(8), int64(7), object(7)\n",
            "memory usage: 59.2+ KB\n"
          ]
        }
      ]
    },
    {
      "cell_type": "markdown",
      "source": [
        "#### Perform EDA"
      ],
      "metadata": {
        "id": "gKXQQJRDcUKy"
      }
    },
    {
      "cell_type": "code",
      "source": [
        "sns.boxplot(data = train_data, x='total_sales')\n",
        "# Data has outlier"
      ],
      "metadata": {
        "colab": {
          "base_uri": "https://localhost:8080/",
          "height": 467
        },
        "id": "Q5WiClLcm9UH",
        "outputId": "d912075a-b2fd-4705-9117-1a0f4522322b"
      },
      "execution_count": 11,
      "outputs": [
        {
          "output_type": "execute_result",
          "data": {
            "text/plain": [
              "<Axes: xlabel='total_sales'>"
            ]
          },
          "metadata": {},
          "execution_count": 11
        },
        {
          "output_type": "display_data",
          "data": {
            "text/plain": [
              "<Figure size 640x480 with 1 Axes>"
            ],
            "image/png": "[encoded data removed]"
          },
          "metadata": {}
        }
      ]
    },
    {
      "cell_type": "code",
      "source": [
        "#Top three outlier\n",
        "train_data.total_sales.sort_values(ascending=False)[:15]"
      ],
      "metadata": {
        "id": "xiy4Mho-nIi9",
        "colab": {
          "base_uri": "https://localhost:8080/"
        },
        "outputId": "59b856e8-2be2-44c6-ac64-c06b8ff1737c"
      },
      "execution_count": 12,
      "outputs": [
        {
          "output_type": "execute_result",
          "data": {
            "text/plain": [
              "119    1424392\n",
              "298     629829\n",
              "304     556016\n",
              "327     350909\n",
              "63      321475\n",
              "311     294789\n",
              "40      232757\n",
              "325     222451\n",
              "173     201471\n",
              "217     146302\n",
              "171     128139\n",
              "321     112633\n",
              "138     100582\n",
              "236      91438\n",
              "302      90388\n",
              "Name: total_sales, dtype: int64"
            ]
          },
          "metadata": {},
          "execution_count": 12
        }
      ]
    },
    {
      "cell_type": "code",
      "source": [
        "filt = train_data.total_sales >= 100000\n",
        "train_data_1 = train_data[~filt]"
      ],
      "metadata": {
        "id": "F1kJiE5-nZeW"
      },
      "execution_count": 13,
      "outputs": []
    },
    {
      "cell_type": "code",
      "source": [
        "train_data[filt]"
      ],
      "metadata": {
        "colab": {
          "base_uri": "https://localhost:8080/",
          "height": 712
        },
        "id": "1smnl6ovqD87",
        "outputId": "ed24f4d3-b6ce-41c2-8d07-006cc875c19c"
      },
      "execution_count": 14,
      "outputs": [
        {
          "output_type": "execute_result",
          "data": {
            "text/plain": [
              "     outlet_no  business_type             city state    zip  \\\n",
              "40         486              1          ATLANTA    GA  30329   \n",
              "63         590              1      SAN ANTONIO    TX  78229   \n",
              "119        841              1        BETHLEHEM    PA  18017   \n",
              "138        356              1     GARDEN GROVE    CA  92843   \n",
              "171        522              1       OCONOMOWOC    IL  53066   \n",
              "173        529              1         SYRACUSE    NY  13205   \n",
              "217        788              1            POWAY    CA  92064   \n",
              "298        582              1          PHOENIX    AZ  85006   \n",
              "304        621              1       FORT WAYNE    IN  46845   \n",
              "311        678              1          JAMAICA    NY  11432   \n",
              "321        725              1  SAN LUIS OBISPO    CA  93405   \n",
              "325        744              1           LAREDO    TX  78041   \n",
              "327        749              1        BETHLEHEM    PA  18017   \n",
              "\n",
              "                 store_location  avg_age  blue_collar  white_collar  female  \\\n",
              "40   THIRD PARTY (NON-CONSUMER)    26.93        17.56         52.17   51.76   \n",
              "63                      AT-WORK    45.98        22.41         45.44   46.41   \n",
              "119                     AT-WORK    62.34        31.17         44.72   61.98   \n",
              "138  THIRD PARTY (NON-CONSUMER)    40.04        37.09         46.68   50.09   \n",
              "171  THIRD PARTY (NON-CONSUMER)    40.00        42.16         28.60   51.06   \n",
              "173                     AT-WORK    61.28        30.31         41.50   55.39   \n",
              "217                     AT-WORK    48.58        16.39         47.92   54.36   \n",
              "298                     AT-WORK    34.70        78.36         26.39   46.62   \n",
              "304                     AT-WORK    35.05        20.72         51.14   50.00   \n",
              "311                     AT-WORK    38.67        34.45         48.78   51.32   \n",
              "321                     AT-WORK    23.46        38.37         36.30   42.96   \n",
              "325  THIRD PARTY (NON-CONSUMER)    33.09        34.84         52.92   52.32   \n",
              "327  THIRD PARTY (NON-CONSUMER)    62.34        31.17         44.72   61.98   \n",
              "\n",
              "      male  total_household_size   total_household_income time_zone  \\\n",
              "40   48.24                   1.30                32375000       EST   \n",
              "63   53.59                   1.56                45403000       CST   \n",
              "119  38.02                   1.33                29932000       EST   \n",
              "138  49.91                   3.09                65068000       PST   \n",
              "171  48.94                   2.29                97956000       CST   \n",
              "173  44.61                   1.21                23686000       EST   \n",
              "217  45.64                   2.38                96202000       PST   \n",
              "298  53.38                   2.49                24886000       MST   \n",
              "304  50.00                   3.03                81782000       EST   \n",
              "311  48.68                   3.21                90372000       EST   \n",
              "321  57.04                   2.57                23567000       PST   \n",
              "325  47.68                   3.31                45651000       CST   \n",
              "327  38.02                   1.33                29932000       EST   \n",
              "\n",
              "      latitude   longitude location_employee_code  employee_size credit_score  \\\n",
              "40   33.798466  -84.325840                      I           1501           A+   \n",
              "63   29.507370  -98.577917                      J           5001           B+   \n",
              "119  40.644637  -75.407893                      K          10000           C+   \n",
              "138  33.775109 -117.913168                      H            550           A+   \n",
              "171  43.100129  -88.486611                      H            920           B+   \n",
              "173  43.009006  -76.133864                      I           2400           A+   \n",
              "217  32.997136 -117.055791                      H            800           B+   \n",
              "298  33.465674 -112.058792                      I           3800           A+   \n",
              "304  41.180940  -85.101941                      I           4000           B+   \n",
              "311  40.717359  -73.803610                      I           2000           B+   \n",
              "321  35.290970 -120.665282                      H            500           A+   \n",
              "325  27.533168  -99.478074                      I           1500           A+   \n",
              "327  40.644637  -75.407893                      I           2000           A+   \n",
              "\n",
              "    credit_score_range  actual_credit_score  total_sales  \n",
              "40           95 TO 100                   99       232757  \n",
              "63            85 TO 89                   88       321475  \n",
              "119           75 TO 79                   78      1424392  \n",
              "138          95 TO 100                  100       100582  \n",
              "171           85 TO 89                   86       128139  \n",
              "173          95 TO 100                   96       201471  \n",
              "217           85 TO 89                   88       146302  \n",
              "298          95 TO 100                  100       629829  \n",
              "304           85 TO 89                   88       556016  \n",
              "311           85 TO 89                   86       294789  \n",
              "321          95 TO 100                   96       112633  \n",
              "325          95 TO 100                   98       222451  \n",
              "327          95 TO 100                   95       350909  "
            ],
            "text/html": [
              "\n",
              "  <div id=\"df-fafe2d8f-6cad-4489-9797-868ff2c11687\">\n",
              "    <div class=\"colab-df-container\">\n",
              "      <div>\n",
              "<style scoped>\n",
              "    .dataframe tbody tr th:only-of-type {\n",
              "        vertical-align: middle;\n",
              "    }\n",
              "\n",
              "    .dataframe tbody tr th {\n",
              "        vertical-align: top;\n",
              "    }\n",
              "\n",
              "    .dataframe thead th {\n",
              "        text-align: right;\n",
              "    }\n",
              "</style>\n",
              "<table border=\"1\" class=\"dataframe\">\n",
              "  <thead>\n",
              "    <tr style=\"text-align: right;\">\n",
              "      <th></th>\n",
              "      <th>outlet_no</th>\n",
              "      <th>business_type</th>\n",
              "      <th>city</th>\n",
              "      <th>state</th>\n",
              "      <th>zip</th>\n",
              "      <th>store_location</th>\n",
              "      <th>avg_age</th>\n",
              "      <th>blue_collar</th>\n",
              "      <th>white_collar</th>\n",
              "      <th>female</th>\n",
              "      <th>male</th>\n",
              "      <th>total_household_size</th>\n",
              "      <th>total_household_income</th>\n",
              "      <th>time_zone</th>\n",
              "      <th>latitude</th>\n",
              "      <th>longitude</th>\n",
              "      <th>location_employee_code</th>\n",
              "      <th>employee_size</th>\n",
              "      <th>credit_score</th>\n",
              "      <th>credit_score_range</th>\n",
              "      <th>actual_credit_score</th>\n",
              "      <th>total_sales</th>\n",
              "    </tr>\n",
              "  </thead>\n",
              "  <tbody>\n",
              "    <tr>\n",
              "      <th>40</th>\n",
              "      <td>486</td>\n",
              "      <td>1</td>\n",
              "      <td>ATLANTA</td>\n",
              "      <td>GA</td>\n",
              "      <td>30329</td>\n",
              "      <td>THIRD PARTY (NON-CONSUMER)</td>\n",
              "      <td>26.93</td>\n",
              "      <td>17.56</td>\n",
              "      <td>52.17</td>\n",
              "      <td>51.76</td>\n",
              "      <td>48.24</td>\n",
              "      <td>1.30</td>\n",
              "      <td>32375000</td>\n",
              "      <td>EST</td>\n",
              "      <td>33.798466</td>\n",
              "      <td>-84.325840</td>\n",
              "      <td>I</td>\n",
              "      <td>1501</td>\n",
              "      <td>A+</td>\n",
              "      <td>95 TO 100</td>\n",
              "      <td>99</td>\n",
              "      <td>232757</td>\n",
              "    </tr>\n",
              "    <tr>\n",
              "      <th>63</th>\n",
              "      <td>590</td>\n",
              "      <td>1</td>\n",
              "      <td>SAN ANTONIO</td>\n",
              "      <td>TX</td>\n",
              "      <td>78229</td>\n",
              "      <td>AT-WORK</td>\n",
              "      <td>45.98</td>\n",
              "      <td>22.41</td>\n",
              "      <td>45.44</td>\n",
              "      <td>46.41</td>\n",
              "      <td>53.59</td>\n",
              "      <td>1.56</td>\n",
              "      <td>45403000</td>\n",
              "      <td>CST</td>\n",
              "      <td>29.507370</td>\n",
              "      <td>-98.577917</td>\n",
              "      <td>J</td>\n",
              "      <td>5001</td>\n",
              "      <td>B+</td>\n",
              "      <td>85 TO 89</td>\n",
              "      <td>88</td>\n",
              "      <td>321475</td>\n",
              "    </tr>\n",
              "    <tr>\n",
              "      <th>119</th>\n",
              "      <td>841</td>\n",
              "      <td>1</td>\n",
              "      <td>BETHLEHEM</td>\n",
              "      <td>PA</td>\n",
              "      <td>18017</td>\n",
              "      <td>AT-WORK</td>\n",
              "      <td>62.34</td>\n",
              "      <td>31.17</td>\n",
              "      <td>44.72</td>\n",
              "      <td>61.98</td>\n",
              "      <td>38.02</td>\n",
              "      <td>1.33</td>\n",
              "      <td>29932000</td>\n",
              "      <td>EST</td>\n",
              "      <td>40.644637</td>\n",
              "      <td>-75.407893</td>\n",
              "      <td>K</td>\n",
              "      <td>10000</td>\n",
              "      <td>C+</td>\n",
              "      <td>75 TO 79</td>\n",
              "      <td>78</td>\n",
              "      <td>1424392</td>\n",
              "    </tr>\n",
              "    <tr>\n",
              "      <th>138</th>\n",
              "      <td>356</td>\n",
              "      <td>1</td>\n",
              "      <td>GARDEN GROVE</td>\n",
              "      <td>CA</td>\n",
              "      <td>92843</td>\n",
              "      <td>THIRD PARTY (NON-CONSUMER)</td>\n",
              "      <td>40.04</td>\n",
              "      <td>37.09</td>\n",
              "      <td>46.68</td>\n",
              "      <td>50.09</td>\n",
              "      <td>49.91</td>\n",
              "      <td>3.09</td>\n",
              "      <td>65068000</td>\n",
              "      <td>PST</td>\n",
              "      <td>33.775109</td>\n",
              "      <td>-117.913168</td>\n",
              "      <td>H</td>\n",
              "      <td>550</td>\n",
              "      <td>A+</td>\n",
              "      <td>95 TO 100</td>\n",
              "      <td>100</td>\n",
              "      <td>100582</td>\n",
              "    </tr>\n",
              "    <tr>\n",
              "      <th>171</th>\n",
              "      <td>522</td>\n",
              "      <td>1</td>\n",
              "      <td>OCONOMOWOC</td>\n",
              "      <td>IL</td>\n",
              "      <td>53066</td>\n",
              "      <td>THIRD PARTY (NON-CONSUMER)</td>\n",
              "      <td>40.00</td>\n",
              "      <td>42.16</td>\n",
              "      <td>28.60</td>\n",
              "      <td>51.06</td>\n",
              "      <td>48.94</td>\n",
              "      <td>2.29</td>\n",
              "      <td>97956000</td>\n",
              "      <td>CST</td>\n",
              "      <td>43.100129</td>\n",
              "      <td>-88.486611</td>\n",
              "      <td>H</td>\n",
              "      <td>920</td>\n",
              "      <td>B+</td>\n",
              "      <td>85 TO 89</td>\n",
              "      <td>86</td>\n",
              "      <td>128139</td>\n",
              "    </tr>\n",
              "    <tr>\n",
              "      <th>173</th>\n",
              "      <td>529</td>\n",
              "      <td>1</td>\n",
              "      <td>SYRACUSE</td>\n",
              "      <td>NY</td>\n",
              "      <td>13205</td>\n",
              "      <td>AT-WORK</td>\n",
              "      <td>61.28</td>\n",
              "      <td>30.31</td>\n",
              "      <td>41.50</td>\n",
              "      <td>55.39</td>\n",
              "      <td>44.61</td>\n",
              "      <td>1.21</td>\n",
              "      <td>23686000</td>\n",
              "      <td>EST</td>\n",
              "      <td>43.009006</td>\n",
              "      <td>-76.133864</td>\n",
              "      <td>I</td>\n",
              "      <td>2400</td>\n",
              "      <td>A+</td>\n",
              "      <td>95 TO 100</td>\n",
              "      <td>96</td>\n",
              "      <td>201471</td>\n",
              "    </tr>\n",
              "    <tr>\n",
              "      <th>217</th>\n",
              "      <td>788</td>\n",
              "      <td>1</td>\n",
              "      <td>POWAY</td>\n",
              "      <td>CA</td>\n",
              "      <td>92064</td>\n",
              "      <td>AT-WORK</td>\n",
              "      <td>48.58</td>\n",
              "      <td>16.39</td>\n",
              "      <td>47.92</td>\n",
              "      <td>54.36</td>\n",
              "      <td>45.64</td>\n",
              "      <td>2.38</td>\n",
              "      <td>96202000</td>\n",
              "      <td>PST</td>\n",
              "      <td>32.997136</td>\n",
              "      <td>-117.055791</td>\n",
              "      <td>H</td>\n",
              "      <td>800</td>\n",
              "      <td>B+</td>\n",
              "      <td>85 TO 89</td>\n",
              "      <td>88</td>\n",
              "      <td>146302</td>\n",
              "    </tr>\n",
              "    <tr>\n",
              "      <th>298</th>\n",
              "      <td>582</td>\n",
              "      <td>1</td>\n",
              "      <td>PHOENIX</td>\n",
              "      <td>AZ</td>\n",
              "      <td>85006</td>\n",
              "      <td>AT-WORK</td>\n",
              "      <td>34.70</td>\n",
              "      <td>78.36</td>\n",
              "      <td>26.39</td>\n",
              "      <td>46.62</td>\n",
              "      <td>53.38</td>\n",
              "      <td>2.49</td>\n",
              "      <td>24886000</td>\n",
              "      <td>MST</td>\n",
              "      <td>33.465674</td>\n",
              "      <td>-112.058792</td>\n",
              "      <td>I</td>\n",
              "      <td>3800</td>\n",
              "      <td>A+</td>\n",
              "      <td>95 TO 100</td>\n",
              "      <td>100</td>\n",
              "      <td>629829</td>\n",
              "    </tr>\n",
              "    <tr>\n",
              "      <th>304</th>\n",
              "      <td>621</td>\n",
              "      <td>1</td>\n",
              "      <td>FORT WAYNE</td>\n",
              "      <td>IN</td>\n",
              "      <td>46845</td>\n",
              "      <td>AT-WORK</td>\n",
              "      <td>35.05</td>\n",
              "      <td>20.72</td>\n",
              "      <td>51.14</td>\n",
              "      <td>50.00</td>\n",
              "      <td>50.00</td>\n",
              "      <td>3.03</td>\n",
              "      <td>81782000</td>\n",
              "      <td>EST</td>\n",
              "      <td>41.180940</td>\n",
              "      <td>-85.101941</td>\n",
              "      <td>I</td>\n",
              "      <td>4000</td>\n",
              "      <td>B+</td>\n",
              "      <td>85 TO 89</td>\n",
              "      <td>88</td>\n",
              "      <td>556016</td>\n",
              "    </tr>\n",
              "    <tr>\n",
              "      <th>311</th>\n",
              "      <td>678</td>\n",
              "      <td>1</td>\n",
              "      <td>JAMAICA</td>\n",
              "      <td>NY</td>\n",
              "      <td>11432</td>\n",
              "      <td>AT-WORK</td>\n",
              "      <td>38.67</td>\n",
              "      <td>34.45</td>\n",
              "      <td>48.78</td>\n",
              "      <td>51.32</td>\n",
              "      <td>48.68</td>\n",
              "      <td>3.21</td>\n",
              "      <td>90372000</td>\n",
              "      <td>EST</td>\n",
              "      <td>40.717359</td>\n",
              "      <td>-73.803610</td>\n",
              "      <td>I</td>\n",
              "      <td>2000</td>\n",
              "      <td>B+</td>\n",
              "      <td>85 TO 89</td>\n",
              "      <td>86</td>\n",
              "      <td>294789</td>\n",
              "    </tr>\n",
              "    <tr>\n",
              "      <th>321</th>\n",
              "      <td>725</td>\n",
              "      <td>1</td>\n",
              "      <td>SAN LUIS OBISPO</td>\n",
              "      <td>CA</td>\n",
              "      <td>93405</td>\n",
              "      <td>AT-WORK</td>\n",
              "      <td>23.46</td>\n",
              "      <td>38.37</td>\n",
              "      <td>36.30</td>\n",
              "      <td>42.96</td>\n",
              "      <td>57.04</td>\n",
              "      <td>2.57</td>\n",
              "      <td>23567000</td>\n",
              "      <td>PST</td>\n",
              "      <td>35.290970</td>\n",
              "      <td>-120.665282</td>\n",
              "      <td>H</td>\n",
              "      <td>500</td>\n",
              "      <td>A+</td>\n",
              "      <td>95 TO 100</td>\n",
              "      <td>96</td>\n",
              "      <td>112633</td>\n",
              "    </tr>\n",
              "    <tr>\n",
              "      <th>325</th>\n",
              "      <td>744</td>\n",
              "      <td>1</td>\n",
              "      <td>LAREDO</td>\n",
              "      <td>TX</td>\n",
              "      <td>78041</td>\n",
              "      <td>THIRD PARTY (NON-CONSUMER)</td>\n",
              "      <td>33.09</td>\n",
              "      <td>34.84</td>\n",
              "      <td>52.92</td>\n",
              "      <td>52.32</td>\n",
              "      <td>47.68</td>\n",
              "      <td>3.31</td>\n",
              "      <td>45651000</td>\n",
              "      <td>CST</td>\n",
              "      <td>27.533168</td>\n",
              "      <td>-99.478074</td>\n",
              "      <td>I</td>\n",
              "      <td>1500</td>\n",
              "      <td>A+</td>\n",
              "      <td>95 TO 100</td>\n",
              "      <td>98</td>\n",
              "      <td>222451</td>\n",
              "    </tr>\n",
              "    <tr>\n",
              "      <th>327</th>\n",
              "      <td>749</td>\n",
              "      <td>1</td>\n",
              "      <td>BETHLEHEM</td>\n",
              "      <td>PA</td>\n",
              "      <td>18017</td>\n",
              "      <td>THIRD PARTY (NON-CONSUMER)</td>\n",
              "      <td>62.34</td>\n",
              "      <td>31.17</td>\n",
              "      <td>44.72</td>\n",
              "      <td>61.98</td>\n",
              "      <td>38.02</td>\n",
              "      <td>1.33</td>\n",
              "      <td>29932000</td>\n",
              "      <td>EST</td>\n",
              "      <td>40.644637</td>\n",
              "      <td>-75.407893</td>\n",
              "      <td>I</td>\n",
              "      <td>2000</td>\n",
              "      <td>A+</td>\n",
              "      <td>95 TO 100</td>\n",
              "      <td>95</td>\n",
              "      <td>350909</td>\n",
              "    </tr>\n",
              "  </tbody>\n",
              "</table>\n",
              "</div>\n",
              "      <button class=\"colab-df-convert\" onclick=\"convertToInteractive('df-fafe2d8f-6cad-4489-9797-868ff2c11687')\"\n",
              "              title=\"Convert this dataframe to an interactive table.\"\n",
              "              style=\"display:none;\">\n",
              "        \n",
              "  <svg xmlns=\"http://www.w3.org/2000/svg\" height=\"24px\"viewBox=\"0 0 24 24\"\n",
              "       width=\"24px\">\n",
              "    <path d=\"M0 0h24v24H0V0z\" fill=\"none\"/>\n",
              "    <path d=\"M18.56 5.44l.94 2.06.94-2.06 2.06-.94-2.06-.94-.94-2.06-.94 2.06-2.06.94zm-11 1L8.5 8.5l.94-2.06 2.06-.94-2.06-.94L8.5 2.5l-.94 2.06-2.06.94zm10 10l.94 2.06.94-2.06 2.06-.94-2.06-.94-.94-2.06-.94 2.06-2.06.94z\"/><path d=\"M17.41 7.96l-1.37-1.37c-.4-.4-.92-.59-1.43-.59-.52 0-1.04.2-1.43.59L10.3 9.45l-7.72 7.72c-.78.78-.78 2.05 0 2.83L4 21.41c.39.39.9.59 1.41.59.51 0 1.02-.2 1.41-.59l7.78-7.78 2.81-2.81c.8-.78.8-2.07 0-2.86zM5.41 20L4 18.59l7.72-7.72 1.47 1.35L5.41 20z\"/>\n",
              "  </svg>\n",
              "      </button>\n",
              "      \n",
              "  <style>\n",
              "    .colab-df-container {\n",
              "      display:flex;\n",
              "      flex-wrap:wrap;\n",
              "      gap: 12px;\n",
              "    }\n",
              "\n",
              "    .colab-df-convert {\n",
              "      background-color: #E8F0FE;\n",
              "      border: none;\n",
              "      border-radius: 50%;\n",
              "      cursor: pointer;\n",
              "      display: none;\n",
              "      fill: #1967D2;\n",
              "      height: 32px;\n",
              "      padding: 0 0 0 0;\n",
              "      width: 32px;\n",
              "    }\n",
              "\n",
              "    .colab-df-convert:hover {\n",
              "      background-color: #E2EBFA;\n",
              "      box-shadow: 0px 1px 2px rgba(60, 64, 67, 0.3), 0px 1px 3px 1px rgba(60, 64, 67, 0.15);\n",
              "      fill: #174EA6;\n",
              "    }\n",
              "\n",
              "    [theme=dark] .colab-df-convert {\n",
              "      background-color: #3B4455;\n",
              "      fill: #D2E3FC;\n",
              "    }\n",
              "\n",
              "    [theme=dark] .colab-df-convert:hover {\n",
              "      background-color: #434B5C;\n",
              "      box-shadow: 0px 1px 3px 1px rgba(0, 0, 0, 0.15);\n",
              "      filter: drop-shadow(0px 1px 2px rgba(0, 0, 0, 0.3));\n",
              "      fill: #FFFFFF;\n",
              "    }\n",
              "  </style>\n",
              "\n",
              "      <script>\n",
              "        const buttonEl =\n",
              "          document.querySelector('#df-fafe2d8f-6cad-4489-9797-868ff2c11687 button.colab-df-convert');\n",
              "        buttonEl.style.display =\n",
              "          google.colab.kernel.accessAllowed ? 'block' : 'none';\n",
              "\n",
              "        async function convertToInteractive(key) {\n",
              "          const element = document.querySelector('#df-fafe2d8f-6cad-4489-9797-868ff2c11687');\n",
              "          const dataTable =\n",
              "            await google.colab.kernel.invokeFunction('convertToInteractive',\n",
              "                                                     [key], {});\n",
              "          if (!dataTable) return;\n",
              "\n",
              "          const docLinkHtml = 'Like what you see? Visit the ' +\n",
              "            '<a target=\"_blank\" href=https://colab.research.google.com/notebooks/data_table.ipynb>data table notebook</a>'\n",
              "            + ' to learn more about interactive tables.';\n",
              "          element.innerHTML = '';\n",
              "          dataTable['output_type'] = 'display_data';\n",
              "          await google.colab.output.renderOutput(dataTable, element);\n",
              "          const docLink = document.createElement('div');\n",
              "          docLink.innerHTML = docLinkHtml;\n",
              "          element.appendChild(docLink);\n",
              "        }\n",
              "      </script>\n",
              "    </div>\n",
              "  </div>\n",
              "  "
            ]
          },
          "metadata": {},
          "execution_count": 14
        }
      ]
    },
    {
      "cell_type": "code",
      "source": [
        "sns.boxplot(train_data_1.total_sales)"
      ],
      "metadata": {
        "colab": {
          "base_uri": "https://localhost:8080/",
          "height": 447
        },
        "id": "DobPICrnpXQe",
        "outputId": "1a00b5aa-90e4-44a4-9ff0-8f433bd28e3a"
      },
      "execution_count": 15,
      "outputs": [
        {
          "output_type": "execute_result",
          "data": {
            "text/plain": [
              "<Axes: >"
            ]
          },
          "metadata": {},
          "execution_count": 15
        },
        {
          "output_type": "display_data",
          "data": {
            "text/plain": [
              "<Figure size 640x480 with 1 Axes>"
            ],
            "image/png": "[encoded data removed]"
          },
          "metadata": {}
        }
      ]
    },
    {
      "cell_type": "code",
      "source": [
        "sns.countplot(train_data_1.business_type)"
      ],
      "metadata": {
        "colab": {
          "base_uri": "https://localhost:8080/",
          "height": 447
        },
        "id": "mMdQTAEfcDqt",
        "outputId": "8bdf160b-c940-42b0-dafe-fe29fc71413c"
      },
      "execution_count": 16,
      "outputs": [
        {
          "output_type": "execute_result",
          "data": {
            "text/plain": [
              "<Axes: ylabel='count'>"
            ]
          },
          "metadata": {},
          "execution_count": 16
        },
        {
          "output_type": "display_data",
          "data": {
            "text/plain": [
              "<Figure size 640x480 with 1 Axes>"
            ],
            "image/png": "[encoded data removed]"
          },
          "metadata": {}
        }
      ]
    },
    {
      "cell_type": "code",
      "source": [
        "sns.catplot(data=train_data_1, kind=\"swarm\", x=\"business_type\", y=\"total_sales\")"
      ],
      "metadata": {
        "colab": {
          "base_uri": "https://localhost:8080/",
          "height": 524
        },
        "id": "jyOA9O5ScZMi",
        "outputId": "c58b6b77-c4d4-4ef5-95c7-9054f741a732"
      },
      "execution_count": 17,
      "outputs": [
        {
          "output_type": "execute_result",
          "data": {
            "text/plain": [
              "<seaborn.axisgrid.FacetGrid at 0x7fac8ba1dc00>"
            ]
          },
          "metadata": {},
          "execution_count": 17
        },
        {
          "output_type": "display_data",
          "data": {
            "text/plain": [
              "<Figure size 500x500 with 1 Axes>"
            ],
            "image/png": "[encoded data removed]"
          },
          "metadata": {}
        }
      ]
    },
    {
      "cell_type": "code",
      "source": [
        "train_data_1.city.value_counts().sort_values(ascending=False)[:15]"
      ],
      "metadata": {
        "colab": {
          "base_uri": "https://localhost:8080/"
        },
        "id": "9NY9TPDhibxf",
        "outputId": "2dae9fe5-6ed7-40ad-a61a-d29b876612fd"
      },
      "execution_count": 18,
      "outputs": [
        {
          "output_type": "execute_result",
          "data": {
            "text/plain": [
              "SAN ANTONIO         14\n",
              "SHREVEPORT          10\n",
              "MCALLEN              9\n",
              "BETHLEHEM            9\n",
              "GLASGOW              8\n",
              "DAYTON               7\n",
              "PITTSBURGH           7\n",
              "BOWLING GREEN        7\n",
              "HOUSTON              6\n",
              "RAPID CITY           6\n",
              "OKLAHOMA CITY        6\n",
              "WEST VALLEY CITY     5\n",
              "MEADVILLE            5\n",
              "CINCINNATI           5\n",
              "SILVER SPRING        5\n",
              "Name: city, dtype: int64"
            ]
          },
          "metadata": {},
          "execution_count": 18
        }
      ]
    },
    {
      "cell_type": "code",
      "source": [
        "top_cities = train_data_1.city.value_counts().sort_values(ascending=False)[:15].index\n",
        "top_cities"
      ],
      "metadata": {
        "colab": {
          "base_uri": "https://localhost:8080/"
        },
        "id": "BPGC_2BZioT1",
        "outputId": "1b28ea2d-80a3-44f3-bfcc-36dfe3fac9aa"
      },
      "execution_count": 19,
      "outputs": [
        {
          "output_type": "execute_result",
          "data": {
            "text/plain": [
              "Index(['SAN ANTONIO', 'SHREVEPORT', 'MCALLEN', 'BETHLEHEM', 'GLASGOW',\n",
              "       'DAYTON', 'PITTSBURGH', 'BOWLING GREEN', 'HOUSTON', 'RAPID CITY',\n",
              "       'OKLAHOMA CITY', 'WEST VALLEY CITY', 'MEADVILLE', 'CINCINNATI',\n",
              "       'SILVER SPRING'],\n",
              "      dtype='object')"
            ]
          },
          "metadata": {},
          "execution_count": 19
        }
      ]
    },
    {
      "cell_type": "code",
      "source": [
        "top_city_data = train_data_1[train_data_1.apply(lambda x:x.city in top_cities, axis='columns')]\n",
        "\n",
        "sns.catplot(data=top_city_data, y='city', x='total_sales', )"
      ],
      "metadata": {
        "colab": {
          "base_uri": "https://localhost:8080/",
          "height": 523
        },
        "id": "_P2MmzAPjnx1",
        "outputId": "fc337c53-d002-41a2-8107-1fd3c11650d6"
      },
      "execution_count": 20,
      "outputs": [
        {
          "output_type": "execute_result",
          "data": {
            "text/plain": [
              "<seaborn.axisgrid.FacetGrid at 0x7fac8b89fdf0>"
            ]
          },
          "metadata": {},
          "execution_count": 20
        },
        {
          "output_type": "display_data",
          "data": {
            "text/plain": [
              "<Figure size 500x500 with 1 Axes>"
            ],
            "image/png": "[encoded data removed]"
          },
          "metadata": {}
        }
      ]
    },
    {
      "cell_type": "code",
      "source": [
        "train_data_1.store_location.value_counts()      "
      ],
      "metadata": {
        "colab": {
          "base_uri": "https://localhost:8080/"
        },
        "id": "bnCvLk5ej4ps",
        "outputId": "7dc6913d-0b00-4cf5-86d4-15f99f02bd63"
      },
      "execution_count": 21,
      "outputs": [
        {
          "output_type": "execute_result",
          "data": {
            "text/plain": [
              "AT-WORK                              168\n",
              "THIRD PARTY (NON-CONSUMER)           106\n",
              "EATING & DRINKING                     29\n",
              "OTHER SHOPPING & SERVICES             12\n",
              "TRAVEL/TRANSPORTATION/HOSPITALITY      6\n",
              "EDUCATIONAL                            6\n",
              "ENTERTAINMENT/RECREATION/LEISURE       3\n",
              "GROCERY SHOPPING                       1\n",
              "Name: store_location, dtype: int64"
            ]
          },
          "metadata": {},
          "execution_count": 21
        }
      ]
    },
    {
      "cell_type": "code",
      "source": [
        "sns.catplot(data=train_data_1, x='store_location', y='total_sales')\n",
        "plt.xticks(rotation=90)\n",
        "plt.show()"
      ],
      "metadata": {
        "colab": {
          "base_uri": "https://localhost:8080/",
          "height": 766
        },
        "id": "3vFEHBnXlR_t",
        "outputId": "fac08a9e-8344-4f18-9f0a-58cff3024b62"
      },
      "execution_count": 22,
      "outputs": [
        {
          "output_type": "display_data",
          "data": {
            "text/plain": [
              "<Figure size 500x500 with 1 Axes>"
            ],
            "image/png": "[encoded data removed]"
          },
          "metadata": {}
        }
      ]
    },
    {
      "cell_type": "code",
      "source": [
        "sns.scatterplot(data=train_data_1, x='avg_age', y='total_sales')              "
      ],
      "metadata": {
        "colab": {
          "base_uri": "https://localhost:8080/",
          "height": 466
        },
        "id": "0Jd4g9NXltcZ",
        "outputId": "e162cbaa-9da1-457e-fcb7-5e0c44118397"
      },
      "execution_count": 23,
      "outputs": [
        {
          "output_type": "execute_result",
          "data": {
            "text/plain": [
              "<Axes: xlabel='avg_age', ylabel='total_sales'>"
            ]
          },
          "metadata": {},
          "execution_count": 23
        },
        {
          "output_type": "display_data",
          "data": {
            "text/plain": [
              "<Figure size 640x480 with 1 Axes>"
            ],
            "image/png": "[encoded data removed]"
          },
          "metadata": {}
        }
      ]
    },
    {
      "cell_type": "code",
      "source": [
        "sns.histplot(train_data_1.blue_collar)"
      ],
      "metadata": {
        "colab": {
          "base_uri": "https://localhost:8080/",
          "height": 467
        },
        "id": "9Wyp1qVFsu5p",
        "outputId": "d4e20c0f-d0a3-44a8-bdae-960245ea50c9"
      },
      "execution_count": 24,
      "outputs": [
        {
          "output_type": "execute_result",
          "data": {
            "text/plain": [
              "<Axes: xlabel='blue_collar', ylabel='Count'>"
            ]
          },
          "metadata": {},
          "execution_count": 24
        },
        {
          "output_type": "display_data",
          "data": {
            "text/plain": [
              "<Figure size 640x480 with 1 Axes>"
            ],
            "image/png": "[encoded data removed]"
          },
          "metadata": {}
        }
      ]
    },
    {
      "cell_type": "code",
      "source": [
        "sns.scatterplot(data=train_data_1, x='blue_collar', y='total_sales')   "
      ],
      "metadata": {
        "colab": {
          "base_uri": "https://localhost:8080/",
          "height": 467
        },
        "id": "Ddw75C7CsOOH",
        "outputId": "8ddf6fe0-9f53-4a8b-ec89-ad2111387edf"
      },
      "execution_count": 25,
      "outputs": [
        {
          "output_type": "execute_result",
          "data": {
            "text/plain": [
              "<Axes: xlabel='blue_collar', ylabel='total_sales'>"
            ]
          },
          "metadata": {},
          "execution_count": 25
        },
        {
          "output_type": "display_data",
          "data": {
            "text/plain": [
              "<Figure size 640x480 with 1 Axes>"
            ],
            "image/png": "[encoded data removed]"
          },
          "metadata": {}
        }
      ]
    },
    {
      "cell_type": "code",
      "source": [
        "sns.histplot(train_data_1.white_collar)"
      ],
      "metadata": {
        "colab": {
          "base_uri": "https://localhost:8080/",
          "height": 467
        },
        "id": "bzupqUiBsmBT",
        "outputId": "8c2846e4-cc40-462a-8988-a0e311d17877"
      },
      "execution_count": 26,
      "outputs": [
        {
          "output_type": "execute_result",
          "data": {
            "text/plain": [
              "<Axes: xlabel='white_collar', ylabel='Count'>"
            ]
          },
          "metadata": {},
          "execution_count": 26
        },
        {
          "output_type": "display_data",
          "data": {
            "text/plain": [
              "<Figure size 640x480 with 1 Axes>"
            ],
            "image/png": "[encoded data removed]"
          },
          "metadata": {}
        }
      ]
    },
    {
      "cell_type": "code",
      "source": [
        "sns.scatterplot(data=train_data_1, x='white_collar', y='total_sales')  "
      ],
      "metadata": {
        "colab": {
          "base_uri": "https://localhost:8080/",
          "height": 467
        },
        "id": "GZFuXZzGsRX4",
        "outputId": "8ad3882a-2041-4c8f-afde-9a96bf581941"
      },
      "execution_count": 27,
      "outputs": [
        {
          "output_type": "execute_result",
          "data": {
            "text/plain": [
              "<Axes: xlabel='white_collar', ylabel='total_sales'>"
            ]
          },
          "metadata": {},
          "execution_count": 27
        },
        {
          "output_type": "display_data",
          "data": {
            "text/plain": [
              "<Figure size 640x480 with 1 Axes>"
            ],
            "image/png": "[encoded data removed]"
          },
          "metadata": {}
        }
      ]
    },
    {
      "cell_type": "code",
      "source": [
        "sns.histplot(train_data_1.male)"
      ],
      "metadata": {
        "colab": {
          "base_uri": "https://localhost:8080/",
          "height": 466
        },
        "id": "iQfEUi7QsXs3",
        "outputId": "f1dcec05-b1f1-4133-c152-a2b48d175c70"
      },
      "execution_count": 28,
      "outputs": [
        {
          "output_type": "execute_result",
          "data": {
            "text/plain": [
              "<Axes: xlabel='male', ylabel='Count'>"
            ]
          },
          "metadata": {},
          "execution_count": 28
        },
        {
          "output_type": "display_data",
          "data": {
            "text/plain": [
              "<Figure size 640x480 with 1 Axes>"
            ],
            "image/png": "[encoded data removed]"
          },
          "metadata": {}
        }
      ]
    },
    {
      "cell_type": "code",
      "source": [
        "sns.scatterplot(data=train_data_1, x='male', y='total_sales')  "
      ],
      "metadata": {
        "colab": {
          "base_uri": "https://localhost:8080/",
          "height": 466
        },
        "id": "PM5dN90ix3Dk",
        "outputId": "ce694e12-ef59-47cc-c461-44e6b2a97ac5"
      },
      "execution_count": 29,
      "outputs": [
        {
          "output_type": "execute_result",
          "data": {
            "text/plain": [
              "<Axes: xlabel='male', ylabel='total_sales'>"
            ]
          },
          "metadata": {},
          "execution_count": 29
        },
        {
          "output_type": "display_data",
          "data": {
            "text/plain": [
              "<Figure size 640x480 with 1 Axes>"
            ],
            "image/png": "[encoded data removed]"
          },
          "metadata": {}
        }
      ]
    },
    {
      "cell_type": "code",
      "source": [
        "sns.histplot(train_data_1.female)"
      ],
      "metadata": {
        "colab": {
          "base_uri": "https://localhost:8080/",
          "height": 466
        },
        "id": "nM8hLFM4x7CF",
        "outputId": "fc199ba7-95f3-4966-bf73-983265c11fdd"
      },
      "execution_count": 30,
      "outputs": [
        {
          "output_type": "execute_result",
          "data": {
            "text/plain": [
              "<Axes: xlabel='female', ylabel='Count'>"
            ]
          },
          "metadata": {},
          "execution_count": 30
        },
        {
          "output_type": "display_data",
          "data": {
            "text/plain": [
              "<Figure size 640x480 with 1 Axes>"
            ],
            "image/png": "[encoded data removed]"
          },
          "metadata": {}
        }
      ]
    },
    {
      "cell_type": "code",
      "source": [
        "sns.scatterplot(data=train_data_1, x='female', y='total_sales') "
      ],
      "metadata": {
        "colab": {
          "base_uri": "https://localhost:8080/",
          "height": 466
        },
        "id": "zyvAjMEsyAan",
        "outputId": "7e6d7700-0afc-4c0a-cda8-192ea4bf9e8d"
      },
      "execution_count": 31,
      "outputs": [
        {
          "output_type": "execute_result",
          "data": {
            "text/plain": [
              "<Axes: xlabel='female', ylabel='total_sales'>"
            ]
          },
          "metadata": {},
          "execution_count": 31
        },
        {
          "output_type": "display_data",
          "data": {
            "text/plain": [
              "<Figure size 640x480 with 1 Axes>"
            ],
            "image/png": "[encoded data removed]"
          },
          "metadata": {}
        }
      ]
    },
    {
      "cell_type": "code",
      "source": [
        "train_data_1['total_household_income'].plot(kind='box')"
      ],
      "metadata": {
        "colab": {
          "base_uri": "https://localhost:8080/",
          "height": 462
        },
        "id": "62zNAXG8yHwE",
        "outputId": "fa458ff7-455d-461a-9bb0-cce3213d0153"
      },
      "execution_count": 32,
      "outputs": [
        {
          "output_type": "execute_result",
          "data": {
            "text/plain": [
              "<Axes: >"
            ]
          },
          "metadata": {},
          "execution_count": 32
        },
        {
          "output_type": "display_data",
          "data": {
            "text/plain": [
              "<Figure size 640x480 with 1 Axes>"
            ],
            "image/png": "[encoded data removed]"
          },
          "metadata": {}
        }
      ]
    },
    {
      "cell_type": "code",
      "source": [
        "sns.scatterplot(data=train_data_1[train_data_1.total_household_income < 1.5 * 10**8], x='total_household_income', y='total_sales') "
      ],
      "metadata": {
        "colab": {
          "base_uri": "https://localhost:8080/",
          "height": 467
        },
        "id": "ez_AnsY-yVjc",
        "outputId": "a9f7a4ba-c3da-47e4-c2b7-476bea4926bd"
      },
      "execution_count": 33,
      "outputs": [
        {
          "output_type": "execute_result",
          "data": {
            "text/plain": [
              "<Axes: xlabel='total_household_income', ylabel='total_sales'>"
            ]
          },
          "metadata": {},
          "execution_count": 33
        },
        {
          "output_type": "display_data",
          "data": {
            "text/plain": [
              "<Figure size 640x480 with 1 Axes>"
            ],
            "image/png": "[encoded data removed]"
          },
          "metadata": {}
        }
      ]
    },
    {
      "cell_type": "code",
      "source": [
        "sns.histplot(train_data_1.employee_size)"
      ],
      "metadata": {
        "colab": {
          "base_uri": "https://localhost:8080/",
          "height": 467
        },
        "id": "uIocsSGrzuHi",
        "outputId": "220641c7-6f5c-4fdb-aa75-c25d6a71c0b1"
      },
      "execution_count": 34,
      "outputs": [
        {
          "output_type": "execute_result",
          "data": {
            "text/plain": [
              "<Axes: xlabel='employee_size', ylabel='Count'>"
            ]
          },
          "metadata": {},
          "execution_count": 34
        },
        {
          "output_type": "display_data",
          "data": {
            "text/plain": [
              "<Figure size 640x480 with 1 Axes>"
            ],
            "image/png": "[encoded data removed]"
          },
          "metadata": {}
        }
      ]
    },
    {
      "cell_type": "code",
      "source": [
        "sns.boxplot(train_data_1.employee_size)"
      ],
      "metadata": {
        "colab": {
          "base_uri": "https://localhost:8080/",
          "height": 447
        },
        "id": "jmnKcxoiz0mK",
        "outputId": "e73b96ce-020d-4efa-f149-067eeaff26d4"
      },
      "execution_count": 35,
      "outputs": [
        {
          "output_type": "execute_result",
          "data": {
            "text/plain": [
              "<Axes: >"
            ]
          },
          "metadata": {},
          "execution_count": 35
        },
        {
          "output_type": "display_data",
          "data": {
            "text/plain": [
              "<Figure size 640x480 with 1 Axes>"
            ],
            "image/png": "[encoded data removed]"
          },
          "metadata": {}
        }
      ]
    },
    {
      "cell_type": "code",
      "source": [
        "sns.scatterplot(data=train_data_1[train_data_1.employee_size < 400], x='employee_size', y='total_sales') "
      ],
      "metadata": {
        "colab": {
          "base_uri": "https://localhost:8080/",
          "height": 467
        },
        "id": "7Hz2ehYzz6ZS",
        "outputId": "869f29da-ea35-40ea-d3d4-cc04e3c74053"
      },
      "execution_count": 36,
      "outputs": [
        {
          "output_type": "execute_result",
          "data": {
            "text/plain": [
              "<Axes: xlabel='employee_size', ylabel='total_sales'>"
            ]
          },
          "metadata": {},
          "execution_count": 36
        },
        {
          "output_type": "display_data",
          "data": {
            "text/plain": [
              "<Figure size 640x480 with 1 Axes>"
            ],
            "image/png": "[encoded data removed]"
          },
          "metadata": {}
        }
      ]
    },
    {
      "cell_type": "code",
      "source": [
        "train_data_1.credit_score"
      ],
      "metadata": {
        "id": "0JITbwy7UpGQ",
        "colab": {
          "base_uri": "https://localhost:8080/"
        },
        "outputId": "5d987bb3-a7b8-482f-926f-3d23ff2a74b4"
      },
      "execution_count": 37,
      "outputs": [
        {
          "output_type": "execute_result",
          "data": {
            "text/plain": [
              "0       B\n",
              "1       A\n",
              "2      A+\n",
              "3      B+\n",
              "4       P\n",
              "5       A\n",
              "6      B+\n",
              "7      B+\n",
              "8       A\n",
              "9      B+\n",
              "10     A+\n",
              "11     A+\n",
              "12      A\n",
              "13     A+\n",
              "14     C+\n",
              "15     B+\n",
              "16     A+\n",
              "17      B\n",
              "18      A\n",
              "19      A\n",
              "20      A\n",
              "21      A\n",
              "22     C+\n",
              "23     C+\n",
              "24      A\n",
              "25      A\n",
              "26     B+\n",
              "27     A+\n",
              "28     A+\n",
              "29      A\n",
              "30     B+\n",
              "31      B\n",
              "32     A+\n",
              "33     B+\n",
              "34      A\n",
              "35      A\n",
              "36     A+\n",
              "37     A+\n",
              "38     B+\n",
              "39      I\n",
              "41     B+\n",
              "42     A+\n",
              "43     A+\n",
              "44     A+\n",
              "45      A\n",
              "46     A+\n",
              "47     A+\n",
              "48     A+\n",
              "49     B+\n",
              "50      B\n",
              "51     A+\n",
              "52      A\n",
              "53      A\n",
              "54     A+\n",
              "55     B+\n",
              "56      A\n",
              "57      A\n",
              "58     B+\n",
              "59     C+\n",
              "60     B+\n",
              "61     C+\n",
              "62      A\n",
              "64     A+\n",
              "65     B+\n",
              "66      B\n",
              "67     B+\n",
              "68     B+\n",
              "69     B+\n",
              "70     A+\n",
              "71      A\n",
              "72     A+\n",
              "73     C+\n",
              "74      B\n",
              "75     B+\n",
              "76      B\n",
              "77      B\n",
              "78     C+\n",
              "79     B+\n",
              "80      B\n",
              "81      B\n",
              "82     A+\n",
              "83      A\n",
              "84      A\n",
              "85     B+\n",
              "86     A+\n",
              "87     B+\n",
              "88     B+\n",
              "89     B+\n",
              "90     B+\n",
              "91     B+\n",
              "92      A\n",
              "93      A\n",
              "94      A\n",
              "95      A\n",
              "96      B\n",
              "97      P\n",
              "98      B\n",
              "99     A+\n",
              "100    A+\n",
              "101    A+\n",
              "102     B\n",
              "103     A\n",
              "104    B+\n",
              "105    A+\n",
              "106     A\n",
              "107     A\n",
              "108    B+\n",
              "109    A+\n",
              "110     B\n",
              "111    A+\n",
              "112    A+\n",
              "113    A+\n",
              "114    B+\n",
              "115     A\n",
              "116     B\n",
              "117     A\n",
              "118     B\n",
              "120     P\n",
              "121     A\n",
              "122    B+\n",
              "123    A+\n",
              "124     A\n",
              "125    A+\n",
              "126    A+\n",
              "127    B+\n",
              "128     B\n",
              "129    B+\n",
              "130    A+\n",
              "131     A\n",
              "132    B+\n",
              "133    C+\n",
              "134    A+\n",
              "135    A+\n",
              "136    A+\n",
              "137    B+\n",
              "139    B+\n",
              "140    A+\n",
              "141    C+\n",
              "142    A+\n",
              "143    B+\n",
              "144    B+\n",
              "145     B\n",
              "146     B\n",
              "147     P\n",
              "148     B\n",
              "149     A\n",
              "150    B+\n",
              "151    A+\n",
              "152     A\n",
              "153    B+\n",
              "154    B+\n",
              "155    A+\n",
              "156    A+\n",
              "157    A+\n",
              "158    A+\n",
              "159    B+\n",
              "160     A\n",
              "161     A\n",
              "162     A\n",
              "163     A\n",
              "164    A+\n",
              "165     A\n",
              "166     B\n",
              "167    A+\n",
              "168     A\n",
              "169    A+\n",
              "170    B+\n",
              "172    B+\n",
              "174    A+\n",
              "175    A+\n",
              "176     A\n",
              "177     C\n",
              "178    C+\n",
              "179    A+\n",
              "180    C+\n",
              "181    C+\n",
              "182    B+\n",
              "183     A\n",
              "184    C+\n",
              "185     A\n",
              "186    A+\n",
              "187    A+\n",
              "188    A+\n",
              "189     A\n",
              "190    A+\n",
              "191     A\n",
              "192    C+\n",
              "193     B\n",
              "194    A+\n",
              "195    B+\n",
              "196     I\n",
              "197    A+\n",
              "198     B\n",
              "199    B+\n",
              "200    B+\n",
              "201     A\n",
              "202    A+\n",
              "203    B+\n",
              "204     B\n",
              "205    A+\n",
              "206     C\n",
              "207     A\n",
              "208    B+\n",
              "209     A\n",
              "210    B+\n",
              "211    A+\n",
              "212     A\n",
              "213    B+\n",
              "214     A\n",
              "215     A\n",
              "216    B+\n",
              "218     B\n",
              "219     B\n",
              "220    A+\n",
              "221     A\n",
              "222    A+\n",
              "223    B+\n",
              "224     A\n",
              "225     A\n",
              "226     C\n",
              "227     B\n",
              "228     A\n",
              "229     B\n",
              "230    A+\n",
              "231    B+\n",
              "232    C+\n",
              "233    B+\n",
              "234    A+\n",
              "235    A+\n",
              "236    B+\n",
              "237    B+\n",
              "238     P\n",
              "239    B+\n",
              "240    A+\n",
              "241     A\n",
              "242     C\n",
              "243     A\n",
              "244     I\n",
              "245    A+\n",
              "246    A+\n",
              "247     B\n",
              "248    A+\n",
              "249    A+\n",
              "250    B+\n",
              "251    A+\n",
              "252     A\n",
              "253     A\n",
              "254    A+\n",
              "255     A\n",
              "256    A+\n",
              "257     A\n",
              "258    A+\n",
              "259    B+\n",
              "260     A\n",
              "261     A\n",
              "262    A+\n",
              "263     A\n",
              "264    B+\n",
              "265    B+\n",
              "266     A\n",
              "267     A\n",
              "268     A\n",
              "269    A+\n",
              "270    B+\n",
              "271     B\n",
              "272    B+\n",
              "273     B\n",
              "274    B+\n",
              "275     A\n",
              "276     U\n",
              "277     A\n",
              "278    A+\n",
              "279     A\n",
              "280     I\n",
              "281     I\n",
              "282     A\n",
              "283     B\n",
              "284     B\n",
              "285    A+\n",
              "286     B\n",
              "287    B+\n",
              "288     B\n",
              "289     A\n",
              "290    A+\n",
              "291     B\n",
              "292     A\n",
              "293     A\n",
              "294    B+\n",
              "295    C+\n",
              "296    A+\n",
              "297     B\n",
              "299     P\n",
              "300    A+\n",
              "301    B+\n",
              "302    A+\n",
              "303    A+\n",
              "305    A+\n",
              "306    B+\n",
              "307     A\n",
              "308     A\n",
              "309    C+\n",
              "310     A\n",
              "312     C\n",
              "313    A+\n",
              "314    A+\n",
              "315    A+\n",
              "316     A\n",
              "317     A\n",
              "318     B\n",
              "319     A\n",
              "320     A\n",
              "322     A\n",
              "323    B+\n",
              "324     A\n",
              "326    A+\n",
              "328     A\n",
              "329    B+\n",
              "330    A+\n",
              "331    B+\n",
              "332     B\n",
              "333     B\n",
              "334     B\n",
              "335     A\n",
              "336     C\n",
              "337    A+\n",
              "338    B+\n",
              "339    B+\n",
              "340    B+\n",
              "341     A\n",
              "342    C+\n",
              "343    B+\n",
              "Name: credit_score, dtype: object"
            ]
          },
          "metadata": {},
          "execution_count": 37
        }
      ]
    },
    {
      "cell_type": "code",
      "source": [
        "sns.countplot(data=train_data_1, x='credit_score')"
      ],
      "metadata": {
        "colab": {
          "base_uri": "https://localhost:8080/",
          "height": 467
        },
        "id": "PAOD6ZrE0E8p",
        "outputId": "2bdcdef4-4db1-4677-b747-3921f73c332d"
      },
      "execution_count": 38,
      "outputs": [
        {
          "output_type": "execute_result",
          "data": {
            "text/plain": [
              "<Axes: xlabel='credit_score', ylabel='count'>"
            ]
          },
          "metadata": {},
          "execution_count": 38
        },
        {
          "output_type": "display_data",
          "data": {
            "text/plain": [
              "<Figure size 640x480 with 1 Axes>"
            ],
            "image/png": "[encoded data removed]"
          },
          "metadata": {}
        }
      ]
    },
    {
      "cell_type": "code",
      "source": [
        "sns.catplot(data=train_data_1, x='credit_score', y='total_sales')"
      ],
      "metadata": {
        "colab": {
          "base_uri": "https://localhost:8080/",
          "height": 524
        },
        "id": "9CC9NQtZ0Rlu",
        "outputId": "18f59200-8eaf-4c24-db43-d665c6f11510"
      },
      "execution_count": 39,
      "outputs": [
        {
          "output_type": "execute_result",
          "data": {
            "text/plain": [
              "<seaborn.axisgrid.FacetGrid at 0x7fac8adda7a0>"
            ]
          },
          "metadata": {},
          "execution_count": 39
        },
        {
          "output_type": "display_data",
          "data": {
            "text/plain": [
              "<Figure size 500x500 with 1 Axes>"
            ],
            "image/png": "[encoded data removed]"
          },
          "metadata": {}
        }
      ]
    },
    {
      "cell_type": "markdown",
      "source": [
        "#### Feature Engineering"
      ],
      "metadata": {
        "id": "oynOGKHuba5O"
      }
    },
    {
      "cell_type": "markdown",
      "source": [
        "##### Remove outliers\n",
        "  - Where total sales is  very high\n",
        "  - employee_size\n",
        "  - total_household_income"
      ],
      "metadata": {
        "id": "2p-lwW4OcPPT"
      }
    },
    {
      "cell_type": "code",
      "source": [
        "sns.boxplot(train_data.total_sales)"
      ],
      "metadata": {
        "colab": {
          "base_uri": "https://localhost:8080/",
          "height": 462
        },
        "id": "fXQyh9du0ZNX",
        "outputId": "b844d834-4407-47ee-fb68-499b8c448429"
      },
      "execution_count": 40,
      "outputs": [
        {
          "output_type": "execute_result",
          "data": {
            "text/plain": [
              "<Axes: >"
            ]
          },
          "metadata": {},
          "execution_count": 40
        },
        {
          "output_type": "display_data",
          "data": {
            "text/plain": [
              "<Figure size 640x480 with 1 Axes>"
            ],
            "image/png": "[encoded data removed]"
          },
          "metadata": {}
        }
      ]
    },
    {
      "cell_type": "code",
      "source": [
        "train_data.total_sales.sort_values(ascending=False)[:15]"
      ],
      "metadata": {
        "colab": {
          "base_uri": "https://localhost:8080/"
        },
        "id": "DSoUudtmbkEh",
        "outputId": "7c8613bd-4e30-49f0-9cf9-93089ce25279"
      },
      "execution_count": 41,
      "outputs": [
        {
          "output_type": "execute_result",
          "data": {
            "text/plain": [
              "119    1424392\n",
              "298     629829\n",
              "304     556016\n",
              "327     350909\n",
              "63      321475\n",
              "311     294789\n",
              "40      232757\n",
              "325     222451\n",
              "173     201471\n",
              "217     146302\n",
              "171     128139\n",
              "321     112633\n",
              "138     100582\n",
              "236      91438\n",
              "302      90388\n",
              "Name: total_sales, dtype: int64"
            ]
          },
          "metadata": {},
          "execution_count": 41
        }
      ]
    },
    {
      "cell_type": "code",
      "source": [
        "max_total_sales = 556016"
      ],
      "metadata": {
        "id": "xZTM9IGAdw0s"
      },
      "execution_count": 42,
      "outputs": []
    },
    {
      "cell_type": "code",
      "source": [
        "sns.boxplot(train_data.employee_size)"
      ],
      "metadata": {
        "colab": {
          "base_uri": "https://localhost:8080/",
          "height": 447
        },
        "id": "yp2OuvIld-7r",
        "outputId": "5d27eadf-bec8-493c-eb48-c2ba8774639d"
      },
      "execution_count": 43,
      "outputs": [
        {
          "output_type": "execute_result",
          "data": {
            "text/plain": [
              "<Axes: >"
            ]
          },
          "metadata": {},
          "execution_count": 43
        },
        {
          "output_type": "display_data",
          "data": {
            "text/plain": [
              "<Figure size 640x480 with 1 Axes>"
            ],
            "image/png": "[encoded data removed]"
          },
          "metadata": {}
        }
      ]
    },
    {
      "cell_type": "code",
      "source": [
        "train_data.employee_size.sort_values(ascending=False)[:10]"
      ],
      "metadata": {
        "colab": {
          "base_uri": "https://localhost:8080/"
        },
        "id": "TLKOW-P6eEbp",
        "outputId": "b9468d8a-eeb0-4c85-c5a0-8ea60028e7aa"
      },
      "execution_count": 44,
      "outputs": [
        {
          "output_type": "execute_result",
          "data": {
            "text/plain": [
              "119    10000\n",
              "63      5001\n",
              "304     4000\n",
              "298     3800\n",
              "173     2400\n",
              "311     2000\n",
              "327     2000\n",
              "40      1501\n",
              "325     1500\n",
              "165     1300\n",
              "Name: employee_size, dtype: int64"
            ]
          },
          "metadata": {},
          "execution_count": 44
        }
      ]
    },
    {
      "cell_type": "code",
      "source": [
        "max_employee_size = 5001"
      ],
      "metadata": {
        "id": "AnP3MsQieMj2"
      },
      "execution_count": 45,
      "outputs": []
    },
    {
      "cell_type": "code",
      "source": [
        "sns.boxplot(train_data.total_household_income)"
      ],
      "metadata": {
        "colab": {
          "base_uri": "https://localhost:8080/",
          "height": 462
        },
        "id": "jLpXtoebemL5",
        "outputId": "9eafeae2-dfd9-4dcd-84ea-9f0ca3f0eb6c"
      },
      "execution_count": 46,
      "outputs": [
        {
          "output_type": "execute_result",
          "data": {
            "text/plain": [
              "<Axes: >"
            ]
          },
          "metadata": {},
          "execution_count": 46
        },
        {
          "output_type": "display_data",
          "data": {
            "text/plain": [
              "<Figure size 640x480 with 1 Axes>"
            ],
            "image/png": "[encoded data removed]"
          },
          "metadata": {}
        }
      ]
    },
    {
      "cell_type": "code",
      "source": [
        "train_data.total_household_income.sort_values(ascending=False)[:10]"
      ],
      "metadata": {
        "colab": {
          "base_uri": "https://localhost:8080/"
        },
        "id": "LNX-B2KdeuuP",
        "outputId": "6b721f0f-df9a-4fc3-b03a-1f3c48ca3e61"
      },
      "execution_count": 47,
      "outputs": [
        {
          "output_type": "execute_result",
          "data": {
            "text/plain": [
              "340    221859000\n",
              "150    178569000\n",
              "188    177903000\n",
              "117    161784000\n",
              "127    142706000\n",
              "27     141521000\n",
              "288    139645000\n",
              "94     139005000\n",
              "293    131760000\n",
              "270    131522000\n",
              "Name: total_household_income, dtype: int64"
            ]
          },
          "metadata": {},
          "execution_count": 47
        }
      ]
    },
    {
      "cell_type": "code",
      "source": [
        "max_total_household_income = 221859000"
      ],
      "metadata": {
        "id": "tZ2EjZKIe2NC"
      },
      "execution_count": 48,
      "outputs": []
    },
    {
      "cell_type": "code",
      "source": [
        "filt = (train_data.total_sales < max_total_sales) & (train_data.employee_size < max_employee_size) & (train_data.total_household_income < max_total_household_income)\n",
        "train_data_wo = train_data[filt]\n",
        "train_data_wo.head()"
      ],
      "metadata": {
        "colab": {
          "base_uri": "https://localhost:8080/",
          "height": 288
        },
        "id": "Y3jjBHsmfC0l",
        "outputId": "8f03e4a5-e207-4f26-c113-2a6daa0da10b"
      },
      "execution_count": 49,
      "outputs": [
        {
          "output_type": "execute_result",
          "data": {
            "text/plain": [
              "   outlet_no  business_type           city state    zip  \\\n",
              "0        247              1           LIMA    OH  45804   \n",
              "1        253              4      VACAVILLE    CA  95687   \n",
              "2        265              4     CINCINNATI    OH  45219   \n",
              "3        267              1        GLASGOW    KY  42141   \n",
              "4        276              1  BOWLING GREEN    KY  42101   \n",
              "\n",
              "                      store_location  avg_age  blue_collar  white_collar  \\\n",
              "0  TRAVEL/TRANSPORTATION/HOSPITALITY    44.01        43.68         35.41   \n",
              "1                            AT-WORK    38.36        41.31         26.48   \n",
              "2                        EDUCATIONAL    28.81        17.22         43.06   \n",
              "3                            AT-WORK    42.89        38.49         44.00   \n",
              "4                  EATING & DRINKING    38.82        60.82         26.24   \n",
              "\n",
              "   female   male  total_household_size   total_household_income time_zone  \\\n",
              "0   53.37  46.63                   2.24                63860000       EST   \n",
              "1   54.00  46.00                   2.54                92764000       PST   \n",
              "2   45.56  54.44                   1.90                51027000       EST   \n",
              "3   52.41  47.59                   2.24                47119000       CST   \n",
              "4   54.18  45.82                   1.93                47941000       CST   \n",
              "\n",
              "    latitude   longitude location_employee_code  employee_size credit_score  \\\n",
              "0  40.704283  -84.147047                      E             70            B   \n",
              "1  38.354860 -121.950360                      D             35            A   \n",
              "2  39.136100  -84.504288                      C             13           A+   \n",
              "3  37.010838  -85.903418                      A              3           B+   \n",
              "4  36.964703  -86.436535                      A              3            P   \n",
              "\n",
              "        credit_score_range  actual_credit_score  total_sales  \n",
              "0                 80 TO 84                   80         4070  \n",
              "1                 90 TO 94                   91         4323  \n",
              "2                95 TO 100                   97         2163  \n",
              "3                 85 TO 89                   86          528  \n",
              "4  PROFESSIONAL INDIVIDUAL                   78          528  "
            ],
            "text/html": [
              "\n",
              "  <div id=\"df-1abf631e-8276-42eb-b3bc-38f48fbaeb0c\">\n",
              "    <div class=\"colab-df-container\">\n",
              "      <div>\n",
              "<style scoped>\n",
              "    .dataframe tbody tr th:only-of-type {\n",
              "        vertical-align: middle;\n",
              "    }\n",
              "\n",
              "    .dataframe tbody tr th {\n",
              "        vertical-align: top;\n",
              "    }\n",
              "\n",
              "    .dataframe thead th {\n",
              "        text-align: right;\n",
              "    }\n",
              "</style>\n",
              "<table border=\"1\" class=\"dataframe\">\n",
              "  <thead>\n",
              "    <tr style=\"text-align: right;\">\n",
              "      <th></th>\n",
              "      <th>outlet_no</th>\n",
              "      <th>business_type</th>\n",
              "      <th>city</th>\n",
              "      <th>state</th>\n",
              "      <th>zip</th>\n",
              "      <th>store_location</th>\n",
              "      <th>avg_age</th>\n",
              "      <th>blue_collar</th>\n",
              "      <th>white_collar</th>\n",
              "      <th>female</th>\n",
              "      <th>male</th>\n",
              "      <th>total_household_size</th>\n",
              "      <th>total_household_income</th>\n",
              "      <th>time_zone</th>\n",
              "      <th>latitude</th>\n",
              "      <th>longitude</th>\n",
              "      <th>location_employee_code</th>\n",
              "      <th>employee_size</th>\n",
              "      <th>credit_score</th>\n",
              "      <th>credit_score_range</th>\n",
              "      <th>actual_credit_score</th>\n",
              "      <th>total_sales</th>\n",
              "    </tr>\n",
              "  </thead>\n",
              "  <tbody>\n",
              "    <tr>\n",
              "      <th>0</th>\n",
              "      <td>247</td>\n",
              "      <td>1</td>\n",
              "      <td>LIMA</td>\n",
              "      <td>OH</td>\n",
              "      <td>45804</td>\n",
              "      <td>TRAVEL/TRANSPORTATION/HOSPITALITY</td>\n",
              "      <td>44.01</td>\n",
              "      <td>43.68</td>\n",
              "      <td>35.41</td>\n",
              "      <td>53.37</td>\n",
              "      <td>46.63</td>\n",
              "      <td>2.24</td>\n",
              "      <td>63860000</td>\n",
              "      <td>EST</td>\n",
              "      <td>40.704283</td>\n",
              "      <td>-84.147047</td>\n",
              "      <td>E</td>\n",
              "      <td>70</td>\n",
              "      <td>B</td>\n",
              "      <td>80 TO 84</td>\n",
              "      <td>80</td>\n",
              "      <td>4070</td>\n",
              "    </tr>\n",
              "    <tr>\n",
              "      <th>1</th>\n",
              "      <td>253</td>\n",
              "      <td>4</td>\n",
              "      <td>VACAVILLE</td>\n",
              "      <td>CA</td>\n",
              "      <td>95687</td>\n",
              "      <td>AT-WORK</td>\n",
              "      <td>38.36</td>\n",
              "      <td>41.31</td>\n",
              "      <td>26.48</td>\n",
              "      <td>54.00</td>\n",
              "      <td>46.00</td>\n",
              "      <td>2.54</td>\n",
              "      <td>92764000</td>\n",
              "      <td>PST</td>\n",
              "      <td>38.354860</td>\n",
              "      <td>-121.950360</td>\n",
              "      <td>D</td>\n",
              "      <td>35</td>\n",
              "      <td>A</td>\n",
              "      <td>90 TO 94</td>\n",
              "      <td>91</td>\n",
              "      <td>4323</td>\n",
              "    </tr>\n",
              "    <tr>\n",
              "      <th>2</th>\n",
              "      <td>265</td>\n",
              "      <td>4</td>\n",
              "      <td>CINCINNATI</td>\n",
              "      <td>OH</td>\n",
              "      <td>45219</td>\n",
              "      <td>EDUCATIONAL</td>\n",
              "      <td>28.81</td>\n",
              "      <td>17.22</td>\n",
              "      <td>43.06</td>\n",
              "      <td>45.56</td>\n",
              "      <td>54.44</td>\n",
              "      <td>1.90</td>\n",
              "      <td>51027000</td>\n",
              "      <td>EST</td>\n",
              "      <td>39.136100</td>\n",
              "      <td>-84.504288</td>\n",
              "      <td>C</td>\n",
              "      <td>13</td>\n",
              "      <td>A+</td>\n",
              "      <td>95 TO 100</td>\n",
              "      <td>97</td>\n",
              "      <td>2163</td>\n",
              "    </tr>\n",
              "    <tr>\n",
              "      <th>3</th>\n",
              "      <td>267</td>\n",
              "      <td>1</td>\n",
              "      <td>GLASGOW</td>\n",
              "      <td>KY</td>\n",
              "      <td>42141</td>\n",
              "      <td>AT-WORK</td>\n",
              "      <td>42.89</td>\n",
              "      <td>38.49</td>\n",
              "      <td>44.00</td>\n",
              "      <td>52.41</td>\n",
              "      <td>47.59</td>\n",
              "      <td>2.24</td>\n",
              "      <td>47119000</td>\n",
              "      <td>CST</td>\n",
              "      <td>37.010838</td>\n",
              "      <td>-85.903418</td>\n",
              "      <td>A</td>\n",
              "      <td>3</td>\n",
              "      <td>B+</td>\n",
              "      <td>85 TO 89</td>\n",
              "      <td>86</td>\n",
              "      <td>528</td>\n",
              "    </tr>\n",
              "    <tr>\n",
              "      <th>4</th>\n",
              "      <td>276</td>\n",
              "      <td>1</td>\n",
              "      <td>BOWLING GREEN</td>\n",
              "      <td>KY</td>\n",
              "      <td>42101</td>\n",
              "      <td>EATING &amp; DRINKING</td>\n",
              "      <td>38.82</td>\n",
              "      <td>60.82</td>\n",
              "      <td>26.24</td>\n",
              "      <td>54.18</td>\n",
              "      <td>45.82</td>\n",
              "      <td>1.93</td>\n",
              "      <td>47941000</td>\n",
              "      <td>CST</td>\n",
              "      <td>36.964703</td>\n",
              "      <td>-86.436535</td>\n",
              "      <td>A</td>\n",
              "      <td>3</td>\n",
              "      <td>P</td>\n",
              "      <td>PROFESSIONAL INDIVIDUAL</td>\n",
              "      <td>78</td>\n",
              "      <td>528</td>\n",
              "    </tr>\n",
              "  </tbody>\n",
              "</table>\n",
              "</div>\n",
              "      <button class=\"colab-df-convert\" onclick=\"convertToInteractive('df-1abf631e-8276-42eb-b3bc-38f48fbaeb0c')\"\n",
              "              title=\"Convert this dataframe to an interactive table.\"\n",
              "              style=\"display:none;\">\n",
              "        \n",
              "  <svg xmlns=\"http://www.w3.org/2000/svg\" height=\"24px\"viewBox=\"0 0 24 24\"\n",
              "       width=\"24px\">\n",
              "    <path d=\"M0 0h24v24H0V0z\" fill=\"none\"/>\n",
              "    <path d=\"M18.56 5.44l.94 2.06.94-2.06 2.06-.94-2.06-.94-.94-2.06-.94 2.06-2.06.94zm-11 1L8.5 8.5l.94-2.06 2.06-.94-2.06-.94L8.5 2.5l-.94 2.06-2.06.94zm10 10l.94 2.06.94-2.06 2.06-.94-2.06-.94-.94-2.06-.94 2.06-2.06.94z\"/><path d=\"M17.41 7.96l-1.37-1.37c-.4-.4-.92-.59-1.43-.59-.52 0-1.04.2-1.43.59L10.3 9.45l-7.72 7.72c-.78.78-.78 2.05 0 2.83L4 21.41c.39.39.9.59 1.41.59.51 0 1.02-.2 1.41-.59l7.78-7.78 2.81-2.81c.8-.78.8-2.07 0-2.86zM5.41 20L4 18.59l7.72-7.72 1.47 1.35L5.41 20z\"/>\n",
              "  </svg>\n",
              "      </button>\n",
              "      \n",
              "  <style>\n",
              "    .colab-df-container {\n",
              "      display:flex;\n",
              "      flex-wrap:wrap;\n",
              "      gap: 12px;\n",
              "    }\n",
              "\n",
              "    .colab-df-convert {\n",
              "      background-color: #E8F0FE;\n",
              "      border: none;\n",
              "      border-radius: 50%;\n",
              "      cursor: pointer;\n",
              "      display: none;\n",
              "      fill: #1967D2;\n",
              "      height: 32px;\n",
              "      padding: 0 0 0 0;\n",
              "      width: 32px;\n",
              "    }\n",
              "\n",
              "    .colab-df-convert:hover {\n",
              "      background-color: #E2EBFA;\n",
              "      box-shadow: 0px 1px 2px rgba(60, 64, 67, 0.3), 0px 1px 3px 1px rgba(60, 64, 67, 0.15);\n",
              "      fill: #174EA6;\n",
              "    }\n",
              "\n",
              "    [theme=dark] .colab-df-convert {\n",
              "      background-color: #3B4455;\n",
              "      fill: #D2E3FC;\n",
              "    }\n",
              "\n",
              "    [theme=dark] .colab-df-convert:hover {\n",
              "      background-color: #434B5C;\n",
              "      box-shadow: 0px 1px 3px 1px rgba(0, 0, 0, 0.15);\n",
              "      filter: drop-shadow(0px 1px 2px rgba(0, 0, 0, 0.3));\n",
              "      fill: #FFFFFF;\n",
              "    }\n",
              "  </style>\n",
              "\n",
              "      <script>\n",
              "        const buttonEl =\n",
              "          document.querySelector('#df-1abf631e-8276-42eb-b3bc-38f48fbaeb0c button.colab-df-convert');\n",
              "        buttonEl.style.display =\n",
              "          google.colab.kernel.accessAllowed ? 'block' : 'none';\n",
              "\n",
              "        async function convertToInteractive(key) {\n",
              "          const element = document.querySelector('#df-1abf631e-8276-42eb-b3bc-38f48fbaeb0c');\n",
              "          const dataTable =\n",
              "            await google.colab.kernel.invokeFunction('convertToInteractive',\n",
              "                                                     [key], {});\n",
              "          if (!dataTable) return;\n",
              "\n",
              "          const docLinkHtml = 'Like what you see? Visit the ' +\n",
              "            '<a target=\"_blank\" href=https://colab.research.google.com/notebooks/data_table.ipynb>data table notebook</a>'\n",
              "            + ' to learn more about interactive tables.';\n",
              "          element.innerHTML = '';\n",
              "          dataTable['output_type'] = 'display_data';\n",
              "          await google.colab.output.renderOutput(dataTable, element);\n",
              "          const docLink = document.createElement('div');\n",
              "          docLink.innerHTML = docLinkHtml;\n",
              "          element.appendChild(docLink);\n",
              "        }\n",
              "      </script>\n",
              "    </div>\n",
              "  </div>\n",
              "  "
            ]
          },
          "metadata": {},
          "execution_count": 49
        }
      ]
    },
    {
      "cell_type": "code",
      "source": [
        "from sklearn.preprocessing import OneHotEncoder, LabelEncoder, OrdinalEncoder\n",
        "\n",
        "bt_encoder = LabelEncoder()\n",
        "# bt = bt_encoder.fit_transform(np.array(train_data_wo.business_type).reshape(-1,1))\n",
        "bt_encoder.fit(np.hstack([train_data_wo.business_type, test_data.business_type]))\n",
        "bt = bt_encoder.transform(train_data_wo.business_type)\n",
        "bt = bt.reshape(-1,1)\n",
        "bt.shape"
      ],
      "metadata": {
        "colab": {
          "base_uri": "https://localhost:8080/"
        },
        "id": "fD-_iqUTfXF-",
        "outputId": "a741fac0-faea-4a05-df21-932b0a6b785d"
      },
      "execution_count": 50,
      "outputs": [
        {
          "output_type": "execute_result",
          "data": {
            "text/plain": [
              "(339, 1)"
            ]
          },
          "metadata": {},
          "execution_count": 50
        }
      ]
    },
    {
      "cell_type": "code",
      "source": [
        "city_encoder = LabelEncoder()\n",
        "city_encoder.fit(np.hstack([train_data_wo.city, test_data.city]))\n",
        "ce = city_encoder.transform(np.array(train_data_wo.city).reshape(-1,1))\n",
        "ce= ce.reshape(-1,1)\n",
        "ce.shape"
      ],
      "metadata": {
        "colab": {
          "base_uri": "https://localhost:8080/"
        },
        "id": "q3MBl6DgiD1p",
        "outputId": "6ad7687c-4203-45a6-9e90-c7368fd4da85"
      },
      "execution_count": 51,
      "outputs": [
        {
          "output_type": "execute_result",
          "data": {
            "text/plain": [
              "(339, 1)"
            ]
          },
          "metadata": {},
          "execution_count": 51
        }
      ]
    },
    {
      "cell_type": "code",
      "source": [
        "sl_encoder = LabelEncoder()\n",
        "sl_encoder.fit(np.hstack([train_data_wo.store_location, test_data.store_location]))\n",
        "sl = sl_encoder.transform(np.array(train_data_wo.store_location).reshape(-1,1))\n",
        "sl = sl.reshape(-1,1)\n",
        "sl.shape"
      ],
      "metadata": {
        "colab": {
          "base_uri": "https://localhost:8080/"
        },
        "id": "63iINLyWirfG",
        "outputId": "e997ed9d-c035-4107-c706-161a7cb05f0c"
      },
      "execution_count": 52,
      "outputs": [
        {
          "output_type": "execute_result",
          "data": {
            "text/plain": [
              "(339, 1)"
            ]
          },
          "metadata": {},
          "execution_count": 52
        }
      ]
    },
    {
      "cell_type": "code",
      "source": [
        "cs_encoder = OrdinalEncoder()\n",
        "cs_encoder.fit(np.hstack([train_data_wo.credit_score, test_data.credit_score]).reshape(-1,1))\n",
        "cs = cs_encoder.transform(np.array(train_data_wo.credit_score).reshape(-1,1))\n",
        "cs.shape"
      ],
      "metadata": {
        "colab": {
          "base_uri": "https://localhost:8080/"
        },
        "id": "P9rv9a1SlJWH",
        "outputId": "eb269c49-82f8-4fe7-8bc4-8abeb32359c4"
      },
      "execution_count": 53,
      "outputs": [
        {
          "output_type": "execute_result",
          "data": {
            "text/plain": [
              "(339, 1)"
            ]
          },
          "metadata": {},
          "execution_count": 53
        }
      ]
    },
    {
      "cell_type": "code",
      "source": [
        "ec_encoder = OrdinalEncoder()\n",
        "ec_encoder.fit(np.hstack([train_data_wo.location_employee_code, test_data.location_employee_code]).reshape(-1,1))\n",
        "ec = ec_encoder.transform(np.array(train_data_wo.location_employee_code).reshape(-1,1))\n",
        "ec.shape"
      ],
      "metadata": {
        "colab": {
          "base_uri": "https://localhost:8080/"
        },
        "id": "GMmdLUdKlJI3",
        "outputId": "0c11e213-b909-41f4-aa01-6531bed10442"
      },
      "execution_count": 54,
      "outputs": [
        {
          "output_type": "execute_result",
          "data": {
            "text/plain": [
              "(339, 1)"
            ]
          },
          "metadata": {},
          "execution_count": 54
        }
      ]
    },
    {
      "cell_type": "code",
      "source": [
        "st_encoder = LabelEncoder()\n",
        "st_encoder.fit(np.hstack([train_data_wo.state, test_data.state]))\n",
        "st = st_encoder.fit_transform(np.array(train_data_wo.state).reshape(-1,1))\n",
        "st = st.reshape(-1,1)\n",
        "st.shape"
      ],
      "metadata": {
        "colab": {
          "base_uri": "https://localhost:8080/"
        },
        "id": "IT9XkD7T_ikY",
        "outputId": "9fc50471-40f5-4966-b39d-45f98f7a6b7c"
      },
      "execution_count": 55,
      "outputs": [
        {
          "output_type": "execute_result",
          "data": {
            "text/plain": [
              "(339, 1)"
            ]
          },
          "metadata": {},
          "execution_count": 55
        }
      ]
    },
    {
      "cell_type": "code",
      "source": [
        "from sklearn.preprocessing import StandardScaler\n",
        "\n",
        "age_scaler = StandardScaler()\n",
        "age_scaled = age_scaler.fit_transform(np.array(train_data_wo.avg_age).reshape(-1,1))\n",
        "age_scaled.shape"
      ],
      "metadata": {
        "colab": {
          "base_uri": "https://localhost:8080/"
        },
        "id": "l8ciHII7jJlU",
        "outputId": "20ba9d23-1b1b-46f1-8577-09910add6097"
      },
      "execution_count": 56,
      "outputs": [
        {
          "output_type": "execute_result",
          "data": {
            "text/plain": [
              "(339, 1)"
            ]
          },
          "metadata": {},
          "execution_count": 56
        }
      ]
    },
    {
      "cell_type": "code",
      "source": [
        "bc_scaler = StandardScaler()\n",
        "bc_scaled = bc_scaler.fit_transform(np.array(train_data_wo.blue_collar).reshape(-1,1))\n",
        "bc_scaled.shape"
      ],
      "metadata": {
        "colab": {
          "base_uri": "https://localhost:8080/"
        },
        "id": "iRfDGp56kEii",
        "outputId": "95cbb640-aabb-45d3-efb3-5fd321f47aeb"
      },
      "execution_count": 57,
      "outputs": [
        {
          "output_type": "execute_result",
          "data": {
            "text/plain": [
              "(339, 1)"
            ]
          },
          "metadata": {},
          "execution_count": 57
        }
      ]
    },
    {
      "cell_type": "code",
      "source": [
        "wc_scaler = StandardScaler()\n",
        "wc_scaled = wc_scaler.fit_transform(np.array(train_data_wo.white_collar).reshape(-1,1))\n",
        "wc_scaled.shape"
      ],
      "metadata": {
        "colab": {
          "base_uri": "https://localhost:8080/"
        },
        "id": "arpWrtCgkGZC",
        "outputId": "ed33fdb2-c09e-4667-b805-0e3ccdee0c7d"
      },
      "execution_count": 58,
      "outputs": [
        {
          "output_type": "execute_result",
          "data": {
            "text/plain": [
              "(339, 1)"
            ]
          },
          "metadata": {},
          "execution_count": 58
        }
      ]
    },
    {
      "cell_type": "code",
      "source": [
        "m_scaler = StandardScaler()\n",
        "m_scaled = m_scaler.fit_transform(np.array(train_data_wo.male).reshape(-1,1))\n",
        "m_scaled.shape"
      ],
      "metadata": {
        "colab": {
          "base_uri": "https://localhost:8080/"
        },
        "id": "WJWWDPWEkHAv",
        "outputId": "ca9beac0-bb40-4064-ef14-bd71a6c06e4f"
      },
      "execution_count": 59,
      "outputs": [
        {
          "output_type": "execute_result",
          "data": {
            "text/plain": [
              "(339, 1)"
            ]
          },
          "metadata": {},
          "execution_count": 59
        }
      ]
    },
    {
      "cell_type": "code",
      "source": [
        "f_scaler = StandardScaler()\n",
        "f_scaled = f_scaler.fit_transform(np.array(train_data_wo.female).reshape(-1,1))\n",
        "f_scaled.shape"
      ],
      "metadata": {
        "colab": {
          "base_uri": "https://localhost:8080/"
        },
        "id": "m2tiChXfkHgu",
        "outputId": "caabf51b-5ca5-4a3c-fbf7-7e5d703e6d3a"
      },
      "execution_count": 60,
      "outputs": [
        {
          "output_type": "execute_result",
          "data": {
            "text/plain": [
              "(339, 1)"
            ]
          },
          "metadata": {},
          "execution_count": 60
        }
      ]
    },
    {
      "cell_type": "code",
      "source": [
        "hhi_scaler = StandardScaler()\n",
        "hhi_scaled = hhi_scaler.fit_transform(np.array(train_data_wo.total_household_income).reshape(-1,1))\n",
        "hhi_scaled.shape"
      ],
      "metadata": {
        "colab": {
          "base_uri": "https://localhost:8080/"
        },
        "id": "_yd_IlnHkIBN",
        "outputId": "07cc8e97-1cda-44a5-c602-cfaa7859a027"
      },
      "execution_count": 61,
      "outputs": [
        {
          "output_type": "execute_result",
          "data": {
            "text/plain": [
              "(339, 1)"
            ]
          },
          "metadata": {},
          "execution_count": 61
        }
      ]
    },
    {
      "cell_type": "code",
      "source": [
        "es_scaler = StandardScaler()\n",
        "es_scaled = es_scaler.fit_transform(np.array(train_data_wo.employee_size).reshape(-1,1))\n",
        "es_scaled.shape"
      ],
      "metadata": {
        "colab": {
          "base_uri": "https://localhost:8080/"
        },
        "id": "to9UH9WEk0Qx",
        "outputId": "f8e56a23-b0b4-4976-994b-5cebf1f83d42"
      },
      "execution_count": 62,
      "outputs": [
        {
          "output_type": "execute_result",
          "data": {
            "text/plain": [
              "(339, 1)"
            ]
          },
          "metadata": {},
          "execution_count": 62
        }
      ]
    },
    {
      "cell_type": "code",
      "source": [
        "ts_scaler = StandardScaler()\n",
        "ts_scaled = ts_scaler.fit_transform(np.array(train_data_wo.total_sales).reshape(-1,1))\n",
        "ts_scaled.shape"
      ],
      "metadata": {
        "colab": {
          "base_uri": "https://localhost:8080/"
        },
        "id": "YrmZXIJhmEzb",
        "outputId": "81884ea5-ee3f-4343-967b-322830c7f380"
      },
      "execution_count": 63,
      "outputs": [
        {
          "output_type": "execute_result",
          "data": {
            "text/plain": [
              "(339, 1)"
            ]
          },
          "metadata": {},
          "execution_count": 63
        }
      ]
    },
    {
      "cell_type": "code",
      "source": [
        "sns.countplot(y=train_data_wo.state)"
      ],
      "metadata": {
        "colab": {
          "base_uri": "https://localhost:8080/",
          "height": 467
        },
        "id": "mXKpelQb_Gyh",
        "outputId": "36d68692-e943-4d3f-c55d-5303d93ecc46"
      },
      "execution_count": 64,
      "outputs": [
        {
          "output_type": "execute_result",
          "data": {
            "text/plain": [
              "<Axes: xlabel='count', ylabel='state'>"
            ]
          },
          "metadata": {},
          "execution_count": 64
        },
        {
          "output_type": "display_data",
          "data": {
            "text/plain": [
              "<Figure size 640x480 with 1 Axes>"
            ],
            "image/png": "[encoded data removed]"
          },
          "metadata": {}
        }
      ]
    },
    {
      "cell_type": "code",
      "source": [
        "sns.catplot(data=train_data_wo, x='state', y='total_sales')"
      ],
      "metadata": {
        "colab": {
          "base_uri": "https://localhost:8080/",
          "height": 523
        },
        "id": "YhhuRl4h_Um1",
        "outputId": "81117a82-dd03-4e3b-e1be-45d6932cba58"
      },
      "execution_count": 65,
      "outputs": [
        {
          "output_type": "execute_result",
          "data": {
            "text/plain": [
              "<seaborn.axisgrid.FacetGrid at 0x7fac8a783be0>"
            ]
          },
          "metadata": {},
          "execution_count": 65
        },
        {
          "output_type": "display_data",
          "data": {
            "text/plain": [
              "<Figure size 500x500 with 1 Axes>"
            ],
            "image/png": "[encoded data removed]"
          },
          "metadata": {}
        }
      ]
    },
    {
      "cell_type": "code",
      "source": [],
      "metadata": {
        "id": "GdlDVZBX_gMh"
      },
      "execution_count": 65,
      "outputs": []
    },
    {
      "cell_type": "markdown",
      "source": [
        "#### Generating X, y"
      ],
      "metadata": {
        "id": "ISKrFGPkmxCV"
      }
    },
    {
      "cell_type": "code",
      "source": [
        "X = np.hstack([\n",
        "    bt,                          # business type\n",
        "    ce,                             # city\n",
        "    sl,                             # store location \n",
        "    cs,                              # credit score\n",
        "    ec,                              # employee code\n",
        "    st,                              # state\n",
        "    age_scaled,                      # Avg Age\n",
        "    # bc_scaled,                       # Blue Collar\n",
        "    # wc_scaled,                       # White Collar\n",
        "    # m_scaled,                        # male\n",
        "    # f_scaled,                        # female\n",
        "    hhi_scaled,                      # house hold income\n",
        "    es_scaled,                        # employee size\n",
        "    # np.array(train_data_wo.latitude).reshape(-1,1),\n",
        "    # np.array(train_data_wo.longitude).reshape(-1,1)\n",
        "])"
      ],
      "metadata": {
        "id": "emB77ZfnmK6z"
      },
      "execution_count": 66,
      "outputs": []
    },
    {
      "cell_type": "code",
      "source": [
        "y = ts_scaled"
      ],
      "metadata": {
        "id": "9UJNhUJ-oBug"
      },
      "execution_count": 67,
      "outputs": []
    },
    {
      "cell_type": "code",
      "source": [
        "X.shape"
      ],
      "metadata": {
        "colab": {
          "base_uri": "https://localhost:8080/"
        },
        "id": "lDHzkJ5loFhj",
        "outputId": "4b954305-dd7a-4da3-913c-b056ae90a806"
      },
      "execution_count": 68,
      "outputs": [
        {
          "output_type": "execute_result",
          "data": {
            "text/plain": [
              "(339, 9)"
            ]
          },
          "metadata": {},
          "execution_count": 68
        }
      ]
    },
    {
      "cell_type": "code",
      "source": [
        "y.shape"
      ],
      "metadata": {
        "colab": {
          "base_uri": "https://localhost:8080/"
        },
        "id": "aEw2tttuoHfT",
        "outputId": "6116437f-13a8-421a-cb2d-afa12943abea"
      },
      "execution_count": 69,
      "outputs": [
        {
          "output_type": "execute_result",
          "data": {
            "text/plain": [
              "(339, 1)"
            ]
          },
          "metadata": {},
          "execution_count": 69
        }
      ]
    },
    {
      "cell_type": "code",
      "source": [
        "from sklearn.model_selection import train_test_split\n",
        "\n",
        "random_state = 21\n",
        "X_train, X_test , y_train, y_test = train_test_split(X, y, test_size=0.2, random_state=random_state)"
      ],
      "metadata": {
        "id": "erJsIc8XoI_F"
      },
      "execution_count": 70,
      "outputs": []
    },
    {
      "cell_type": "code",
      "source": [
        "print(f'X_train shape:{X_train.shape}')\n",
        "print(f'y_train shape:{y_train.shape}')\n",
        "print(f'X_test shape:{X_test.shape}')\n",
        "print(f'y_test shape:{y_test.shape}')"
      ],
      "metadata": {
        "colab": {
          "base_uri": "https://localhost:8080/"
        },
        "id": "OvO7ebA-ocb9",
        "outputId": "7a334567-2c48-48d5-f2b0-60adbf2230db"
      },
      "execution_count": 71,
      "outputs": [
        {
          "output_type": "stream",
          "name": "stdout",
          "text": [
            "X_train shape:(271, 9)\n",
            "y_train shape:(271, 1)\n",
            "X_test shape:(68, 9)\n",
            "y_test shape:(68, 1)\n"
          ]
        }
      ]
    },
    {
      "cell_type": "markdown",
      "source": [
        "#### Model building"
      ],
      "metadata": {
        "id": "jGwq6fsBosxN"
      }
    },
    {
      "cell_type": "markdown",
      "source": [
        "##### Linear Model"
      ],
      "metadata": {
        "id": "dcc1Ws8nFhY0"
      }
    },
    {
      "cell_type": "code",
      "source": [
        "from sklearn.linear_model import LinearRegression\n",
        "\n",
        "lr_model = LinearRegression()\n",
        "lr_model.fit(X_train, y_train)"
      ],
      "metadata": {
        "colab": {
          "base_uri": "https://localhost:8080/",
          "height": 75
        },
        "id": "N1S6Hfbdoh5x",
        "outputId": "c98bb4b3-dbc4-4f3b-e68d-11ea6a8744f6"
      },
      "execution_count": 72,
      "outputs": [
        {
          "output_type": "execute_result",
          "data": {
            "text/plain": [
              "LinearRegression()"
            ],
            "text/html": [
              "<style>#sk-container-id-1 {color: black;background-color: white;}#sk-container-id-1 pre{padding: 0;}#sk-container-id-1 div.sk-toggleable {background-color: white;}#sk-container-id-1 label.sk-toggleable__label {cursor: pointer;display: block;width: 100%;margin-bottom: 0;padding: 0.3em;box-sizing: border-box;text-align: center;}#sk-container-id-1 label.sk-toggleable__label-arrow:before {content: \"▸\";float: left;margin-right: 0.25em;color: #696969;}#sk-container-id-1 label.sk-toggleable__label-arrow:hover:before {color: black;}#sk-container-id-1 div.sk-estimator:hover label.sk-toggleable__label-arrow:before {color: black;}#sk-container-id-1 div.sk-toggleable__content {max-height: 0;max-width: 0;overflow: hidden;text-align: left;background-color: #f0f8ff;}#sk-container-id-1 div.sk-toggleable__content pre {margin: 0.2em;color: black;border-radius: 0.25em;background-color: #f0f8ff;}#sk-container-id-1 input.sk-toggleable__control:checked~div.sk-toggleable__content {max-height: 200px;max-width: 100%;overflow: auto;}#sk-container-id-1 input.sk-toggleable__control:checked~label.sk-toggleable__label-arrow:before {content: \"▾\";}#sk-container-id-1 div.sk-estimator input.sk-toggleable__control:checked~label.sk-toggleable__label {background-color: #d4ebff;}#sk-container-id-1 div.sk-label input.sk-toggleable__control:checked~label.sk-toggleable__label {background-color: #d4ebff;}#sk-container-id-1 input.sk-hidden--visually {border: 0;clip: rect(1px 1px 1px 1px);clip: rect(1px, 1px, 1px, 1px);height: 1px;margin: -1px;overflow: hidden;padding: 0;position: absolute;width: 1px;}#sk-container-id-1 div.sk-estimator {font-family: monospace;background-color: #f0f8ff;border: 1px dotted black;border-radius: 0.25em;box-sizing: border-box;margin-bottom: 0.5em;}#sk-container-id-1 div.sk-estimator:hover {background-color: #d4ebff;}#sk-container-id-1 div.sk-parallel-item::after {content: \"\";width: 100%;border-bottom: 1px solid gray;flex-grow: 1;}#sk-container-id-1 div.sk-label:hover label.sk-toggleable__label {background-color: #d4ebff;}#sk-container-id-1 div.sk-serial::before {content: \"\";position: absolute;border-left: 1px solid gray;box-sizing: border-box;top: 0;bottom: 0;left: 50%;z-index: 0;}#sk-container-id-1 div.sk-serial {display: flex;flex-direction: column;align-items: center;background-color: white;padding-right: 0.2em;padding-left: 0.2em;position: relative;}#sk-container-id-1 div.sk-item {position: relative;z-index: 1;}#sk-container-id-1 div.sk-parallel {display: flex;align-items: stretch;justify-content: center;background-color: white;position: relative;}#sk-container-id-1 div.sk-item::before, #sk-container-id-1 div.sk-parallel-item::before {content: \"\";position: absolute;border-left: 1px solid gray;box-sizing: border-box;top: 0;bottom: 0;left: 50%;z-index: -1;}#sk-container-id-1 div.sk-parallel-item {display: flex;flex-direction: column;z-index: 1;position: relative;background-color: white;}#sk-container-id-1 div.sk-parallel-item:first-child::after {align-self: flex-end;width: 50%;}#sk-container-id-1 div.sk-parallel-item:last-child::after {align-self: flex-start;width: 50%;}#sk-container-id-1 div.sk-parallel-item:only-child::after {width: 0;}#sk-container-id-1 div.sk-dashed-wrapped {border: 1px dashed gray;margin: 0 0.4em 0.5em 0.4em;box-sizing: border-box;padding-bottom: 0.4em;background-color: white;}#sk-container-id-1 div.sk-label label {font-family: monospace;font-weight: bold;display: inline-block;line-height: 1.2em;}#sk-container-id-1 div.sk-label-container {text-align: center;}#sk-container-id-1 div.sk-container {/* jupyter's `normalize.less` sets `[hidden] { display: none; }` but bootstrap.min.css set `[hidden] { display: none !important; }` so we also need the `!important` here to be able to override the default hidden behavior on the sphinx rendered scikit-learn.org. See: https://github.com/scikit-learn/scikit-learn/issues/21755 */display: inline-block !important;position: relative;}#sk-container-id-1 div.sk-text-repr-fallback {display: none;}</style><div id=\"sk-container-id-1\" class=\"sk-top-container\"><div class=\"sk-text-repr-fallback\"><pre>LinearRegression()</pre><b>In a Jupyter environment, please rerun this cell to show the HTML representation or trust the notebook. <br />On GitHub, the HTML representation is unable to render, please try loading this page with nbviewer.org.</b></div><div class=\"sk-container\" hidden><div class=\"sk-item\"><div class=\"sk-estimator sk-toggleable\"><input class=\"sk-toggleable__control sk-hidden--visually\" id=\"sk-estimator-id-1\" type=\"checkbox\" checked><label for=\"sk-estimator-id-1\" class=\"sk-toggleable__label sk-toggleable__label-arrow\">LinearRegression</label><div class=\"sk-toggleable__content\"><pre>LinearRegression()</pre></div></div></div></div></div>"
            ]
          },
          "metadata": {},
          "execution_count": 72
        }
      ]
    },
    {
      "cell_type": "code",
      "source": [
        "from sklearn.metrics import mean_squared_error\n",
        "y_pred = lr_model.predict(X_train)\n",
        "\n",
        "mse = mean_squared_error(y_train, y_pred)\n",
        "rmse = mse ** 0.5\n",
        "rmse"
      ],
      "metadata": {
        "colab": {
          "base_uri": "https://localhost:8080/"
        },
        "id": "s8viJTxQo_LO",
        "outputId": "116e5dbb-2705-447b-c82d-9f55d5b13653"
      },
      "execution_count": 82,
      "outputs": [
        {
          "output_type": "execute_result",
          "data": {
            "text/plain": [
              "0.40144283471645004"
            ]
          },
          "metadata": {},
          "execution_count": 82
        }
      ]
    },
    {
      "cell_type": "code",
      "source": [
        "np.std(y_train)"
      ],
      "metadata": {
        "colab": {
          "base_uri": "https://localhost:8080/"
        },
        "id": "OOKUXq-HQj6R",
        "outputId": "346e221c-8522-426b-b5f0-710ae03254fb"
      },
      "execution_count": 83,
      "outputs": [
        {
          "output_type": "execute_result",
          "data": {
            "text/plain": [
              "1.0934068362186615"
            ]
          },
          "metadata": {},
          "execution_count": 83
        }
      ]
    },
    {
      "cell_type": "code",
      "source": [
        "rmse/np.std(y_train)"
      ],
      "metadata": {
        "colab": {
          "base_uri": "https://localhost:8080/"
        },
        "id": "QHEDjxQrQJip",
        "outputId": "fba03b80-17fe-4623-c2be-98a1f3578460"
      },
      "execution_count": 84,
      "outputs": [
        {
          "output_type": "execute_result",
          "data": {
            "text/plain": [
              "0.3671486416755572"
            ]
          },
          "metadata": {},
          "execution_count": 84
        }
      ]
    },
    {
      "cell_type": "code",
      "source": [
        "lr_model.score(X_train, y_train)"
      ],
      "metadata": {
        "colab": {
          "base_uri": "https://localhost:8080/"
        },
        "id": "RSQ012Frc2SR",
        "outputId": "41613ba0-d761-48c3-d346-47d0c0e59438"
      },
      "execution_count": 74,
      "outputs": [
        {
          "output_type": "execute_result",
          "data": {
            "text/plain": [
              "0.8652018749157933"
            ]
          },
          "metadata": {},
          "execution_count": 74
        }
      ]
    },
    {
      "cell_type": "code",
      "source": [
        "mse = mean_squared_error(y_test, lr_model.predict(X_test))\n",
        "rmse = mse ** 0.5\n",
        "rmse"
      ],
      "metadata": {
        "colab": {
          "base_uri": "https://localhost:8080/"
        },
        "id": "UnoMFYD4pFmW",
        "outputId": "3a358f75-a712-4c0c-9dd6-6999bcd428fb"
      },
      "execution_count": 75,
      "outputs": [
        {
          "output_type": "execute_result",
          "data": {
            "text/plain": [
              "0.21393650746913337"
            ]
          },
          "metadata": {},
          "execution_count": 75
        }
      ]
    },
    {
      "cell_type": "code",
      "source": [
        "lr_model.score(X_test, y_test)"
      ],
      "metadata": {
        "colab": {
          "base_uri": "https://localhost:8080/"
        },
        "id": "3kn3MGt5c9wZ",
        "outputId": "b1a4b8d1-072e-463f-ba2c-653249a88654"
      },
      "execution_count": 76,
      "outputs": [
        {
          "output_type": "execute_result",
          "data": {
            "text/plain": [
              "0.7549696509150167"
            ]
          },
          "metadata": {},
          "execution_count": 76
        }
      ]
    },
    {
      "cell_type": "code",
      "source": [],
      "metadata": {
        "id": "2xKJkIoiu0BM"
      },
      "execution_count": 76,
      "outputs": []
    },
    {
      "cell_type": "markdown",
      "source": [
        "##### SVR Model\n"
      ],
      "metadata": {
        "id": "J-QAIruQFk_R"
      }
    },
    {
      "cell_type": "code",
      "source": [
        "from sklearn.svm import SVR\n",
        "from sklearn.model_selection import GridSearchCV"
      ],
      "metadata": {
        "id": "o7NfNsJ6Fnk0"
      },
      "execution_count": 77,
      "outputs": []
    },
    {
      "cell_type": "code",
      "source": [
        "svr = SVR()\n",
        "\n",
        "param_grid = {\n",
        "    \n",
        "    'kernel' : ['linear', 'poly', 'rbf'],\n",
        "    'C' : [1, 10, 100, 1000],\n",
        "    'epsilon':[1, 10,100, 1000]\n",
        "}\n",
        "\n",
        "\n",
        "search = GridSearchCV(svr, param_grid=param_grid, cv=5, verbose=1, \n",
        "                      scoring='r2')\n",
        "search.fit(X_train, y_train)"
      ],
      "metadata": {
        "id": "IMkmGjJyFvwu",
        "colab": {
          "base_uri": "https://localhost:8080/",
          "height": 397
        },
        "outputId": "9783f902-22d2-43d0-c003-bde383d812bc"
      },
      "execution_count": 78,
      "outputs": [
        {
          "metadata": {
            "tags": null
          },
          "name": "stdout",
          "output_type": "stream",
          "text": [
            "Fitting 5 folds for each of 48 candidates, totalling 240 fits\n"
          ]
        },
        {
          "output_type": "error",
          "ename": "KeyboardInterrupt",
          "evalue": "ignored",
          "traceback": [
            "\u001b[0;31m---------------------------------------------------------------------------\u001b[0m",
            "\u001b[0;31mKeyboardInterrupt\u001b[0m                         Traceback (most recent call last)",
            "\u001b[0;32m<ipython-input-78-b00cfa7ae087>\u001b[0m in \u001b[0;36m<cell line: 13>\u001b[0;34m()\u001b[0m\n\u001b[1;32m     11\u001b[0m search = GridSearchCV(svr, param_grid=param_grid, cv=5, verbose=1, \n\u001b[1;32m     12\u001b[0m                       scoring='r2')\n\u001b[0;32m---> 13\u001b[0;31m \u001b[0msearch\u001b[0m\u001b[0;34m.\u001b[0m\u001b[0mfit\u001b[0m\u001b[0;34m(\u001b[0m\u001b[0mX_train\u001b[0m\u001b[0;34m,\u001b[0m \u001b[0my_train\u001b[0m\u001b[0;34m)\u001b[0m\u001b[0;34m\u001b[0m\u001b[0;34m\u001b[0m\u001b[0m\n\u001b[0m",
            "\u001b[0;32m/usr/local/lib/python3.10/dist-packages/sklearn/model_selection/_search.py\u001b[0m in \u001b[0;36mfit\u001b[0;34m(self, X, y, groups, **fit_params)\u001b[0m\n\u001b[1;32m    872\u001b[0m                 \u001b[0;32mreturn\u001b[0m \u001b[0mresults\u001b[0m\u001b[0;34m\u001b[0m\u001b[0;34m\u001b[0m\u001b[0m\n\u001b[1;32m    873\u001b[0m \u001b[0;34m\u001b[0m\u001b[0m\n\u001b[0;32m--> 874\u001b[0;31m             \u001b[0mself\u001b[0m\u001b[0;34m.\u001b[0m\u001b[0m_run_search\u001b[0m\u001b[0;34m(\u001b[0m\u001b[0mevaluate_candidates\u001b[0m\u001b[0;34m)\u001b[0m\u001b[0;34m\u001b[0m\u001b[0;34m\u001b[0m\u001b[0m\n\u001b[0m\u001b[1;32m    875\u001b[0m \u001b[0;34m\u001b[0m\u001b[0m\n\u001b[1;32m    876\u001b[0m             \u001b[0;31m# multimetric is determined here because in the case of a callable\u001b[0m\u001b[0;34m\u001b[0m\u001b[0;34m\u001b[0m\u001b[0m\n",
            "\u001b[0;32m/usr/local/lib/python3.10/dist-packages/sklearn/model_selection/_search.py\u001b[0m in \u001b[0;36m_run_search\u001b[0;34m(self, evaluate_candidates)\u001b[0m\n\u001b[1;32m   1386\u001b[0m     \u001b[0;32mdef\u001b[0m \u001b[0m_run_search\u001b[0m\u001b[0;34m(\u001b[0m\u001b[0mself\u001b[0m\u001b[0;34m,\u001b[0m \u001b[0mevaluate_candidates\u001b[0m\u001b[0;34m)\u001b[0m\u001b[0;34m:\u001b[0m\u001b[0;34m\u001b[0m\u001b[0;34m\u001b[0m\u001b[0m\n\u001b[1;32m   1387\u001b[0m         \u001b[0;34m\"\"\"Search all candidates in param_grid\"\"\"\u001b[0m\u001b[0;34m\u001b[0m\u001b[0;34m\u001b[0m\u001b[0m\n\u001b[0;32m-> 1388\u001b[0;31m         \u001b[0mevaluate_candidates\u001b[0m\u001b[0;34m(\u001b[0m\u001b[0mParameterGrid\u001b[0m\u001b[0;34m(\u001b[0m\u001b[0mself\u001b[0m\u001b[0;34m.\u001b[0m\u001b[0mparam_grid\u001b[0m\u001b[0;34m)\u001b[0m\u001b[0;34m)\u001b[0m\u001b[0;34m\u001b[0m\u001b[0;34m\u001b[0m\u001b[0m\n\u001b[0m\u001b[1;32m   1389\u001b[0m \u001b[0;34m\u001b[0m\u001b[0m\n\u001b[1;32m   1390\u001b[0m \u001b[0;34m\u001b[0m\u001b[0m\n",
            "\u001b[0;32m/usr/local/lib/python3.10/dist-packages/sklearn/model_selection/_search.py\u001b[0m in \u001b[0;36mevaluate_candidates\u001b[0;34m(candidate_params, cv, more_results)\u001b[0m\n\u001b[1;32m    819\u001b[0m                     )\n\u001b[1;32m    820\u001b[0m \u001b[0;34m\u001b[0m\u001b[0m\n\u001b[0;32m--> 821\u001b[0;31m                 out = parallel(\n\u001b[0m\u001b[1;32m    822\u001b[0m                     delayed(_fit_and_score)(\n\u001b[1;32m    823\u001b[0m                         \u001b[0mclone\u001b[0m\u001b[0;34m(\u001b[0m\u001b[0mbase_estimator\u001b[0m\u001b[0;34m)\u001b[0m\u001b[0;34m,\u001b[0m\u001b[0;34m\u001b[0m\u001b[0;34m\u001b[0m\u001b[0m\n",
            "\u001b[0;32m/usr/local/lib/python3.10/dist-packages/sklearn/utils/parallel.py\u001b[0m in \u001b[0;36m__call__\u001b[0;34m(self, iterable)\u001b[0m\n\u001b[1;32m     61\u001b[0m             \u001b[0;32mfor\u001b[0m \u001b[0mdelayed_func\u001b[0m\u001b[0;34m,\u001b[0m \u001b[0margs\u001b[0m\u001b[0;34m,\u001b[0m \u001b[0mkwargs\u001b[0m \u001b[0;32min\u001b[0m \u001b[0miterable\u001b[0m\u001b[0;34m\u001b[0m\u001b[0;34m\u001b[0m\u001b[0m\n\u001b[1;32m     62\u001b[0m         )\n\u001b[0;32m---> 63\u001b[0;31m         \u001b[0;32mreturn\u001b[0m \u001b[0msuper\u001b[0m\u001b[0;34m(\u001b[0m\u001b[0;34m)\u001b[0m\u001b[0;34m.\u001b[0m\u001b[0m__call__\u001b[0m\u001b[0;34m(\u001b[0m\u001b[0miterable_with_config\u001b[0m\u001b[0;34m)\u001b[0m\u001b[0;34m\u001b[0m\u001b[0;34m\u001b[0m\u001b[0m\n\u001b[0m\u001b[1;32m     64\u001b[0m \u001b[0;34m\u001b[0m\u001b[0m\n\u001b[1;32m     65\u001b[0m \u001b[0;34m\u001b[0m\u001b[0m\n",
            "\u001b[0;32m/usr/local/lib/python3.10/dist-packages/joblib/parallel.py\u001b[0m in \u001b[0;36m__call__\u001b[0;34m(self, iterable)\u001b[0m\n\u001b[1;32m   1086\u001b[0m                 \u001b[0mself\u001b[0m\u001b[0;34m.\u001b[0m\u001b[0m_iterating\u001b[0m \u001b[0;34m=\u001b[0m \u001b[0mself\u001b[0m\u001b[0;34m.\u001b[0m\u001b[0m_original_iterator\u001b[0m \u001b[0;32mis\u001b[0m \u001b[0;32mnot\u001b[0m \u001b[0;32mNone\u001b[0m\u001b[0;34m\u001b[0m\u001b[0;34m\u001b[0m\u001b[0m\n\u001b[1;32m   1087\u001b[0m \u001b[0;34m\u001b[0m\u001b[0m\n\u001b[0;32m-> 1088\u001b[0;31m             \u001b[0;32mwhile\u001b[0m \u001b[0mself\u001b[0m\u001b[0;34m.\u001b[0m\u001b[0mdispatch_one_batch\u001b[0m\u001b[0;34m(\u001b[0m\u001b[0miterator\u001b[0m\u001b[0;34m)\u001b[0m\u001b[0;34m:\u001b[0m\u001b[0;34m\u001b[0m\u001b[0;34m\u001b[0m\u001b[0m\n\u001b[0m\u001b[1;32m   1089\u001b[0m                 \u001b[0;32mpass\u001b[0m\u001b[0;34m\u001b[0m\u001b[0;34m\u001b[0m\u001b[0m\n\u001b[1;32m   1090\u001b[0m \u001b[0;34m\u001b[0m\u001b[0m\n",
            "\u001b[0;32m/usr/local/lib/python3.10/dist-packages/joblib/parallel.py\u001b[0m in \u001b[0;36mdispatch_one_batch\u001b[0;34m(self, iterator)\u001b[0m\n\u001b[1;32m    899\u001b[0m                 \u001b[0;32mreturn\u001b[0m \u001b[0;32mFalse\u001b[0m\u001b[0;34m\u001b[0m\u001b[0;34m\u001b[0m\u001b[0m\n\u001b[1;32m    900\u001b[0m             \u001b[0;32melse\u001b[0m\u001b[0;34m:\u001b[0m\u001b[0;34m\u001b[0m\u001b[0;34m\u001b[0m\u001b[0m\n\u001b[0;32m--> 901\u001b[0;31m                 \u001b[0mself\u001b[0m\u001b[0;34m.\u001b[0m\u001b[0m_dispatch\u001b[0m\u001b[0;34m(\u001b[0m\u001b[0mtasks\u001b[0m\u001b[0;34m)\u001b[0m\u001b[0;34m\u001b[0m\u001b[0;34m\u001b[0m\u001b[0m\n\u001b[0m\u001b[1;32m    902\u001b[0m                 \u001b[0;32mreturn\u001b[0m \u001b[0;32mTrue\u001b[0m\u001b[0;34m\u001b[0m\u001b[0;34m\u001b[0m\u001b[0m\n\u001b[1;32m    903\u001b[0m \u001b[0;34m\u001b[0m\u001b[0m\n",
            "\u001b[0;32m/usr/local/lib/python3.10/dist-packages/joblib/parallel.py\u001b[0m in \u001b[0;36m_dispatch\u001b[0;34m(self, batch)\u001b[0m\n\u001b[1;32m    817\u001b[0m         \u001b[0;32mwith\u001b[0m \u001b[0mself\u001b[0m\u001b[0;34m.\u001b[0m\u001b[0m_lock\u001b[0m\u001b[0;34m:\u001b[0m\u001b[0;34m\u001b[0m\u001b[0;34m\u001b[0m\u001b[0m\n\u001b[1;32m    818\u001b[0m             \u001b[0mjob_idx\u001b[0m \u001b[0;34m=\u001b[0m \u001b[0mlen\u001b[0m\u001b[0;34m(\u001b[0m\u001b[0mself\u001b[0m\u001b[0;34m.\u001b[0m\u001b[0m_jobs\u001b[0m\u001b[0;34m)\u001b[0m\u001b[0;34m\u001b[0m\u001b[0;34m\u001b[0m\u001b[0m\n\u001b[0;32m--> 819\u001b[0;31m             \u001b[0mjob\u001b[0m \u001b[0;34m=\u001b[0m \u001b[0mself\u001b[0m\u001b[0;34m.\u001b[0m\u001b[0m_backend\u001b[0m\u001b[0;34m.\u001b[0m\u001b[0mapply_async\u001b[0m\u001b[0;34m(\u001b[0m\u001b[0mbatch\u001b[0m\u001b[0;34m,\u001b[0m \u001b[0mcallback\u001b[0m\u001b[0;34m=\u001b[0m\u001b[0mcb\u001b[0m\u001b[0;34m)\u001b[0m\u001b[0;34m\u001b[0m\u001b[0;34m\u001b[0m\u001b[0m\n\u001b[0m\u001b[1;32m    820\u001b[0m             \u001b[0;31m# A job can complete so quickly than its callback is\u001b[0m\u001b[0;34m\u001b[0m\u001b[0;34m\u001b[0m\u001b[0m\n\u001b[1;32m    821\u001b[0m             \u001b[0;31m# called before we get here, causing self._jobs to\u001b[0m\u001b[0;34m\u001b[0m\u001b[0;34m\u001b[0m\u001b[0m\n",
            "\u001b[0;32m/usr/local/lib/python3.10/dist-packages/joblib/_parallel_backends.py\u001b[0m in \u001b[0;36mapply_async\u001b[0;34m(self, func, callback)\u001b[0m\n\u001b[1;32m    206\u001b[0m     \u001b[0;32mdef\u001b[0m \u001b[0mapply_async\u001b[0m\u001b[0;34m(\u001b[0m\u001b[0mself\u001b[0m\u001b[0;34m,\u001b[0m \u001b[0mfunc\u001b[0m\u001b[0;34m,\u001b[0m \u001b[0mcallback\u001b[0m\u001b[0;34m=\u001b[0m\u001b[0;32mNone\u001b[0m\u001b[0;34m)\u001b[0m\u001b[0;34m:\u001b[0m\u001b[0;34m\u001b[0m\u001b[0;34m\u001b[0m\u001b[0m\n\u001b[1;32m    207\u001b[0m         \u001b[0;34m\"\"\"Schedule a func to be run\"\"\"\u001b[0m\u001b[0;34m\u001b[0m\u001b[0;34m\u001b[0m\u001b[0m\n\u001b[0;32m--> 208\u001b[0;31m         \u001b[0mresult\u001b[0m \u001b[0;34m=\u001b[0m \u001b[0mImmediateResult\u001b[0m\u001b[0;34m(\u001b[0m\u001b[0mfunc\u001b[0m\u001b[0;34m)\u001b[0m\u001b[0;34m\u001b[0m\u001b[0;34m\u001b[0m\u001b[0m\n\u001b[0m\u001b[1;32m    209\u001b[0m         \u001b[0;32mif\u001b[0m \u001b[0mcallback\u001b[0m\u001b[0;34m:\u001b[0m\u001b[0;34m\u001b[0m\u001b[0;34m\u001b[0m\u001b[0m\n\u001b[1;32m    210\u001b[0m             \u001b[0mcallback\u001b[0m\u001b[0;34m(\u001b[0m\u001b[0mresult\u001b[0m\u001b[0;34m)\u001b[0m\u001b[0;34m\u001b[0m\u001b[0;34m\u001b[0m\u001b[0m\n",
            "\u001b[0;32m/usr/local/lib/python3.10/dist-packages/joblib/_parallel_backends.py\u001b[0m in \u001b[0;36m__init__\u001b[0;34m(self, batch)\u001b[0m\n\u001b[1;32m    595\u001b[0m         \u001b[0;31m# Don't delay the application, to avoid keeping the input\u001b[0m\u001b[0;34m\u001b[0m\u001b[0;34m\u001b[0m\u001b[0m\n\u001b[1;32m    596\u001b[0m         \u001b[0;31m# arguments in memory\u001b[0m\u001b[0;34m\u001b[0m\u001b[0;34m\u001b[0m\u001b[0m\n\u001b[0;32m--> 597\u001b[0;31m         \u001b[0mself\u001b[0m\u001b[0;34m.\u001b[0m\u001b[0mresults\u001b[0m \u001b[0;34m=\u001b[0m \u001b[0mbatch\u001b[0m\u001b[0;34m(\u001b[0m\u001b[0;34m)\u001b[0m\u001b[0;34m\u001b[0m\u001b[0;34m\u001b[0m\u001b[0m\n\u001b[0m\u001b[1;32m    598\u001b[0m \u001b[0;34m\u001b[0m\u001b[0m\n\u001b[1;32m    599\u001b[0m     \u001b[0;32mdef\u001b[0m \u001b[0mget\u001b[0m\u001b[0;34m(\u001b[0m\u001b[0mself\u001b[0m\u001b[0;34m)\u001b[0m\u001b[0;34m:\u001b[0m\u001b[0;34m\u001b[0m\u001b[0;34m\u001b[0m\u001b[0m\n",
            "\u001b[0;32m/usr/local/lib/python3.10/dist-packages/joblib/parallel.py\u001b[0m in \u001b[0;36m__call__\u001b[0;34m(self)\u001b[0m\n\u001b[1;32m    286\u001b[0m         \u001b[0;31m# change the default number of processes to -1\u001b[0m\u001b[0;34m\u001b[0m\u001b[0;34m\u001b[0m\u001b[0m\n\u001b[1;32m    287\u001b[0m         \u001b[0;32mwith\u001b[0m \u001b[0mparallel_backend\u001b[0m\u001b[0;34m(\u001b[0m\u001b[0mself\u001b[0m\u001b[0;34m.\u001b[0m\u001b[0m_backend\u001b[0m\u001b[0;34m,\u001b[0m \u001b[0mn_jobs\u001b[0m\u001b[0;34m=\u001b[0m\u001b[0mself\u001b[0m\u001b[0;34m.\u001b[0m\u001b[0m_n_jobs\u001b[0m\u001b[0;34m)\u001b[0m\u001b[0;34m:\u001b[0m\u001b[0;34m\u001b[0m\u001b[0;34m\u001b[0m\u001b[0m\n\u001b[0;32m--> 288\u001b[0;31m             return [func(*args, **kwargs)\n\u001b[0m\u001b[1;32m    289\u001b[0m                     for func, args, kwargs in self.items]\n\u001b[1;32m    290\u001b[0m \u001b[0;34m\u001b[0m\u001b[0m\n",
            "\u001b[0;32m/usr/local/lib/python3.10/dist-packages/joblib/parallel.py\u001b[0m in \u001b[0;36m<listcomp>\u001b[0;34m(.0)\u001b[0m\n\u001b[1;32m    286\u001b[0m         \u001b[0;31m# change the default number of processes to -1\u001b[0m\u001b[0;34m\u001b[0m\u001b[0;34m\u001b[0m\u001b[0m\n\u001b[1;32m    287\u001b[0m         \u001b[0;32mwith\u001b[0m \u001b[0mparallel_backend\u001b[0m\u001b[0;34m(\u001b[0m\u001b[0mself\u001b[0m\u001b[0;34m.\u001b[0m\u001b[0m_backend\u001b[0m\u001b[0;34m,\u001b[0m \u001b[0mn_jobs\u001b[0m\u001b[0;34m=\u001b[0m\u001b[0mself\u001b[0m\u001b[0;34m.\u001b[0m\u001b[0m_n_jobs\u001b[0m\u001b[0;34m)\u001b[0m\u001b[0;34m:\u001b[0m\u001b[0;34m\u001b[0m\u001b[0;34m\u001b[0m\u001b[0m\n\u001b[0;32m--> 288\u001b[0;31m             return [func(*args, **kwargs)\n\u001b[0m\u001b[1;32m    289\u001b[0m                     for func, args, kwargs in self.items]\n\u001b[1;32m    290\u001b[0m \u001b[0;34m\u001b[0m\u001b[0m\n",
            "\u001b[0;32m/usr/local/lib/python3.10/dist-packages/sklearn/utils/parallel.py\u001b[0m in \u001b[0;36m__call__\u001b[0;34m(self, *args, **kwargs)\u001b[0m\n\u001b[1;32m    121\u001b[0m             \u001b[0mconfig\u001b[0m \u001b[0;34m=\u001b[0m \u001b[0;34m{\u001b[0m\u001b[0;34m}\u001b[0m\u001b[0;34m\u001b[0m\u001b[0;34m\u001b[0m\u001b[0m\n\u001b[1;32m    122\u001b[0m         \u001b[0;32mwith\u001b[0m \u001b[0mconfig_context\u001b[0m\u001b[0;34m(\u001b[0m\u001b[0;34m**\u001b[0m\u001b[0mconfig\u001b[0m\u001b[0;34m)\u001b[0m\u001b[0;34m:\u001b[0m\u001b[0;34m\u001b[0m\u001b[0;34m\u001b[0m\u001b[0m\n\u001b[0;32m--> 123\u001b[0;31m             \u001b[0;32mreturn\u001b[0m \u001b[0mself\u001b[0m\u001b[0;34m.\u001b[0m\u001b[0mfunction\u001b[0m\u001b[0;34m(\u001b[0m\u001b[0;34m*\u001b[0m\u001b[0margs\u001b[0m\u001b[0;34m,\u001b[0m \u001b[0;34m**\u001b[0m\u001b[0mkwargs\u001b[0m\u001b[0;34m)\u001b[0m\u001b[0;34m\u001b[0m\u001b[0;34m\u001b[0m\u001b[0m\n\u001b[0m",
            "\u001b[0;32m/usr/local/lib/python3.10/dist-packages/sklearn/model_selection/_validation.py\u001b[0m in \u001b[0;36m_fit_and_score\u001b[0;34m(estimator, X, y, scorer, train, test, verbose, parameters, fit_params, return_train_score, return_parameters, return_n_test_samples, return_times, return_estimator, split_progress, candidate_progress, error_score)\u001b[0m\n\u001b[1;32m    684\u001b[0m             \u001b[0mestimator\u001b[0m\u001b[0;34m.\u001b[0m\u001b[0mfit\u001b[0m\u001b[0;34m(\u001b[0m\u001b[0mX_train\u001b[0m\u001b[0;34m,\u001b[0m \u001b[0;34m**\u001b[0m\u001b[0mfit_params\u001b[0m\u001b[0;34m)\u001b[0m\u001b[0;34m\u001b[0m\u001b[0;34m\u001b[0m\u001b[0m\n\u001b[1;32m    685\u001b[0m         \u001b[0;32melse\u001b[0m\u001b[0;34m:\u001b[0m\u001b[0;34m\u001b[0m\u001b[0;34m\u001b[0m\u001b[0m\n\u001b[0;32m--> 686\u001b[0;31m             \u001b[0mestimator\u001b[0m\u001b[0;34m.\u001b[0m\u001b[0mfit\u001b[0m\u001b[0;34m(\u001b[0m\u001b[0mX_train\u001b[0m\u001b[0;34m,\u001b[0m \u001b[0my_train\u001b[0m\u001b[0;34m,\u001b[0m \u001b[0;34m**\u001b[0m\u001b[0mfit_params\u001b[0m\u001b[0;34m)\u001b[0m\u001b[0;34m\u001b[0m\u001b[0;34m\u001b[0m\u001b[0m\n\u001b[0m\u001b[1;32m    687\u001b[0m \u001b[0;34m\u001b[0m\u001b[0m\n\u001b[1;32m    688\u001b[0m     \u001b[0;32mexcept\u001b[0m \u001b[0mException\u001b[0m\u001b[0;34m:\u001b[0m\u001b[0;34m\u001b[0m\u001b[0;34m\u001b[0m\u001b[0m\n",
            "\u001b[0;32m/usr/local/lib/python3.10/dist-packages/sklearn/svm/_base.py\u001b[0m in \u001b[0;36mfit\u001b[0;34m(self, X, y, sample_weight)\u001b[0m\n\u001b[1;32m    250\u001b[0m \u001b[0;34m\u001b[0m\u001b[0m\n\u001b[1;32m    251\u001b[0m         \u001b[0mseed\u001b[0m \u001b[0;34m=\u001b[0m \u001b[0mrnd\u001b[0m\u001b[0;34m.\u001b[0m\u001b[0mrandint\u001b[0m\u001b[0;34m(\u001b[0m\u001b[0mnp\u001b[0m\u001b[0;34m.\u001b[0m\u001b[0miinfo\u001b[0m\u001b[0;34m(\u001b[0m\u001b[0;34m\"i\"\u001b[0m\u001b[0;34m)\u001b[0m\u001b[0;34m.\u001b[0m\u001b[0mmax\u001b[0m\u001b[0;34m)\u001b[0m\u001b[0;34m\u001b[0m\u001b[0;34m\u001b[0m\u001b[0m\n\u001b[0;32m--> 252\u001b[0;31m         \u001b[0mfit\u001b[0m\u001b[0;34m(\u001b[0m\u001b[0mX\u001b[0m\u001b[0;34m,\u001b[0m \u001b[0my\u001b[0m\u001b[0;34m,\u001b[0m \u001b[0msample_weight\u001b[0m\u001b[0;34m,\u001b[0m \u001b[0msolver_type\u001b[0m\u001b[0;34m,\u001b[0m \u001b[0mkernel\u001b[0m\u001b[0;34m,\u001b[0m \u001b[0mrandom_seed\u001b[0m\u001b[0;34m=\u001b[0m\u001b[0mseed\u001b[0m\u001b[0;34m)\u001b[0m\u001b[0;34m\u001b[0m\u001b[0;34m\u001b[0m\u001b[0m\n\u001b[0m\u001b[1;32m    253\u001b[0m         \u001b[0;31m# see comment on the other call to np.iinfo in this file\u001b[0m\u001b[0;34m\u001b[0m\u001b[0;34m\u001b[0m\u001b[0m\n\u001b[1;32m    254\u001b[0m \u001b[0;34m\u001b[0m\u001b[0m\n",
            "\u001b[0;32m/usr/local/lib/python3.10/dist-packages/sklearn/svm/_base.py\u001b[0m in \u001b[0;36m_dense_fit\u001b[0;34m(self, X, y, sample_weight, solver_type, kernel, random_seed)\u001b[0m\n\u001b[1;32m    329\u001b[0m             \u001b[0mself\u001b[0m\u001b[0;34m.\u001b[0m\u001b[0mfit_status_\u001b[0m\u001b[0;34m,\u001b[0m\u001b[0;34m\u001b[0m\u001b[0;34m\u001b[0m\u001b[0m\n\u001b[1;32m    330\u001b[0m             \u001b[0mself\u001b[0m\u001b[0;34m.\u001b[0m\u001b[0m_num_iter\u001b[0m\u001b[0;34m,\u001b[0m\u001b[0;34m\u001b[0m\u001b[0;34m\u001b[0m\u001b[0m\n\u001b[0;32m--> 331\u001b[0;31m         \u001b[0;34m)\u001b[0m \u001b[0;34m=\u001b[0m \u001b[0mlibsvm\u001b[0m\u001b[0;34m.\u001b[0m\u001b[0mfit\u001b[0m\u001b[0;34m(\u001b[0m\u001b[0;34m\u001b[0m\u001b[0;34m\u001b[0m\u001b[0m\n\u001b[0m\u001b[1;32m    332\u001b[0m             \u001b[0mX\u001b[0m\u001b[0;34m,\u001b[0m\u001b[0;34m\u001b[0m\u001b[0;34m\u001b[0m\u001b[0m\n\u001b[1;32m    333\u001b[0m             \u001b[0my\u001b[0m\u001b[0;34m,\u001b[0m\u001b[0;34m\u001b[0m\u001b[0;34m\u001b[0m\u001b[0m\n",
            "\u001b[0;32msklearn/svm/_libsvm.pyx\u001b[0m in \u001b[0;36msklearn.svm._libsvm.fit\u001b[0;34m()\u001b[0m\n",
            "\u001b[0;31mKeyboardInterrupt\u001b[0m: "
          ]
        }
      ]
    },
    {
      "cell_type": "code",
      "source": [
        "search.best_estimator_"
      ],
      "metadata": {
        "id": "q8esolYRbtp7"
      },
      "execution_count": null,
      "outputs": []
    },
    {
      "cell_type": "code",
      "source": [
        "search.best_score_"
      ],
      "metadata": {
        "id": "kAlzv1zrb5qv"
      },
      "execution_count": null,
      "outputs": []
    },
    {
      "cell_type": "code",
      "source": [
        "search.cv_results_"
      ],
      "metadata": {
        "id": "_0elHmjmcFVP"
      },
      "execution_count": null,
      "outputs": []
    },
    {
      "cell_type": "code",
      "source": [
        "search.best_estimator_.score(X_train, y_train)"
      ],
      "metadata": {
        "id": "xj0u4UWdc74q"
      },
      "execution_count": null,
      "outputs": []
    },
    {
      "cell_type": "code",
      "source": [
        "search.best_estimator_.score(X_test, y_test)"
      ],
      "metadata": {
        "id": "YNH1IALudQgk"
      },
      "execution_count": null,
      "outputs": []
    },
    {
      "cell_type": "markdown",
      "source": [
        "##### Tree Model"
      ],
      "metadata": {
        "id": "eRHV3GpZhsCy"
      }
    },
    {
      "cell_type": "code",
      "source": [
        "from sklearn.tree import DecisionTreeRegressor"
      ],
      "metadata": {
        "id": "DuIVjgtnXjn1"
      },
      "execution_count": null,
      "outputs": []
    },
    {
      "cell_type": "code",
      "source": [
        "\n",
        "params = {\n",
        "    'max_depth': [5, 7, 9, 11, 15, 20],\n",
        "    'min_samples_leaf' : [2, 4, 6, 8, 10, 12, 16, 18, 20], \n",
        "    'min_samples_split': [5, 8, 11, 14, 17, 20]\n",
        "}\n",
        "\n",
        "dt = DecisionTreeRegressor()\n",
        "search = GridSearchCV(dt, cv=5, param_grid=params)\n",
        "search.fit(X_train, y_train)"
      ],
      "metadata": {
        "id": "pzroaCVfh7Rd"
      },
      "execution_count": null,
      "outputs": []
    },
    {
      "cell_type": "code",
      "source": [
        "search.best_estimator_"
      ],
      "metadata": {
        "id": "lzBhDyeqkSCb"
      },
      "execution_count": null,
      "outputs": []
    },
    {
      "cell_type": "code",
      "source": [
        "search.best_score_"
      ],
      "metadata": {
        "id": "5A5B_vkOkWzq"
      },
      "execution_count": null,
      "outputs": []
    },
    {
      "cell_type": "code",
      "source": [
        "search.best_estimator_.score(X_train, y_train)"
      ],
      "metadata": {
        "id": "VKJeoo4akvyl"
      },
      "execution_count": null,
      "outputs": []
    },
    {
      "cell_type": "code",
      "source": [
        "search.best_estimator_.score(X_test, y_test)"
      ],
      "metadata": {
        "id": "vfFzRyGMk7Hk"
      },
      "execution_count": null,
      "outputs": []
    },
    {
      "cell_type": "code",
      "source": [
        "from sklearn.ensemble import RandomForestRegressor"
      ],
      "metadata": {
        "id": "fdVYElSak-wP"
      },
      "execution_count": null,
      "outputs": []
    },
    {
      "cell_type": "code",
      "source": [
        "params = {\n",
        "    'n_estimators' :[10,20,30,40,50,60,70,80, 100],\n",
        "    'max_depth': [7], #[5, 7, 9, 11, 15, 20],\n",
        "    'min_samples_leaf' : [10], #[2, 4, 6, 8, 10, 12, 16, 18, 20], \n",
        "    'min_samples_split': [17], #[5, 8, 11, 14, 17, 20]\n",
        "}\n",
        "\n",
        "rf = RandomForestRegressor()\n",
        "search = GridSearchCV(rf, cv=5, param_grid=params)\n",
        "search.fit(X_train, y_train)\n"
      ],
      "metadata": {
        "id": "sYwyySxZlkBw"
      },
      "execution_count": null,
      "outputs": []
    },
    {
      "cell_type": "code",
      "source": [
        "search.best_estimator_"
      ],
      "metadata": {
        "id": "0B1SRaPml84z"
      },
      "execution_count": null,
      "outputs": []
    },
    {
      "cell_type": "code",
      "source": [
        "search.best_score_"
      ],
      "metadata": {
        "id": "pcz5cDg_oVp4"
      },
      "execution_count": null,
      "outputs": []
    },
    {
      "cell_type": "code",
      "source": [
        "search.best_estimator_.score(X_train, y_train)"
      ],
      "metadata": {
        "id": "imrPt52-oZCc"
      },
      "execution_count": null,
      "outputs": []
    },
    {
      "cell_type": "code",
      "source": [
        "search.best_estimator_.score(X_test, y_test)"
      ],
      "metadata": {
        "id": "6nemH3GEofd1"
      },
      "execution_count": null,
      "outputs": []
    },
    {
      "cell_type": "code",
      "source": [],
      "metadata": {
        "id": "kFsKdMeVoi3r"
      },
      "execution_count": null,
      "outputs": []
    },
    {
      "cell_type": "markdown",
      "source": [
        "#Prediciting on test data for submission"
      ],
      "metadata": {
        "id": "kQszl8lBXSFv"
      }
    },
    {
      "cell_type": "code",
      "source": [],
      "metadata": {
        "id": "kYfCOiCNXRek"
      },
      "execution_count": null,
      "outputs": []
    },
    {
      "cell_type": "code",
      "source": [
        "bt_test = bt_encoder.transform(test_data.business_type).reshape(-1,1)\n",
        "ce_test = city_encoder.transform(test_data.city).reshape(-1,1)\n",
        "sl_test = sl_encoder.transform(test_data.store_location).reshape(-1, 1) \n",
        "cs_test = cs_encoder.transform(np.array(test_data.credit_score).reshape(-1,1)).reshape(-1, 1) # credit score\n",
        "ec_test = ec_encoder.transform(np.array(test_data.location_employee_code).reshape(-1,1)).reshape(-1,1)  # employee code\n",
        "st_test = st_encoder.transform(test_data.state).reshape(-1, 1) # state\n",
        "age_scaled_test = age_scaler.transform(np.array(test_data.avg_age).reshape(-1,1)).reshape(-1, 1)\n",
        "hhi_scaled_test = hhi_scaler.transform(np.array(test_data.total_household_income).reshape(-1,1)).reshape(-1, 1) # house hold income\n",
        "es_scaled_test = es_scaler.transform(np.array(test_data.employee_size).reshape(-1,1)).reshape(-1, 1)  # employee size"
      ],
      "metadata": {
        "id": "XaTXDi7SXhcP"
      },
      "execution_count": null,
      "outputs": []
    },
    {
      "cell_type": "code",
      "source": [
        "X_sub = np.hstack([bt_test, ce_test, sl_test, cs_test, ec_test, st_test, age_scaled_test, hhi_scaled_test, es_scaled_test])\n",
        "X_sub.shape"
      ],
      "metadata": {
        "id": "pd4sJsVIYMcS"
      },
      "execution_count": null,
      "outputs": []
    },
    {
      "cell_type": "code",
      "source": [
        "y_sub_scaled = lr_model.predict(X_sub)\n",
        "y_sub_scaled.shape"
      ],
      "metadata": {
        "id": "Et5sfFLjemc-"
      },
      "execution_count": null,
      "outputs": []
    },
    {
      "cell_type": "code",
      "source": [
        "y_sub = ts_scaler.inverse_transform(y_sub_scaled)"
      ],
      "metadata": {
        "id": "sujEMViigGBb"
      },
      "execution_count": null,
      "outputs": []
    },
    {
      "cell_type": "code",
      "source": [
        "np.hstack([y_sub_scaled, y_sub])"
      ],
      "metadata": {
        "id": "FNGXcbDwgWSa"
      },
      "execution_count": null,
      "outputs": []
    },
    {
      "cell_type": "code",
      "source": [
        "sub = pd.DataFrame(data=np.hstack([np.array(test_data.outlet_no).reshape(-1,1), y_sub]),columns=['outlet_no', 'total_sales_actual'], dtype=np.int64)\n",
        "#, column=['outlet_no', 'total_sales'])\n",
        "sub.outlet_no = sub.outlet_no.astype(np.int32)\n",
        "sub\n",
        "sub.to_csv(f'{base_folder}/my_sub.csv', columns=['outlet_no', 'total_sales_actual'])"
      ],
      "metadata": {
        "id": "qJvzNSktgiy9"
      },
      "execution_count": null,
      "outputs": []
    },
    {
      "cell_type": "code",
      "source": [],
      "metadata": {
        "id": "U1VBGgqAgtDS"
      },
      "execution_count": null,
      "outputs": []
    }
  ]
}