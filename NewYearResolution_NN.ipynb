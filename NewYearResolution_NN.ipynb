{
  "nbformat": 4,
  "nbformat_minor": 0,
  "metadata": {
    "colab": {
      "provenance": [],
      "authorship_tag": "ABX9TyOO4molC3Ts5WB1dXS0+0zV",
      "include_colab_link": true
    },
    "kernelspec": {
      "name": "python3",
      "display_name": "Python 3"
    },
    "language_info": {
      "name": "python"
    }
  },
  "cells": [
    {
      "cell_type": "markdown",
      "metadata": {
        "id": "view-in-github",
        "colab_type": "text"
      },
      "source": [
        "<a href=\"https://colab.research.google.com/github/ayushabhinav/TechGig/blob/main/NewYearResolution_NN.ipynb\" target=\"_parent\"><img src=\"https://colab.research.google.com/assets/colab-badge.svg\" alt=\"Open In Colab\"/></a>"
      ]
    },
    {
      "cell_type": "code",
      "execution_count": 1,
      "metadata": {
        "id": "ar3hZNxeDzIA",
        "colab": {
          "base_uri": "https://localhost:8080/"
        },
        "outputId": "d377b42c-1652-4017-fe14-797d8f29a387"
      },
      "outputs": [
        {
          "output_type": "stream",
          "name": "stdout",
          "text": [
            "Mounted at /drive\n"
          ]
        }
      ],
      "source": [
        "from google.colab import drive\n",
        "drive.mount('/drive')"
      ]
    },
    {
      "cell_type": "code",
      "source": [
        "! ls -lrt /drive/MyDrive/NewYearResolutionDataset"
      ],
      "metadata": {
        "colab": {
          "base_uri": "https://localhost:8080/"
        },
        "id": "Qukud404OOQm",
        "outputId": "73524092-b4e5-468b-a947-97c8bc05dc1c"
      },
      "execution_count": 2,
      "outputs": [
        {
          "output_type": "stream",
          "name": "stdout",
          "text": [
            "total 1294\n",
            "-rw------- 1 root root  33779 Feb 28 14:22 test.csv\n",
            "-rw------- 1 root root  46862 Feb 28 14:22 train.csv\n",
            "-rw------- 1 root root   2828 Feb 28 14:23 sample-submission.csv\n",
            "-rw------- 1 root root 804552 Jun 24 08:42 NewYearResolution.ipynb\n",
            "-rw------- 1 root root   3575 Jun 24 08:42 my_sub.csv\n",
            "-rw------- 1 root root 432073 Jun 29 09:54 NewYearResolution_NN.ipynb\n"
          ]
        }
      ]
    },
    {
      "cell_type": "code",
      "source": [
        "import os\n",
        "import pandas as pd\n",
        "import numpy as np\n",
        "from typing import List\n",
        "import matplotlib.pyplot as plt\n",
        "import seaborn as sns"
      ],
      "metadata": {
        "id": "fGE1rqfFOmvI"
      },
      "execution_count": 3,
      "outputs": []
    },
    {
      "cell_type": "code",
      "source": [
        "base_dir = '/drive/MyDrive/NewYearResolutionDataset'\n",
        "train_file = os.path.join(base_dir, 'train.csv')\n",
        "test_file = os.path.join(base_dir, 'test.csv')"
      ],
      "metadata": {
        "id": "mZpBq1CbOWtp"
      },
      "execution_count": 4,
      "outputs": []
    },
    {
      "cell_type": "code",
      "source": [
        "train_data = pd.read_csv(train_file)\n",
        "test_data = pd.read_csv(test_file)"
      ],
      "metadata": {
        "id": "g_fY_9VCO0Yl"
      },
      "execution_count": 5,
      "outputs": []
    },
    {
      "cell_type": "markdown",
      "source": [
        "#### EDA on train data"
      ],
      "metadata": {
        "id": "ibpEkJlyPPjm"
      }
    },
    {
      "cell_type": "code",
      "source": [
        "train_data.info()"
      ],
      "metadata": {
        "colab": {
          "base_uri": "https://localhost:8080/"
        },
        "id": "6czr-f71PNY1",
        "outputId": "a6f5750a-feeb-42c8-fb3b-c066a1456011"
      },
      "execution_count": 6,
      "outputs": [
        {
          "output_type": "stream",
          "name": "stdout",
          "text": [
            "<class 'pandas.core.frame.DataFrame'>\n",
            "RangeIndex: 344 entries, 0 to 343\n",
            "Data columns (total 22 columns):\n",
            " #   Column                  Non-Null Count  Dtype  \n",
            "---  ------                  --------------  -----  \n",
            " 0   outlet_no               344 non-null    int64  \n",
            " 1   business_type           344 non-null    int64  \n",
            " 2   city                    344 non-null    object \n",
            " 3   state                   344 non-null    object \n",
            " 4   zip                     344 non-null    int64  \n",
            " 5   store_location          344 non-null    object \n",
            " 6   avg_age                 344 non-null    float64\n",
            " 7   blue_collar             344 non-null    float64\n",
            " 8   white_collar            344 non-null    float64\n",
            " 9   female                  344 non-null    float64\n",
            " 10  male                    344 non-null    float64\n",
            " 11  total_household_size    344 non-null    float64\n",
            " 12  total_household_income  344 non-null    int64  \n",
            " 13  time_zone               344 non-null    object \n",
            " 14  latitude                344 non-null    float64\n",
            " 15  longitude               344 non-null    float64\n",
            " 16  location_employee_code  344 non-null    object \n",
            " 17  employee_size           344 non-null    int64  \n",
            " 18  credit_score            344 non-null    object \n",
            " 19  credit_score_range      344 non-null    object \n",
            " 20  actual_credit_score     344 non-null    int64  \n",
            " 21  total_sales             344 non-null    int64  \n",
            "dtypes: float64(8), int64(7), object(7)\n",
            "memory usage: 59.2+ KB\n"
          ]
        }
      ]
    },
    {
      "cell_type": "code",
      "source": [
        "train_data.describe().transpose()"
      ],
      "metadata": {
        "colab": {
          "base_uri": "https://localhost:8080/",
          "height": 520
        },
        "id": "yrhDjsLkPU6e",
        "outputId": "e3ef5215-58e1-47dd-8fee-4e91c8e2a87e"
      },
      "execution_count": 7,
      "outputs": [
        {
          "output_type": "execute_result",
          "data": {
            "text/plain": [
              "                        count          mean           std           min  \\\n",
              "outlet_no               344.0  5.510494e+02  1.747093e+02  2.470000e+02   \n",
              "business_type           344.0  1.279070e+00  8.726644e-01  1.000000e+00   \n",
              "zip                     344.0  5.232469e+04  2.534889e+04  1.003200e+04   \n",
              "avg_age                 344.0  4.016640e+01  8.735648e+00  1.967000e+01   \n",
              "blue_collar             344.0  3.825093e+01  1.667214e+01  0.000000e+00   \n",
              "white_collar            344.0  3.926945e+01  1.242370e+01  0.000000e+00   \n",
              "female                  344.0  5.242904e+01  6.056760e+00  2.000000e-01   \n",
              "male                    344.0  4.757102e+01  6.056753e+00  2.908000e+01   \n",
              "total_household_size    344.0  2.286715e+00  5.505952e-01  0.000000e+00   \n",
              "total_household_income  344.0  6.209274e+07  3.023098e+07  1.605400e+07   \n",
              "latitude                344.0  3.699070e+01  5.313465e+00  2.615870e+01   \n",
              "longitude               344.0 -9.103109e+01  1.260014e+01 -1.227421e+02   \n",
              "employee_size           344.0  1.646541e+02  7.128445e+02  3.000000e+00   \n",
              "actual_credit_score     344.0  8.966860e+01  7.091699e+00  6.700000e+01   \n",
              "total_sales             344.0  1.938712e+04  9.650131e+04  4.140000e+02   \n",
              "\n",
              "                                 25%           50%           75%           max  \n",
              "outlet_no               4.075000e+02  5.505000e+02  7.007500e+02  8.450000e+02  \n",
              "business_type           1.000000e+00  1.000000e+00  1.000000e+00  4.000000e+00  \n",
              "zip                     3.363250e+04  4.684500e+04  7.716500e+04  9.837000e+04  \n",
              "avg_age                 3.462000e+01  3.917000e+01  4.402750e+01  8.012000e+01  \n",
              "blue_collar             2.557500e+01  3.748000e+01  4.916250e+01  7.864000e+01  \n",
              "white_collar            3.101750e+01  3.860500e+01  4.636750e+01  1.000000e+02  \n",
              "female                  5.064250e+01  5.248000e+01  5.452000e+01  7.092000e+01  \n",
              "male                    4.548000e+01  4.752000e+01  4.935750e+01  9.980000e+01  \n",
              "total_household_size    1.930000e+00  2.270000e+00  2.570000e+00  4.080000e+00  \n",
              "total_household_income  4.072800e+07  5.516400e+07  7.542600e+07  2.218590e+08  \n",
              "latitude                3.280248e+01  3.856343e+01  4.070044e+01  4.773876e+01  \n",
              "longitude              -9.820842e+01 -8.671924e+01 -8.190857e+01 -7.380188e+01  \n",
              "employee_size           4.000000e+00  1.500000e+01  7.000000e+01  1.000000e+04  \n",
              "actual_credit_score     8.500000e+01  9.100000e+01  9.500000e+01  1.000000e+02  \n",
              "total_sales             5.627500e+02  1.738500e+03  5.473750e+03  1.424392e+06  "
            ],
            "text/html": [
              "\n",
              "  <div id=\"df-766a080b-6ee4-40b9-934a-2744c189a671\">\n",
              "    <div class=\"colab-df-container\">\n",
              "      <div>\n",
              "<style scoped>\n",
              "    .dataframe tbody tr th:only-of-type {\n",
              "        vertical-align: middle;\n",
              "    }\n",
              "\n",
              "    .dataframe tbody tr th {\n",
              "        vertical-align: top;\n",
              "    }\n",
              "\n",
              "    .dataframe thead th {\n",
              "        text-align: right;\n",
              "    }\n",
              "</style>\n",
              "<table border=\"1\" class=\"dataframe\">\n",
              "  <thead>\n",
              "    <tr style=\"text-align: right;\">\n",
              "      <th></th>\n",
              "      <th>count</th>\n",
              "      <th>mean</th>\n",
              "      <th>std</th>\n",
              "      <th>min</th>\n",
              "      <th>25%</th>\n",
              "      <th>50%</th>\n",
              "      <th>75%</th>\n",
              "      <th>max</th>\n",
              "    </tr>\n",
              "  </thead>\n",
              "  <tbody>\n",
              "    <tr>\n",
              "      <th>outlet_no</th>\n",
              "      <td>344.0</td>\n",
              "      <td>5.510494e+02</td>\n",
              "      <td>1.747093e+02</td>\n",
              "      <td>2.470000e+02</td>\n",
              "      <td>4.075000e+02</td>\n",
              "      <td>5.505000e+02</td>\n",
              "      <td>7.007500e+02</td>\n",
              "      <td>8.450000e+02</td>\n",
              "    </tr>\n",
              "    <tr>\n",
              "      <th>business_type</th>\n",
              "      <td>344.0</td>\n",
              "      <td>1.279070e+00</td>\n",
              "      <td>8.726644e-01</td>\n",
              "      <td>1.000000e+00</td>\n",
              "      <td>1.000000e+00</td>\n",
              "      <td>1.000000e+00</td>\n",
              "      <td>1.000000e+00</td>\n",
              "      <td>4.000000e+00</td>\n",
              "    </tr>\n",
              "    <tr>\n",
              "      <th>zip</th>\n",
              "      <td>344.0</td>\n",
              "      <td>5.232469e+04</td>\n",
              "      <td>2.534889e+04</td>\n",
              "      <td>1.003200e+04</td>\n",
              "      <td>3.363250e+04</td>\n",
              "      <td>4.684500e+04</td>\n",
              "      <td>7.716500e+04</td>\n",
              "      <td>9.837000e+04</td>\n",
              "    </tr>\n",
              "    <tr>\n",
              "      <th>avg_age</th>\n",
              "      <td>344.0</td>\n",
              "      <td>4.016640e+01</td>\n",
              "      <td>8.735648e+00</td>\n",
              "      <td>1.967000e+01</td>\n",
              "      <td>3.462000e+01</td>\n",
              "      <td>3.917000e+01</td>\n",
              "      <td>4.402750e+01</td>\n",
              "      <td>8.012000e+01</td>\n",
              "    </tr>\n",
              "    <tr>\n",
              "      <th>blue_collar</th>\n",
              "      <td>344.0</td>\n",
              "      <td>3.825093e+01</td>\n",
              "      <td>1.667214e+01</td>\n",
              "      <td>0.000000e+00</td>\n",
              "      <td>2.557500e+01</td>\n",
              "      <td>3.748000e+01</td>\n",
              "      <td>4.916250e+01</td>\n",
              "      <td>7.864000e+01</td>\n",
              "    </tr>\n",
              "    <tr>\n",
              "      <th>white_collar</th>\n",
              "      <td>344.0</td>\n",
              "      <td>3.926945e+01</td>\n",
              "      <td>1.242370e+01</td>\n",
              "      <td>0.000000e+00</td>\n",
              "      <td>3.101750e+01</td>\n",
              "      <td>3.860500e+01</td>\n",
              "      <td>4.636750e+01</td>\n",
              "      <td>1.000000e+02</td>\n",
              "    </tr>\n",
              "    <tr>\n",
              "      <th>female</th>\n",
              "      <td>344.0</td>\n",
              "      <td>5.242904e+01</td>\n",
              "      <td>6.056760e+00</td>\n",
              "      <td>2.000000e-01</td>\n",
              "      <td>5.064250e+01</td>\n",
              "      <td>5.248000e+01</td>\n",
              "      <td>5.452000e+01</td>\n",
              "      <td>7.092000e+01</td>\n",
              "    </tr>\n",
              "    <tr>\n",
              "      <th>male</th>\n",
              "      <td>344.0</td>\n",
              "      <td>4.757102e+01</td>\n",
              "      <td>6.056753e+00</td>\n",
              "      <td>2.908000e+01</td>\n",
              "      <td>4.548000e+01</td>\n",
              "      <td>4.752000e+01</td>\n",
              "      <td>4.935750e+01</td>\n",
              "      <td>9.980000e+01</td>\n",
              "    </tr>\n",
              "    <tr>\n",
              "      <th>total_household_size</th>\n",
              "      <td>344.0</td>\n",
              "      <td>2.286715e+00</td>\n",
              "      <td>5.505952e-01</td>\n",
              "      <td>0.000000e+00</td>\n",
              "      <td>1.930000e+00</td>\n",
              "      <td>2.270000e+00</td>\n",
              "      <td>2.570000e+00</td>\n",
              "      <td>4.080000e+00</td>\n",
              "    </tr>\n",
              "    <tr>\n",
              "      <th>total_household_income</th>\n",
              "      <td>344.0</td>\n",
              "      <td>6.209274e+07</td>\n",
              "      <td>3.023098e+07</td>\n",
              "      <td>1.605400e+07</td>\n",
              "      <td>4.072800e+07</td>\n",
              "      <td>5.516400e+07</td>\n",
              "      <td>7.542600e+07</td>\n",
              "      <td>2.218590e+08</td>\n",
              "    </tr>\n",
              "    <tr>\n",
              "      <th>latitude</th>\n",
              "      <td>344.0</td>\n",
              "      <td>3.699070e+01</td>\n",
              "      <td>5.313465e+00</td>\n",
              "      <td>2.615870e+01</td>\n",
              "      <td>3.280248e+01</td>\n",
              "      <td>3.856343e+01</td>\n",
              "      <td>4.070044e+01</td>\n",
              "      <td>4.773876e+01</td>\n",
              "    </tr>\n",
              "    <tr>\n",
              "      <th>longitude</th>\n",
              "      <td>344.0</td>\n",
              "      <td>-9.103109e+01</td>\n",
              "      <td>1.260014e+01</td>\n",
              "      <td>-1.227421e+02</td>\n",
              "      <td>-9.820842e+01</td>\n",
              "      <td>-8.671924e+01</td>\n",
              "      <td>-8.190857e+01</td>\n",
              "      <td>-7.380188e+01</td>\n",
              "    </tr>\n",
              "    <tr>\n",
              "      <th>employee_size</th>\n",
              "      <td>344.0</td>\n",
              "      <td>1.646541e+02</td>\n",
              "      <td>7.128445e+02</td>\n",
              "      <td>3.000000e+00</td>\n",
              "      <td>4.000000e+00</td>\n",
              "      <td>1.500000e+01</td>\n",
              "      <td>7.000000e+01</td>\n",
              "      <td>1.000000e+04</td>\n",
              "    </tr>\n",
              "    <tr>\n",
              "      <th>actual_credit_score</th>\n",
              "      <td>344.0</td>\n",
              "      <td>8.966860e+01</td>\n",
              "      <td>7.091699e+00</td>\n",
              "      <td>6.700000e+01</td>\n",
              "      <td>8.500000e+01</td>\n",
              "      <td>9.100000e+01</td>\n",
              "      <td>9.500000e+01</td>\n",
              "      <td>1.000000e+02</td>\n",
              "    </tr>\n",
              "    <tr>\n",
              "      <th>total_sales</th>\n",
              "      <td>344.0</td>\n",
              "      <td>1.938712e+04</td>\n",
              "      <td>9.650131e+04</td>\n",
              "      <td>4.140000e+02</td>\n",
              "      <td>5.627500e+02</td>\n",
              "      <td>1.738500e+03</td>\n",
              "      <td>5.473750e+03</td>\n",
              "      <td>1.424392e+06</td>\n",
              "    </tr>\n",
              "  </tbody>\n",
              "</table>\n",
              "</div>\n",
              "      <button class=\"colab-df-convert\" onclick=\"convertToInteractive('df-766a080b-6ee4-40b9-934a-2744c189a671')\"\n",
              "              title=\"Convert this dataframe to an interactive table.\"\n",
              "              style=\"display:none;\">\n",
              "        \n",
              "  <svg xmlns=\"http://www.w3.org/2000/svg\" height=\"24px\"viewBox=\"0 0 24 24\"\n",
              "       width=\"24px\">\n",
              "    <path d=\"M0 0h24v24H0V0z\" fill=\"none\"/>\n",
              "    <path d=\"M18.56 5.44l.94 2.06.94-2.06 2.06-.94-2.06-.94-.94-2.06-.94 2.06-2.06.94zm-11 1L8.5 8.5l.94-2.06 2.06-.94-2.06-.94L8.5 2.5l-.94 2.06-2.06.94zm10 10l.94 2.06.94-2.06 2.06-.94-2.06-.94-.94-2.06-.94 2.06-2.06.94z\"/><path d=\"M17.41 7.96l-1.37-1.37c-.4-.4-.92-.59-1.43-.59-.52 0-1.04.2-1.43.59L10.3 9.45l-7.72 7.72c-.78.78-.78 2.05 0 2.83L4 21.41c.39.39.9.59 1.41.59.51 0 1.02-.2 1.41-.59l7.78-7.78 2.81-2.81c.8-.78.8-2.07 0-2.86zM5.41 20L4 18.59l7.72-7.72 1.47 1.35L5.41 20z\"/>\n",
              "  </svg>\n",
              "      </button>\n",
              "      \n",
              "  <style>\n",
              "    .colab-df-container {\n",
              "      display:flex;\n",
              "      flex-wrap:wrap;\n",
              "      gap: 12px;\n",
              "    }\n",
              "\n",
              "    .colab-df-convert {\n",
              "      background-color: #E8F0FE;\n",
              "      border: none;\n",
              "      border-radius: 50%;\n",
              "      cursor: pointer;\n",
              "      display: none;\n",
              "      fill: #1967D2;\n",
              "      height: 32px;\n",
              "      padding: 0 0 0 0;\n",
              "      width: 32px;\n",
              "    }\n",
              "\n",
              "    .colab-df-convert:hover {\n",
              "      background-color: #E2EBFA;\n",
              "      box-shadow: 0px 1px 2px rgba(60, 64, 67, 0.3), 0px 1px 3px 1px rgba(60, 64, 67, 0.15);\n",
              "      fill: #174EA6;\n",
              "    }\n",
              "\n",
              "    [theme=dark] .colab-df-convert {\n",
              "      background-color: #3B4455;\n",
              "      fill: #D2E3FC;\n",
              "    }\n",
              "\n",
              "    [theme=dark] .colab-df-convert:hover {\n",
              "      background-color: #434B5C;\n",
              "      box-shadow: 0px 1px 3px 1px rgba(0, 0, 0, 0.15);\n",
              "      filter: drop-shadow(0px 1px 2px rgba(0, 0, 0, 0.3));\n",
              "      fill: #FFFFFF;\n",
              "    }\n",
              "  </style>\n",
              "\n",
              "      <script>\n",
              "        const buttonEl =\n",
              "          document.querySelector('#df-766a080b-6ee4-40b9-934a-2744c189a671 button.colab-df-convert');\n",
              "        buttonEl.style.display =\n",
              "          google.colab.kernel.accessAllowed ? 'block' : 'none';\n",
              "\n",
              "        async function convertToInteractive(key) {\n",
              "          const element = document.querySelector('#df-766a080b-6ee4-40b9-934a-2744c189a671');\n",
              "          const dataTable =\n",
              "            await google.colab.kernel.invokeFunction('convertToInteractive',\n",
              "                                                     [key], {});\n",
              "          if (!dataTable) return;\n",
              "\n",
              "          const docLinkHtml = 'Like what you see? Visit the ' +\n",
              "            '<a target=\"_blank\" href=https://colab.research.google.com/notebooks/data_table.ipynb>data table notebook</a>'\n",
              "            + ' to learn more about interactive tables.';\n",
              "          element.innerHTML = '';\n",
              "          dataTable['output_type'] = 'display_data';\n",
              "          await google.colab.output.renderOutput(dataTable, element);\n",
              "          const docLink = document.createElement('div');\n",
              "          docLink.innerHTML = docLinkHtml;\n",
              "          element.appendChild(docLink);\n",
              "        }\n",
              "      </script>\n",
              "    </div>\n",
              "  </div>\n",
              "  "
            ]
          },
          "metadata": {},
          "execution_count": 7
        }
      ]
    },
    {
      "cell_type": "markdown",
      "source": [
        "- no null value in data"
      ],
      "metadata": {
        "id": "jqmmslWpWMVu"
      }
    },
    {
      "cell_type": "code",
      "source": [
        "sns.boxplot(data=train_data, x='total_sales')"
      ],
      "metadata": {
        "colab": {
          "base_uri": "https://localhost:8080/",
          "height": 467
        },
        "id": "o9sKyDcGPfDx",
        "outputId": "38dec4bb-6827-425f-fce3-d0a9b478b5c7"
      },
      "execution_count": 8,
      "outputs": [
        {
          "output_type": "execute_result",
          "data": {
            "text/plain": [
              "<Axes: xlabel='total_sales'>"
            ]
          },
          "metadata": {},
          "execution_count": 8
        },
        {
          "output_type": "display_data",
          "data": {
            "text/plain": [
              "<Figure size 640x480 with 1 Axes>"
            ],
            "image/png": "[encoded data removed]"
          },
          "metadata": {}
        }
      ]
    },
    {
      "cell_type": "markdown",
      "source": [
        "- there is outlier in total_sales"
      ],
      "metadata": {
        "id": "vpDIpM_QWGJL"
      }
    },
    {
      "cell_type": "code",
      "source": [
        "plt.figure(figsize=(15,8))\n",
        "sns.heatmap(train_data.corr() * 100 , cmap=\"PiYG\", annot=True)\n"
      ],
      "metadata": {
        "colab": {
          "base_uri": "https://localhost:8080/",
          "height": 908
        },
        "id": "LSIKXU9OQLKS",
        "outputId": "65ce9611-209c-4e42-d9a8-da1e53316584"
      },
      "execution_count": 9,
      "outputs": [
        {
          "output_type": "stream",
          "name": "stderr",
          "text": [
            "<ipython-input-9-90a111d1cbda>:2: FutureWarning: The default value of numeric_only in DataFrame.corr is deprecated. In a future version, it will default to False. Select only valid columns or specify the value of numeric_only to silence this warning.\n",
            "  sns.heatmap(train_data.corr() * 100 , cmap=\"PiYG\", annot=True)\n"
          ]
        },
        {
          "output_type": "execute_result",
          "data": {
            "text/plain": [
              "<Axes: >"
            ]
          },
          "metadata": {},
          "execution_count": 9
        },
        {
          "output_type": "display_data",
          "data": {
            "text/plain": [
              "<Figure size 1500x800 with 2 Axes>"
            ],
            "image/png": "[encoded data removed]"
          },
          "metadata": {}
        }
      ]
    },
    {
      "cell_type": "markdown",
      "source": [
        "- employee size and total_salea are highy correlated.\n",
        "- male X female, white collar X blue collar are higly correlated\n",
        "- blue-collar X household income\n",
        "- age X household, male, female, white, blue collar\n",
        "- zip X latitudes, longitudes, male, female, age"
      ],
      "metadata": {
        "id": "8gKNuKhIRsai"
      }
    },
    {
      "cell_type": "code",
      "source": [
        "sns.jointplot(data=train_data[train_data.employee_size<2000], x='employee_size', y='total_sales')"
      ],
      "metadata": {
        "colab": {
          "base_uri": "https://localhost:8080/",
          "height": 624
        },
        "id": "lcvNMbBoR4d5",
        "outputId": "6051076c-ee47-4100-cc3d-16c68e715118"
      },
      "execution_count": 10,
      "outputs": [
        {
          "output_type": "execute_result",
          "data": {
            "text/plain": [
              "<seaborn.axisgrid.JointGrid at 0x7f05ff2e0fa0>"
            ]
          },
          "metadata": {},
          "execution_count": 10
        },
        {
          "output_type": "display_data",
          "data": {
            "text/plain": [
              "<Figure size 600x600 with 3 Axes>"
            ],
            "image/png": "[encoded data removed]"
          },
          "metadata": {}
        }
      ]
    },
    {
      "cell_type": "code",
      "source": [
        "sns.lmplot(data=train_data, x='employee_size', y='total_sales')"
      ],
      "metadata": {
        "colab": {
          "base_uri": "https://localhost:8080/",
          "height": 523
        },
        "id": "hinmAe2dUs7O",
        "outputId": "c3714aab-cd81-4aed-faf1-86a46c1e3c6c"
      },
      "execution_count": 11,
      "outputs": [
        {
          "output_type": "execute_result",
          "data": {
            "text/plain": [
              "<seaborn.axisgrid.FacetGrid at 0x7f05ff529780>"
            ]
          },
          "metadata": {},
          "execution_count": 11
        },
        {
          "output_type": "display_data",
          "data": {
            "text/plain": [
              "<Figure size 500x500 with 1 Axes>"
            ],
            "image/png": "[encoded data removed]"
          },
          "metadata": {}
        }
      ]
    },
    {
      "cell_type": "code",
      "source": [
        "from sklearn.linear_model import  LinearRegression\n",
        "from sklearn.model_selection import train_test_split\n",
        "from sklearn.metrics import mean_squared_error"
      ],
      "metadata": {
        "id": "BMQgPBFVVZ1l"
      },
      "execution_count": 12,
      "outputs": []
    },
    {
      "cell_type": "code",
      "source": [
        "sns.lineplot(train_data.total_sales.sort_values()[-20:].to_list())\n",
        "# this is to check the slo of the line when we connect the values in ascending order"
      ],
      "metadata": {
        "colab": {
          "base_uri": "https://localhost:8080/",
          "height": 462
        },
        "id": "WYxP8q2XY9hI",
        "outputId": "1df811cf-5249-47fa-e5ef-4aa2268d0dad"
      },
      "execution_count": 13,
      "outputs": [
        {
          "output_type": "execute_result",
          "data": {
            "text/plain": [
              "<Axes: >"
            ]
          },
          "metadata": {},
          "execution_count": 13
        },
        {
          "output_type": "display_data",
          "data": {
            "text/plain": [
              "<Figure size 640x480 with 1 Axes>"
            ],
            "image/png": "[encoded data removed]"
          },
          "metadata": {}
        }
      ]
    },
    {
      "cell_type": "code",
      "source": [
        "filt = train_data.total_sales > 0.4 * 10**6\n",
        "train_data[filt]"
      ],
      "metadata": {
        "colab": {
          "base_uri": "https://localhost:8080/",
          "height": 254
        },
        "id": "UcQ-ZJj0Z7LB",
        "outputId": "609fcd16-eb10-4129-bd4a-6fabc6adeb71"
      },
      "execution_count": 14,
      "outputs": [
        {
          "output_type": "execute_result",
          "data": {
            "text/plain": [
              "     outlet_no  business_type        city state    zip store_location  \\\n",
              "119        841              1   BETHLEHEM    PA  18017        AT-WORK   \n",
              "298        582              1     PHOENIX    AZ  85006        AT-WORK   \n",
              "304        621              1  FORT WAYNE    IN  46845        AT-WORK   \n",
              "\n",
              "     avg_age  blue_collar  white_collar  female  ...  total_household_income  \\\n",
              "119    62.34        31.17         44.72   61.98  ...                29932000   \n",
              "298    34.70        78.36         26.39   46.62  ...                24886000   \n",
              "304    35.05        20.72         51.14   50.00  ...                81782000   \n",
              "\n",
              "     time_zone   latitude   longitude  location_employee_code  employee_size  \\\n",
              "119        EST  40.644637  -75.407893                       K          10000   \n",
              "298        MST  33.465674 -112.058792                       I           3800   \n",
              "304        EST  41.180940  -85.101941                       I           4000   \n",
              "\n",
              "    credit_score  credit_score_range actual_credit_score total_sales  \n",
              "119           C+            75 TO 79                  78     1424392  \n",
              "298           A+           95 TO 100                 100      629829  \n",
              "304           B+            85 TO 89                  88      556016  \n",
              "\n",
              "[3 rows x 22 columns]"
            ],
            "text/html": [
              "\n",
              "  <div id=\"df-1875468e-7eba-4781-b340-9a2386c83fcb\">\n",
              "    <div class=\"colab-df-container\">\n",
              "      <div>\n",
              "<style scoped>\n",
              "    .dataframe tbody tr th:only-of-type {\n",
              "        vertical-align: middle;\n",
              "    }\n",
              "\n",
              "    .dataframe tbody tr th {\n",
              "        vertical-align: top;\n",
              "    }\n",
              "\n",
              "    .dataframe thead th {\n",
              "        text-align: right;\n",
              "    }\n",
              "</style>\n",
              "<table border=\"1\" class=\"dataframe\">\n",
              "  <thead>\n",
              "    <tr style=\"text-align: right;\">\n",
              "      <th></th>\n",
              "      <th>outlet_no</th>\n",
              "      <th>business_type</th>\n",
              "      <th>city</th>\n",
              "      <th>state</th>\n",
              "      <th>zip</th>\n",
              "      <th>store_location</th>\n",
              "      <th>avg_age</th>\n",
              "      <th>blue_collar</th>\n",
              "      <th>white_collar</th>\n",
              "      <th>female</th>\n",
              "      <th>...</th>\n",
              "      <th>total_household_income</th>\n",
              "      <th>time_zone</th>\n",
              "      <th>latitude</th>\n",
              "      <th>longitude</th>\n",
              "      <th>location_employee_code</th>\n",
              "      <th>employee_size</th>\n",
              "      <th>credit_score</th>\n",
              "      <th>credit_score_range</th>\n",
              "      <th>actual_credit_score</th>\n",
              "      <th>total_sales</th>\n",
              "    </tr>\n",
              "  </thead>\n",
              "  <tbody>\n",
              "    <tr>\n",
              "      <th>119</th>\n",
              "      <td>841</td>\n",
              "      <td>1</td>\n",
              "      <td>BETHLEHEM</td>\n",
              "      <td>PA</td>\n",
              "      <td>18017</td>\n",
              "      <td>AT-WORK</td>\n",
              "      <td>62.34</td>\n",
              "      <td>31.17</td>\n",
              "      <td>44.72</td>\n",
              "      <td>61.98</td>\n",
              "      <td>...</td>\n",
              "      <td>29932000</td>\n",
              "      <td>EST</td>\n",
              "      <td>40.644637</td>\n",
              "      <td>-75.407893</td>\n",
              "      <td>K</td>\n",
              "      <td>10000</td>\n",
              "      <td>C+</td>\n",
              "      <td>75 TO 79</td>\n",
              "      <td>78</td>\n",
              "      <td>1424392</td>\n",
              "    </tr>\n",
              "    <tr>\n",
              "      <th>298</th>\n",
              "      <td>582</td>\n",
              "      <td>1</td>\n",
              "      <td>PHOENIX</td>\n",
              "      <td>AZ</td>\n",
              "      <td>85006</td>\n",
              "      <td>AT-WORK</td>\n",
              "      <td>34.70</td>\n",
              "      <td>78.36</td>\n",
              "      <td>26.39</td>\n",
              "      <td>46.62</td>\n",
              "      <td>...</td>\n",
              "      <td>24886000</td>\n",
              "      <td>MST</td>\n",
              "      <td>33.465674</td>\n",
              "      <td>-112.058792</td>\n",
              "      <td>I</td>\n",
              "      <td>3800</td>\n",
              "      <td>A+</td>\n",
              "      <td>95 TO 100</td>\n",
              "      <td>100</td>\n",
              "      <td>629829</td>\n",
              "    </tr>\n",
              "    <tr>\n",
              "      <th>304</th>\n",
              "      <td>621</td>\n",
              "      <td>1</td>\n",
              "      <td>FORT WAYNE</td>\n",
              "      <td>IN</td>\n",
              "      <td>46845</td>\n",
              "      <td>AT-WORK</td>\n",
              "      <td>35.05</td>\n",
              "      <td>20.72</td>\n",
              "      <td>51.14</td>\n",
              "      <td>50.00</td>\n",
              "      <td>...</td>\n",
              "      <td>81782000</td>\n",
              "      <td>EST</td>\n",
              "      <td>41.180940</td>\n",
              "      <td>-85.101941</td>\n",
              "      <td>I</td>\n",
              "      <td>4000</td>\n",
              "      <td>B+</td>\n",
              "      <td>85 TO 89</td>\n",
              "      <td>88</td>\n",
              "      <td>556016</td>\n",
              "    </tr>\n",
              "  </tbody>\n",
              "</table>\n",
              "<p>3 rows × 22 columns</p>\n",
              "</div>\n",
              "      <button class=\"colab-df-convert\" onclick=\"convertToInteractive('df-1875468e-7eba-4781-b340-9a2386c83fcb')\"\n",
              "              title=\"Convert this dataframe to an interactive table.\"\n",
              "              style=\"display:none;\">\n",
              "        \n",
              "  <svg xmlns=\"http://www.w3.org/2000/svg\" height=\"24px\"viewBox=\"0 0 24 24\"\n",
              "       width=\"24px\">\n",
              "    <path d=\"M0 0h24v24H0V0z\" fill=\"none\"/>\n",
              "    <path d=\"M18.56 5.44l.94 2.06.94-2.06 2.06-.94-2.06-.94-.94-2.06-.94 2.06-2.06.94zm-11 1L8.5 8.5l.94-2.06 2.06-.94-2.06-.94L8.5 2.5l-.94 2.06-2.06.94zm10 10l.94 2.06.94-2.06 2.06-.94-2.06-.94-.94-2.06-.94 2.06-2.06.94z\"/><path d=\"M17.41 7.96l-1.37-1.37c-.4-.4-.92-.59-1.43-.59-.52 0-1.04.2-1.43.59L10.3 9.45l-7.72 7.72c-.78.78-.78 2.05 0 2.83L4 21.41c.39.39.9.59 1.41.59.51 0 1.02-.2 1.41-.59l7.78-7.78 2.81-2.81c.8-.78.8-2.07 0-2.86zM5.41 20L4 18.59l7.72-7.72 1.47 1.35L5.41 20z\"/>\n",
              "  </svg>\n",
              "      </button>\n",
              "      \n",
              "  <style>\n",
              "    .colab-df-container {\n",
              "      display:flex;\n",
              "      flex-wrap:wrap;\n",
              "      gap: 12px;\n",
              "    }\n",
              "\n",
              "    .colab-df-convert {\n",
              "      background-color: #E8F0FE;\n",
              "      border: none;\n",
              "      border-radius: 50%;\n",
              "      cursor: pointer;\n",
              "      display: none;\n",
              "      fill: #1967D2;\n",
              "      height: 32px;\n",
              "      padding: 0 0 0 0;\n",
              "      width: 32px;\n",
              "    }\n",
              "\n",
              "    .colab-df-convert:hover {\n",
              "      background-color: #E2EBFA;\n",
              "      box-shadow: 0px 1px 2px rgba(60, 64, 67, 0.3), 0px 1px 3px 1px rgba(60, 64, 67, 0.15);\n",
              "      fill: #174EA6;\n",
              "    }\n",
              "\n",
              "    [theme=dark] .colab-df-convert {\n",
              "      background-color: #3B4455;\n",
              "      fill: #D2E3FC;\n",
              "    }\n",
              "\n",
              "    [theme=dark] .colab-df-convert:hover {\n",
              "      background-color: #434B5C;\n",
              "      box-shadow: 0px 1px 3px 1px rgba(0, 0, 0, 0.15);\n",
              "      filter: drop-shadow(0px 1px 2px rgba(0, 0, 0, 0.3));\n",
              "      fill: #FFFFFF;\n",
              "    }\n",
              "  </style>\n",
              "\n",
              "      <script>\n",
              "        const buttonEl =\n",
              "          document.querySelector('#df-1875468e-7eba-4781-b340-9a2386c83fcb button.colab-df-convert');\n",
              "        buttonEl.style.display =\n",
              "          google.colab.kernel.accessAllowed ? 'block' : 'none';\n",
              "\n",
              "        async function convertToInteractive(key) {\n",
              "          const element = document.querySelector('#df-1875468e-7eba-4781-b340-9a2386c83fcb');\n",
              "          const dataTable =\n",
              "            await google.colab.kernel.invokeFunction('convertToInteractive',\n",
              "                                                     [key], {});\n",
              "          if (!dataTable) return;\n",
              "\n",
              "          const docLinkHtml = 'Like what you see? Visit the ' +\n",
              "            '<a target=\"_blank\" href=https://colab.research.google.com/notebooks/data_table.ipynb>data table notebook</a>'\n",
              "            + ' to learn more about interactive tables.';\n",
              "          element.innerHTML = '';\n",
              "          dataTable['output_type'] = 'display_data';\n",
              "          await google.colab.output.renderOutput(dataTable, element);\n",
              "          const docLink = document.createElement('div');\n",
              "          docLink.innerHTML = docLinkHtml;\n",
              "          element.appendChild(docLink);\n",
              "        }\n",
              "      </script>\n",
              "    </div>\n",
              "  </div>\n",
              "  "
            ]
          },
          "metadata": {},
          "execution_count": 14
        }
      ]
    },
    {
      "cell_type": "code",
      "source": [
        "train_data = train_data[~filt]\n",
        "train_data.shape"
      ],
      "metadata": {
        "colab": {
          "base_uri": "https://localhost:8080/"
        },
        "id": "hYT2eHOlaZZq",
        "outputId": "24b57bcd-1efa-4c8d-e69d-a2491601eb6e"
      },
      "execution_count": 15,
      "outputs": [
        {
          "output_type": "execute_result",
          "data": {
            "text/plain": [
              "(341, 22)"
            ]
          },
          "metadata": {},
          "execution_count": 15
        }
      ]
    },
    {
      "cell_type": "code",
      "source": [
        "# X = np.array(train_data.employee_size).reshape(-1,1)\n",
        "# y = np.array(train_data.total_sales).reshape(-1,1)\n",
        "\n",
        "train_X = train_data.iloc[:, :len(train_data.columns.to_list())-2]\n",
        "train_y = train_data.iloc[:, len(train_data.columns.to_list())-1]"
      ],
      "metadata": {
        "id": "BSN8Z8C6Zih8"
      },
      "execution_count": 16,
      "outputs": []
    },
    {
      "cell_type": "code",
      "source": [
        "train_X.columns = [i.strip() for i in train_X.columns]\n",
        "train_X.columns"
      ],
      "metadata": {
        "colab": {
          "base_uri": "https://localhost:8080/"
        },
        "id": "_w8FVHFkJRdZ",
        "outputId": "d2b33cc0-51be-4f3b-f1fa-a8b48b6e662b"
      },
      "execution_count": 17,
      "outputs": [
        {
          "output_type": "execute_result",
          "data": {
            "text/plain": [
              "Index(['outlet_no', 'business_type', 'city', 'state', 'zip', 'store_location',\n",
              "       'avg_age', 'blue_collar', 'white_collar', 'female', 'male',\n",
              "       'total_household_size', 'total_household_income', 'time_zone',\n",
              "       'latitude', 'longitude', 'location_employee_code', 'employee_size',\n",
              "       'credit_score', 'credit_score_range'],\n",
              "      dtype='object')"
            ]
          },
          "metadata": {},
          "execution_count": 17
        }
      ]
    },
    {
      "cell_type": "code",
      "source": [
        "np.std(train_y)\n",
        "# standard deviation in y"
      ],
      "metadata": {
        "colab": {
          "base_uri": "https://localhost:8080/"
        },
        "id": "Qs2pX_3zYu9f",
        "outputId": "80c7e85b-35d4-4f4c-d292-041b2f3368d8"
      },
      "execution_count": 18,
      "outputs": [
        {
          "output_type": "execute_result",
          "data": {
            "text/plain": [
              "39810.39618132019"
            ]
          },
          "metadata": {},
          "execution_count": 18
        }
      ]
    },
    {
      "cell_type": "code",
      "source": [
        "from sklearn.preprocessing import StandardScaler,OneHotEncoder, PolynomialFeatures\n",
        "from sklearn.pipeline import make_pipeline, Pipeline\n",
        "from sklearn.compose import ColumnTransformer\n",
        "from sklearn.base import BaseEstimator, TransformerMixin\n",
        "from sklearn.model_selection import train_test_split\n",
        "from ast import literal_eval"
      ],
      "metadata": {
        "id": "MBVfiC3EcbEw"
      },
      "execution_count": 19,
      "outputs": []
    },
    {
      "cell_type": "code",
      "source": [
        "class ColumnSelector(BaseEstimator, TransformerMixin):\n",
        "  def __init__(self, col_name:List[str]):\n",
        "    self.col_name = col_name\n",
        "\n",
        "  def fit(self, X, y=None):\n",
        "    return self\n",
        "\n",
        "  def transform(self, X, y=None):\n",
        "    return X.loc[:,self.col_name]"
      ],
      "metadata": {
        "id": "FGclKLOSkFS7"
      },
      "execution_count": 20,
      "outputs": []
    },
    {
      "cell_type": "code",
      "source": [
        "def preprocess_pipeline_builder(columns_name:List[str], num_col_idx:List[int], cat_col_idx:List[int]):\n",
        "\n",
        "  col_preprocessor = ColumnTransformer(\n",
        "                    transformers = [\n",
        "                        ('scaler', StandardScaler(), num_col_idx),\n",
        "                        ('onehot_encoder', OneHotEncoder(handle_unknown='ignore', sparse_output=False), cat_col_idx)\n",
        "                    ]\n",
        "                )\n",
        "\n",
        "\n",
        "  p = Pipeline( steps= [\n",
        "                        ( 'column_selector' , ColumnTransformer([('column_selector', 'passthrough', columns_name)])),\n",
        "                        ('col_processor', col_preprocessor)\n",
        "                        # , ('polyfeature', PolynomialFeatures(2))\n",
        "                      ]\n",
        "              )\n",
        "  return p"
      ],
      "metadata": {
        "id": "X7v4Jj7gcgtT"
      },
      "execution_count": 21,
      "outputs": []
    },
    {
      "cell_type": "code",
      "source": [
        "def train_model(model, preprocess_fn, X, y, random_state=42):\n",
        "  X_train, X_test, y_train, y_test = train_test_split(X, y, train_size=.8, random_state=random_state)\n",
        "\n",
        "  X_train = preprocess_fn.fit_transform(X_train)\n",
        "  X_test = preprocess_fn.transform(X_test)\n",
        "\n",
        "  model.fit(X_train, y_train)\n",
        "  score = model.score(X_train, y_train)\n",
        "\n",
        "  rmse_train = mean_squared_error(y_train, model.predict(X_train)) ** 0.5\n",
        "  rmse_test = mean_squared_error(y_test, model.predict(X_test)) ** 0.5\n",
        "\n",
        "\n",
        "  return score, rmse_train, rmse_test\n",
        "\n"
      ],
      "metadata": {
        "id": "tojlGaXvInFR"
      },
      "execution_count": 22,
      "outputs": []
    },
    {
      "cell_type": "code",
      "source": [
        "p = preprocess_pipeline_builder(['employee_size', 'business_type'], [0], [1])\n",
        "p.fit_transform(train_X, train_y).shape"
      ],
      "metadata": {
        "id": "cagG7lKlaIon",
        "colab": {
          "base_uri": "https://localhost:8080/"
        },
        "outputId": "074ad28f-55e3-467a-9c9b-7e37bb9cdac9"
      },
      "execution_count": 23,
      "outputs": [
        {
          "output_type": "execute_result",
          "data": {
            "text/plain": [
              "(341, 3)"
            ]
          },
          "metadata": {},
          "execution_count": 23
        }
      ]
    },
    {
      "cell_type": "code",
      "source": [
        "lr_model = LinearRegression()\n",
        "train_model(lr_model, p, train_X, train_y)"
      ],
      "metadata": {
        "colab": {
          "base_uri": "https://localhost:8080/"
        },
        "id": "7Iq-SInepTxm",
        "outputId": "930acdc6-86fa-4799-b915-7ac989ccc545"
      },
      "execution_count": 24,
      "outputs": [
        {
          "output_type": "execute_result",
          "data": {
            "text/plain": [
              "(0.8885148881944942, 11822.343630816513, 50720.16841381425)"
            ]
          },
          "metadata": {},
          "execution_count": 24
        }
      ]
    },
    {
      "cell_type": "code",
      "source": [
        "lr_model_report = pd.DataFrame(\n",
        "    data = [  ['employee_size, business_type, state, store_location, credit_score_range, blue_collar', [0], [1,2,3,4,5]],\n",
        "              ['employee_size, avg_age, business_type, state, store_location, credit_score_range, blue_collar', [0,1], [2,3,4,5,6]],\n",
        "              ['employee_size, avg_age, total_household_size, business_type, state, store_location, credit_score_range,blue_collar', [0,1,2], [3,4,5,6,7]],\n",
        "              ['employee_size, avg_age, total_household_size, total_household_income, business_type, state,store_location, credit_score_range,blue_collar', [0,1,2,3], [4,5,6,7,8]]\n",
        "           ]\n",
        "\n",
        ")\n",
        "lr_model_report\n"
      ],
      "metadata": {
        "colab": {
          "base_uri": "https://localhost:8080/",
          "height": 175
        },
        "id": "6IaAt0uZNK7H",
        "outputId": "67c301ad-3bd4-437b-aa74-8c361ed7ee71"
      },
      "execution_count": 25,
      "outputs": [
        {
          "output_type": "execute_result",
          "data": {
            "text/plain": [
              "                                                   0             1  \\\n",
              "0  employee_size, business_type, state, store_loc...           [0]   \n",
              "1  employee_size, avg_age, business_type, state, ...        [0, 1]   \n",
              "2  employee_size, avg_age, total_household_size, ...     [0, 1, 2]   \n",
              "3  employee_size, avg_age, total_household_size, ...  [0, 1, 2, 3]   \n",
              "\n",
              "                 2  \n",
              "0  [1, 2, 3, 4, 5]  \n",
              "1  [2, 3, 4, 5, 6]  \n",
              "2  [3, 4, 5, 6, 7]  \n",
              "3  [4, 5, 6, 7, 8]  "
            ],
            "text/html": [
              "\n",
              "  <div id=\"df-776228db-d8dc-4040-a2b3-5a3251c21eb4\">\n",
              "    <div class=\"colab-df-container\">\n",
              "      <div>\n",
              "<style scoped>\n",
              "    .dataframe tbody tr th:only-of-type {\n",
              "        vertical-align: middle;\n",
              "    }\n",
              "\n",
              "    .dataframe tbody tr th {\n",
              "        vertical-align: top;\n",
              "    }\n",
              "\n",
              "    .dataframe thead th {\n",
              "        text-align: right;\n",
              "    }\n",
              "</style>\n",
              "<table border=\"1\" class=\"dataframe\">\n",
              "  <thead>\n",
              "    <tr style=\"text-align: right;\">\n",
              "      <th></th>\n",
              "      <th>0</th>\n",
              "      <th>1</th>\n",
              "      <th>2</th>\n",
              "    </tr>\n",
              "  </thead>\n",
              "  <tbody>\n",
              "    <tr>\n",
              "      <th>0</th>\n",
              "      <td>employee_size, business_type, state, store_loc...</td>\n",
              "      <td>[0]</td>\n",
              "      <td>[1, 2, 3, 4, 5]</td>\n",
              "    </tr>\n",
              "    <tr>\n",
              "      <th>1</th>\n",
              "      <td>employee_size, avg_age, business_type, state, ...</td>\n",
              "      <td>[0, 1]</td>\n",
              "      <td>[2, 3, 4, 5, 6]</td>\n",
              "    </tr>\n",
              "    <tr>\n",
              "      <th>2</th>\n",
              "      <td>employee_size, avg_age, total_household_size, ...</td>\n",
              "      <td>[0, 1, 2]</td>\n",
              "      <td>[3, 4, 5, 6, 7]</td>\n",
              "    </tr>\n",
              "    <tr>\n",
              "      <th>3</th>\n",
              "      <td>employee_size, avg_age, total_household_size, ...</td>\n",
              "      <td>[0, 1, 2, 3]</td>\n",
              "      <td>[4, 5, 6, 7, 8]</td>\n",
              "    </tr>\n",
              "  </tbody>\n",
              "</table>\n",
              "</div>\n",
              "      <button class=\"colab-df-convert\" onclick=\"convertToInteractive('df-776228db-d8dc-4040-a2b3-5a3251c21eb4')\"\n",
              "              title=\"Convert this dataframe to an interactive table.\"\n",
              "              style=\"display:none;\">\n",
              "        \n",
              "  <svg xmlns=\"http://www.w3.org/2000/svg\" height=\"24px\"viewBox=\"0 0 24 24\"\n",
              "       width=\"24px\">\n",
              "    <path d=\"M0 0h24v24H0V0z\" fill=\"none\"/>\n",
              "    <path d=\"M18.56 5.44l.94 2.06.94-2.06 2.06-.94-2.06-.94-.94-2.06-.94 2.06-2.06.94zm-11 1L8.5 8.5l.94-2.06 2.06-.94-2.06-.94L8.5 2.5l-.94 2.06-2.06.94zm10 10l.94 2.06.94-2.06 2.06-.94-2.06-.94-.94-2.06-.94 2.06-2.06.94z\"/><path d=\"M17.41 7.96l-1.37-1.37c-.4-.4-.92-.59-1.43-.59-.52 0-1.04.2-1.43.59L10.3 9.45l-7.72 7.72c-.78.78-.78 2.05 0 2.83L4 21.41c.39.39.9.59 1.41.59.51 0 1.02-.2 1.41-.59l7.78-7.78 2.81-2.81c.8-.78.8-2.07 0-2.86zM5.41 20L4 18.59l7.72-7.72 1.47 1.35L5.41 20z\"/>\n",
              "  </svg>\n",
              "      </button>\n",
              "      \n",
              "  <style>\n",
              "    .colab-df-container {\n",
              "      display:flex;\n",
              "      flex-wrap:wrap;\n",
              "      gap: 12px;\n",
              "    }\n",
              "\n",
              "    .colab-df-convert {\n",
              "      background-color: #E8F0FE;\n",
              "      border: none;\n",
              "      border-radius: 50%;\n",
              "      cursor: pointer;\n",
              "      display: none;\n",
              "      fill: #1967D2;\n",
              "      height: 32px;\n",
              "      padding: 0 0 0 0;\n",
              "      width: 32px;\n",
              "    }\n",
              "\n",
              "    .colab-df-convert:hover {\n",
              "      background-color: #E2EBFA;\n",
              "      box-shadow: 0px 1px 2px rgba(60, 64, 67, 0.3), 0px 1px 3px 1px rgba(60, 64, 67, 0.15);\n",
              "      fill: #174EA6;\n",
              "    }\n",
              "\n",
              "    [theme=dark] .colab-df-convert {\n",
              "      background-color: #3B4455;\n",
              "      fill: #D2E3FC;\n",
              "    }\n",
              "\n",
              "    [theme=dark] .colab-df-convert:hover {\n",
              "      background-color: #434B5C;\n",
              "      box-shadow: 0px 1px 3px 1px rgba(0, 0, 0, 0.15);\n",
              "      filter: drop-shadow(0px 1px 2px rgba(0, 0, 0, 0.3));\n",
              "      fill: #FFFFFF;\n",
              "    }\n",
              "  </style>\n",
              "\n",
              "      <script>\n",
              "        const buttonEl =\n",
              "          document.querySelector('#df-776228db-d8dc-4040-a2b3-5a3251c21eb4 button.colab-df-convert');\n",
              "        buttonEl.style.display =\n",
              "          google.colab.kernel.accessAllowed ? 'block' : 'none';\n",
              "\n",
              "        async function convertToInteractive(key) {\n",
              "          const element = document.querySelector('#df-776228db-d8dc-4040-a2b3-5a3251c21eb4');\n",
              "          const dataTable =\n",
              "            await google.colab.kernel.invokeFunction('convertToInteractive',\n",
              "                                                     [key], {});\n",
              "          if (!dataTable) return;\n",
              "\n",
              "          const docLinkHtml = 'Like what you see? Visit the ' +\n",
              "            '<a target=\"_blank\" href=https://colab.research.google.com/notebooks/data_table.ipynb>data table notebook</a>'\n",
              "            + ' to learn more about interactive tables.';\n",
              "          element.innerHTML = '';\n",
              "          dataTable['output_type'] = 'display_data';\n",
              "          await google.colab.output.renderOutput(dataTable, element);\n",
              "          const docLink = document.createElement('div');\n",
              "          docLink.innerHTML = docLinkHtml;\n",
              "          element.appendChild(docLink);\n",
              "        }\n",
              "      </script>\n",
              "    </div>\n",
              "  </div>\n",
              "  "
            ]
          },
          "metadata": {},
          "execution_count": 25
        }
      ]
    },
    {
      "cell_type": "code",
      "source": [
        "lr_model_report[['r2', 'train_rmse', 'test_rmse']]= lr_model_report.apply(lambda x: train_model( lr_model,\n",
        "                                            preprocess_pipeline_builder([i.strip() for i in x[0].split(',')], x[1], x[2]),\n",
        "                                             train_X,\n",
        "                                             train_y\n",
        "                                            ),\n",
        "                      axis=1,\n",
        "                      result_type='expand'\n",
        "                    )\n",
        "lr_model_report"
      ],
      "metadata": {
        "colab": {
          "base_uri": "https://localhost:8080/",
          "height": 175
        },
        "id": "kIInPvfuNika",
        "outputId": "50b7f466-f3a5-4a12-cc84-1df48933458d"
      },
      "execution_count": 26,
      "outputs": [
        {
          "output_type": "execute_result",
          "data": {
            "text/plain": [
              "                                                   0             1  \\\n",
              "0  employee_size, business_type, state, store_loc...           [0]   \n",
              "1  employee_size, avg_age, business_type, state, ...        [0, 1]   \n",
              "2  employee_size, avg_age, total_household_size, ...     [0, 1, 2]   \n",
              "3  employee_size, avg_age, total_household_size, ...  [0, 1, 2, 3]   \n",
              "\n",
              "                 2        r2   train_rmse     test_rmse  \n",
              "0  [1, 2, 3, 4, 5]  0.994519  2621.371806  2.426356e+15  \n",
              "1  [2, 3, 4, 5, 6]  0.997441  1791.284527  5.155260e+14  \n",
              "2  [3, 4, 5, 6, 7]  0.997543  1755.101447  1.620011e+16  \n",
              "3  [4, 5, 6, 7, 8]  0.997551  1752.277405  1.363154e+16  "
            ],
            "text/html": [
              "\n",
              "  <div id=\"df-6bcd01ab-d32c-49b9-b2b7-0180824bd829\">\n",
              "    <div class=\"colab-df-container\">\n",
              "      <div>\n",
              "<style scoped>\n",
              "    .dataframe tbody tr th:only-of-type {\n",
              "        vertical-align: middle;\n",
              "    }\n",
              "\n",
              "    .dataframe tbody tr th {\n",
              "        vertical-align: top;\n",
              "    }\n",
              "\n",
              "    .dataframe thead th {\n",
              "        text-align: right;\n",
              "    }\n",
              "</style>\n",
              "<table border=\"1\" class=\"dataframe\">\n",
              "  <thead>\n",
              "    <tr style=\"text-align: right;\">\n",
              "      <th></th>\n",
              "      <th>0</th>\n",
              "      <th>1</th>\n",
              "      <th>2</th>\n",
              "      <th>r2</th>\n",
              "      <th>train_rmse</th>\n",
              "      <th>test_rmse</th>\n",
              "    </tr>\n",
              "  </thead>\n",
              "  <tbody>\n",
              "    <tr>\n",
              "      <th>0</th>\n",
              "      <td>employee_size, business_type, state, store_loc...</td>\n",
              "      <td>[0]</td>\n",
              "      <td>[1, 2, 3, 4, 5]</td>\n",
              "      <td>0.994519</td>\n",
              "      <td>2621.371806</td>\n",
              "      <td>2.426356e+15</td>\n",
              "    </tr>\n",
              "    <tr>\n",
              "      <th>1</th>\n",
              "      <td>employee_size, avg_age, business_type, state, ...</td>\n",
              "      <td>[0, 1]</td>\n",
              "      <td>[2, 3, 4, 5, 6]</td>\n",
              "      <td>0.997441</td>\n",
              "      <td>1791.284527</td>\n",
              "      <td>5.155260e+14</td>\n",
              "    </tr>\n",
              "    <tr>\n",
              "      <th>2</th>\n",
              "      <td>employee_size, avg_age, total_household_size, ...</td>\n",
              "      <td>[0, 1, 2]</td>\n",
              "      <td>[3, 4, 5, 6, 7]</td>\n",
              "      <td>0.997543</td>\n",
              "      <td>1755.101447</td>\n",
              "      <td>1.620011e+16</td>\n",
              "    </tr>\n",
              "    <tr>\n",
              "      <th>3</th>\n",
              "      <td>employee_size, avg_age, total_household_size, ...</td>\n",
              "      <td>[0, 1, 2, 3]</td>\n",
              "      <td>[4, 5, 6, 7, 8]</td>\n",
              "      <td>0.997551</td>\n",
              "      <td>1752.277405</td>\n",
              "      <td>1.363154e+16</td>\n",
              "    </tr>\n",
              "  </tbody>\n",
              "</table>\n",
              "</div>\n",
              "      <button class=\"colab-df-convert\" onclick=\"convertToInteractive('df-6bcd01ab-d32c-49b9-b2b7-0180824bd829')\"\n",
              "              title=\"Convert this dataframe to an interactive table.\"\n",
              "              style=\"display:none;\">\n",
              "        \n",
              "  <svg xmlns=\"http://www.w3.org/2000/svg\" height=\"24px\"viewBox=\"0 0 24 24\"\n",
              "       width=\"24px\">\n",
              "    <path d=\"M0 0h24v24H0V0z\" fill=\"none\"/>\n",
              "    <path d=\"M18.56 5.44l.94 2.06.94-2.06 2.06-.94-2.06-.94-.94-2.06-.94 2.06-2.06.94zm-11 1L8.5 8.5l.94-2.06 2.06-.94-2.06-.94L8.5 2.5l-.94 2.06-2.06.94zm10 10l.94 2.06.94-2.06 2.06-.94-2.06-.94-.94-2.06-.94 2.06-2.06.94z\"/><path d=\"M17.41 7.96l-1.37-1.37c-.4-.4-.92-.59-1.43-.59-.52 0-1.04.2-1.43.59L10.3 9.45l-7.72 7.72c-.78.78-.78 2.05 0 2.83L4 21.41c.39.39.9.59 1.41.59.51 0 1.02-.2 1.41-.59l7.78-7.78 2.81-2.81c.8-.78.8-2.07 0-2.86zM5.41 20L4 18.59l7.72-7.72 1.47 1.35L5.41 20z\"/>\n",
              "  </svg>\n",
              "      </button>\n",
              "      \n",
              "  <style>\n",
              "    .colab-df-container {\n",
              "      display:flex;\n",
              "      flex-wrap:wrap;\n",
              "      gap: 12px;\n",
              "    }\n",
              "\n",
              "    .colab-df-convert {\n",
              "      background-color: #E8F0FE;\n",
              "      border: none;\n",
              "      border-radius: 50%;\n",
              "      cursor: pointer;\n",
              "      display: none;\n",
              "      fill: #1967D2;\n",
              "      height: 32px;\n",
              "      padding: 0 0 0 0;\n",
              "      width: 32px;\n",
              "    }\n",
              "\n",
              "    .colab-df-convert:hover {\n",
              "      background-color: #E2EBFA;\n",
              "      box-shadow: 0px 1px 2px rgba(60, 64, 67, 0.3), 0px 1px 3px 1px rgba(60, 64, 67, 0.15);\n",
              "      fill: #174EA6;\n",
              "    }\n",
              "\n",
              "    [theme=dark] .colab-df-convert {\n",
              "      background-color: #3B4455;\n",
              "      fill: #D2E3FC;\n",
              "    }\n",
              "\n",
              "    [theme=dark] .colab-df-convert:hover {\n",
              "      background-color: #434B5C;\n",
              "      box-shadow: 0px 1px 3px 1px rgba(0, 0, 0, 0.15);\n",
              "      filter: drop-shadow(0px 1px 2px rgba(0, 0, 0, 0.3));\n",
              "      fill: #FFFFFF;\n",
              "    }\n",
              "  </style>\n",
              "\n",
              "      <script>\n",
              "        const buttonEl =\n",
              "          document.querySelector('#df-6bcd01ab-d32c-49b9-b2b7-0180824bd829 button.colab-df-convert');\n",
              "        buttonEl.style.display =\n",
              "          google.colab.kernel.accessAllowed ? 'block' : 'none';\n",
              "\n",
              "        async function convertToInteractive(key) {\n",
              "          const element = document.querySelector('#df-6bcd01ab-d32c-49b9-b2b7-0180824bd829');\n",
              "          const dataTable =\n",
              "            await google.colab.kernel.invokeFunction('convertToInteractive',\n",
              "                                                     [key], {});\n",
              "          if (!dataTable) return;\n",
              "\n",
              "          const docLinkHtml = 'Like what you see? Visit the ' +\n",
              "            '<a target=\"_blank\" href=https://colab.research.google.com/notebooks/data_table.ipynb>data table notebook</a>'\n",
              "            + ' to learn more about interactive tables.';\n",
              "          element.innerHTML = '';\n",
              "          dataTable['output_type'] = 'display_data';\n",
              "          await google.colab.output.renderOutput(dataTable, element);\n",
              "          const docLink = document.createElement('div');\n",
              "          docLink.innerHTML = docLinkHtml;\n",
              "          element.appendChild(docLink);\n",
              "        }\n",
              "      </script>\n",
              "    </div>\n",
              "  </div>\n",
              "  "
            ]
          },
          "metadata": {},
          "execution_count": 26
        }
      ]
    },
    {
      "cell_type": "code",
      "source": [
        "from sklearn.linear_model import Lasso, Ridge"
      ],
      "metadata": {
        "id": "Z2PRkLXFUKJh"
      },
      "execution_count": 27,
      "outputs": []
    },
    {
      "cell_type": "code",
      "source": [
        "lasso = Lasso(alpha=10000)\n",
        "lr_model_report[['Lasso r2', 'Lasso_train_rmse', 'Lasso_test_rmse']]= lr_model_report.apply(lambda x: train_model( lasso,\n",
        "                                            preprocess_pipeline_builder([i.strip() for i in x[0].split(',')], x[1], x[2]),\n",
        "                                             train_X,\n",
        "                                             train_y\n",
        "                                            ),\n",
        "                      axis=1,\n",
        "                      result_type='expand'\n",
        "                    )\n",
        "lr_model_report"
      ],
      "metadata": {
        "colab": {
          "base_uri": "https://localhost:8080/",
          "height": 175
        },
        "id": "_stiVgSmU_oI",
        "outputId": "2863bda0-f468-48a4-9cf3-0d58468b1e51"
      },
      "execution_count": 28,
      "outputs": [
        {
          "output_type": "execute_result",
          "data": {
            "text/plain": [
              "                                                   0             1  \\\n",
              "0  employee_size, business_type, state, store_loc...           [0]   \n",
              "1  employee_size, avg_age, business_type, state, ...        [0, 1]   \n",
              "2  employee_size, avg_age, total_household_size, ...     [0, 1, 2]   \n",
              "3  employee_size, avg_age, total_household_size, ...  [0, 1, 2, 3]   \n",
              "\n",
              "                 2        r2   train_rmse     test_rmse  Lasso r2  \\\n",
              "0  [1, 2, 3, 4, 5]  0.994519  2621.371806  2.426356e+15  0.808295   \n",
              "1  [2, 3, 4, 5, 6]  0.997441  1791.284527  5.155260e+14  0.808295   \n",
              "2  [3, 4, 5, 6, 7]  0.997543  1755.101447  1.620011e+16  0.808295   \n",
              "3  [4, 5, 6, 7, 8]  0.997551  1752.277405  1.363154e+16  0.808295   \n",
              "\n",
              "   Lasso_train_rmse  Lasso_test_rmse  \n",
              "0      15502.849032     26485.353711  \n",
              "1      15502.849032     26485.353711  \n",
              "2      15502.849032     26485.353711  \n",
              "3      15502.849032     26485.353711  "
            ],
            "text/html": [
              "\n",
              "  <div id=\"df-a6d79ac9-1248-49fd-8724-9070a8b82377\">\n",
              "    <div class=\"colab-df-container\">\n",
              "      <div>\n",
              "<style scoped>\n",
              "    .dataframe tbody tr th:only-of-type {\n",
              "        vertical-align: middle;\n",
              "    }\n",
              "\n",
              "    .dataframe tbody tr th {\n",
              "        vertical-align: top;\n",
              "    }\n",
              "\n",
              "    .dataframe thead th {\n",
              "        text-align: right;\n",
              "    }\n",
              "</style>\n",
              "<table border=\"1\" class=\"dataframe\">\n",
              "  <thead>\n",
              "    <tr style=\"text-align: right;\">\n",
              "      <th></th>\n",
              "      <th>0</th>\n",
              "      <th>1</th>\n",
              "      <th>2</th>\n",
              "      <th>r2</th>\n",
              "      <th>train_rmse</th>\n",
              "      <th>test_rmse</th>\n",
              "      <th>Lasso r2</th>\n",
              "      <th>Lasso_train_rmse</th>\n",
              "      <th>Lasso_test_rmse</th>\n",
              "    </tr>\n",
              "  </thead>\n",
              "  <tbody>\n",
              "    <tr>\n",
              "      <th>0</th>\n",
              "      <td>employee_size, business_type, state, store_loc...</td>\n",
              "      <td>[0]</td>\n",
              "      <td>[1, 2, 3, 4, 5]</td>\n",
              "      <td>0.994519</td>\n",
              "      <td>2621.371806</td>\n",
              "      <td>2.426356e+15</td>\n",
              "      <td>0.808295</td>\n",
              "      <td>15502.849032</td>\n",
              "      <td>26485.353711</td>\n",
              "    </tr>\n",
              "    <tr>\n",
              "      <th>1</th>\n",
              "      <td>employee_size, avg_age, business_type, state, ...</td>\n",
              "      <td>[0, 1]</td>\n",
              "      <td>[2, 3, 4, 5, 6]</td>\n",
              "      <td>0.997441</td>\n",
              "      <td>1791.284527</td>\n",
              "      <td>5.155260e+14</td>\n",
              "      <td>0.808295</td>\n",
              "      <td>15502.849032</td>\n",
              "      <td>26485.353711</td>\n",
              "    </tr>\n",
              "    <tr>\n",
              "      <th>2</th>\n",
              "      <td>employee_size, avg_age, total_household_size, ...</td>\n",
              "      <td>[0, 1, 2]</td>\n",
              "      <td>[3, 4, 5, 6, 7]</td>\n",
              "      <td>0.997543</td>\n",
              "      <td>1755.101447</td>\n",
              "      <td>1.620011e+16</td>\n",
              "      <td>0.808295</td>\n",
              "      <td>15502.849032</td>\n",
              "      <td>26485.353711</td>\n",
              "    </tr>\n",
              "    <tr>\n",
              "      <th>3</th>\n",
              "      <td>employee_size, avg_age, total_household_size, ...</td>\n",
              "      <td>[0, 1, 2, 3]</td>\n",
              "      <td>[4, 5, 6, 7, 8]</td>\n",
              "      <td>0.997551</td>\n",
              "      <td>1752.277405</td>\n",
              "      <td>1.363154e+16</td>\n",
              "      <td>0.808295</td>\n",
              "      <td>15502.849032</td>\n",
              "      <td>26485.353711</td>\n",
              "    </tr>\n",
              "  </tbody>\n",
              "</table>\n",
              "</div>\n",
              "      <button class=\"colab-df-convert\" onclick=\"convertToInteractive('df-a6d79ac9-1248-49fd-8724-9070a8b82377')\"\n",
              "              title=\"Convert this dataframe to an interactive table.\"\n",
              "              style=\"display:none;\">\n",
              "        \n",
              "  <svg xmlns=\"http://www.w3.org/2000/svg\" height=\"24px\"viewBox=\"0 0 24 24\"\n",
              "       width=\"24px\">\n",
              "    <path d=\"M0 0h24v24H0V0z\" fill=\"none\"/>\n",
              "    <path d=\"M18.56 5.44l.94 2.06.94-2.06 2.06-.94-2.06-.94-.94-2.06-.94 2.06-2.06.94zm-11 1L8.5 8.5l.94-2.06 2.06-.94-2.06-.94L8.5 2.5l-.94 2.06-2.06.94zm10 10l.94 2.06.94-2.06 2.06-.94-2.06-.94-.94-2.06-.94 2.06-2.06.94z\"/><path d=\"M17.41 7.96l-1.37-1.37c-.4-.4-.92-.59-1.43-.59-.52 0-1.04.2-1.43.59L10.3 9.45l-7.72 7.72c-.78.78-.78 2.05 0 2.83L4 21.41c.39.39.9.59 1.41.59.51 0 1.02-.2 1.41-.59l7.78-7.78 2.81-2.81c.8-.78.8-2.07 0-2.86zM5.41 20L4 18.59l7.72-7.72 1.47 1.35L5.41 20z\"/>\n",
              "  </svg>\n",
              "      </button>\n",
              "      \n",
              "  <style>\n",
              "    .colab-df-container {\n",
              "      display:flex;\n",
              "      flex-wrap:wrap;\n",
              "      gap: 12px;\n",
              "    }\n",
              "\n",
              "    .colab-df-convert {\n",
              "      background-color: #E8F0FE;\n",
              "      border: none;\n",
              "      border-radius: 50%;\n",
              "      cursor: pointer;\n",
              "      display: none;\n",
              "      fill: #1967D2;\n",
              "      height: 32px;\n",
              "      padding: 0 0 0 0;\n",
              "      width: 32px;\n",
              "    }\n",
              "\n",
              "    .colab-df-convert:hover {\n",
              "      background-color: #E2EBFA;\n",
              "      box-shadow: 0px 1px 2px rgba(60, 64, 67, 0.3), 0px 1px 3px 1px rgba(60, 64, 67, 0.15);\n",
              "      fill: #174EA6;\n",
              "    }\n",
              "\n",
              "    [theme=dark] .colab-df-convert {\n",
              "      background-color: #3B4455;\n",
              "      fill: #D2E3FC;\n",
              "    }\n",
              "\n",
              "    [theme=dark] .colab-df-convert:hover {\n",
              "      background-color: #434B5C;\n",
              "      box-shadow: 0px 1px 3px 1px rgba(0, 0, 0, 0.15);\n",
              "      filter: drop-shadow(0px 1px 2px rgba(0, 0, 0, 0.3));\n",
              "      fill: #FFFFFF;\n",
              "    }\n",
              "  </style>\n",
              "\n",
              "      <script>\n",
              "        const buttonEl =\n",
              "          document.querySelector('#df-a6d79ac9-1248-49fd-8724-9070a8b82377 button.colab-df-convert');\n",
              "        buttonEl.style.display =\n",
              "          google.colab.kernel.accessAllowed ? 'block' : 'none';\n",
              "\n",
              "        async function convertToInteractive(key) {\n",
              "          const element = document.querySelector('#df-a6d79ac9-1248-49fd-8724-9070a8b82377');\n",
              "          const dataTable =\n",
              "            await google.colab.kernel.invokeFunction('convertToInteractive',\n",
              "                                                     [key], {});\n",
              "          if (!dataTable) return;\n",
              "\n",
              "          const docLinkHtml = 'Like what you see? Visit the ' +\n",
              "            '<a target=\"_blank\" href=https://colab.research.google.com/notebooks/data_table.ipynb>data table notebook</a>'\n",
              "            + ' to learn more about interactive tables.';\n",
              "          element.innerHTML = '';\n",
              "          dataTable['output_type'] = 'display_data';\n",
              "          await google.colab.output.renderOutput(dataTable, element);\n",
              "          const docLink = document.createElement('div');\n",
              "          docLink.innerHTML = docLinkHtml;\n",
              "          element.appendChild(docLink);\n",
              "        }\n",
              "      </script>\n",
              "    </div>\n",
              "  </div>\n",
              "  "
            ]
          },
          "metadata": {},
          "execution_count": 28
        }
      ]
    },
    {
      "cell_type": "code",
      "source": [
        "ridge = Ridge(alpha=100)\n",
        "lr_model_report[['Ridge r2', 'Ridge_train_rmse', 'Ridge_test_rmse']]= lr_model_report.apply(lambda x: train_model( ridge,\n",
        "                                            preprocess_pipeline_builder([i.strip() for i in x[0].split(',')], x[1], x[2]),\n",
        "                                             train_X,\n",
        "                                             train_y\n",
        "                                            ),\n",
        "                      axis=1,\n",
        "                      result_type='expand'\n",
        "                    )\n",
        "lr_model_report"
      ],
      "metadata": {
        "colab": {
          "base_uri": "https://localhost:8080/",
          "height": 175
        },
        "id": "WsADwWNiVLpE",
        "outputId": "173def71-e588-472d-f131-577270cd015e"
      },
      "execution_count": 29,
      "outputs": [
        {
          "output_type": "execute_result",
          "data": {
            "text/plain": [
              "                                                   0             1  \\\n",
              "0  employee_size, business_type, state, store_loc...           [0]   \n",
              "1  employee_size, avg_age, business_type, state, ...        [0, 1]   \n",
              "2  employee_size, avg_age, total_household_size, ...     [0, 1, 2]   \n",
              "3  employee_size, avg_age, total_household_size, ...  [0, 1, 2, 3]   \n",
              "\n",
              "                 2        r2   train_rmse     test_rmse  Lasso r2  \\\n",
              "0  [1, 2, 3, 4, 5]  0.994519  2621.371806  2.426356e+15  0.808295   \n",
              "1  [2, 3, 4, 5, 6]  0.997441  1791.284527  5.155260e+14  0.808295   \n",
              "2  [3, 4, 5, 6, 7]  0.997543  1755.101447  1.620011e+16  0.808295   \n",
              "3  [4, 5, 6, 7, 8]  0.997551  1752.277405  1.363154e+16  0.808295   \n",
              "\n",
              "   Lasso_train_rmse  Lasso_test_rmse  Ridge r2  Ridge_train_rmse  \\\n",
              "0      15502.849032     26485.353711  0.828898      14646.140392   \n",
              "1      15502.849032     26485.353711  0.830058      14596.410831   \n",
              "2      15502.849032     26485.353711  0.830240      14588.578824   \n",
              "3      15502.849032     26485.353711  0.830222      14589.333917   \n",
              "\n",
              "   Ridge_test_rmse  \n",
              "0     27988.400591  \n",
              "1     27854.235528  \n",
              "2     27922.727711  \n",
              "3     27928.761232  "
            ],
            "text/html": [
              "\n",
              "  <div id=\"df-490c67db-770c-4bc3-aed2-c8cea85ecf0d\">\n",
              "    <div class=\"colab-df-container\">\n",
              "      <div>\n",
              "<style scoped>\n",
              "    .dataframe tbody tr th:only-of-type {\n",
              "        vertical-align: middle;\n",
              "    }\n",
              "\n",
              "    .dataframe tbody tr th {\n",
              "        vertical-align: top;\n",
              "    }\n",
              "\n",
              "    .dataframe thead th {\n",
              "        text-align: right;\n",
              "    }\n",
              "</style>\n",
              "<table border=\"1\" class=\"dataframe\">\n",
              "  <thead>\n",
              "    <tr style=\"text-align: right;\">\n",
              "      <th></th>\n",
              "      <th>0</th>\n",
              "      <th>1</th>\n",
              "      <th>2</th>\n",
              "      <th>r2</th>\n",
              "      <th>train_rmse</th>\n",
              "      <th>test_rmse</th>\n",
              "      <th>Lasso r2</th>\n",
              "      <th>Lasso_train_rmse</th>\n",
              "      <th>Lasso_test_rmse</th>\n",
              "      <th>Ridge r2</th>\n",
              "      <th>Ridge_train_rmse</th>\n",
              "      <th>Ridge_test_rmse</th>\n",
              "    </tr>\n",
              "  </thead>\n",
              "  <tbody>\n",
              "    <tr>\n",
              "      <th>0</th>\n",
              "      <td>employee_size, business_type, state, store_loc...</td>\n",
              "      <td>[0]</td>\n",
              "      <td>[1, 2, 3, 4, 5]</td>\n",
              "      <td>0.994519</td>\n",
              "      <td>2621.371806</td>\n",
              "      <td>2.426356e+15</td>\n",
              "      <td>0.808295</td>\n",
              "      <td>15502.849032</td>\n",
              "      <td>26485.353711</td>\n",
              "      <td>0.828898</td>\n",
              "      <td>14646.140392</td>\n",
              "      <td>27988.400591</td>\n",
              "    </tr>\n",
              "    <tr>\n",
              "      <th>1</th>\n",
              "      <td>employee_size, avg_age, business_type, state, ...</td>\n",
              "      <td>[0, 1]</td>\n",
              "      <td>[2, 3, 4, 5, 6]</td>\n",
              "      <td>0.997441</td>\n",
              "      <td>1791.284527</td>\n",
              "      <td>5.155260e+14</td>\n",
              "      <td>0.808295</td>\n",
              "      <td>15502.849032</td>\n",
              "      <td>26485.353711</td>\n",
              "      <td>0.830058</td>\n",
              "      <td>14596.410831</td>\n",
              "      <td>27854.235528</td>\n",
              "    </tr>\n",
              "    <tr>\n",
              "      <th>2</th>\n",
              "      <td>employee_size, avg_age, total_household_size, ...</td>\n",
              "      <td>[0, 1, 2]</td>\n",
              "      <td>[3, 4, 5, 6, 7]</td>\n",
              "      <td>0.997543</td>\n",
              "      <td>1755.101447</td>\n",
              "      <td>1.620011e+16</td>\n",
              "      <td>0.808295</td>\n",
              "      <td>15502.849032</td>\n",
              "      <td>26485.353711</td>\n",
              "      <td>0.830240</td>\n",
              "      <td>14588.578824</td>\n",
              "      <td>27922.727711</td>\n",
              "    </tr>\n",
              "    <tr>\n",
              "      <th>3</th>\n",
              "      <td>employee_size, avg_age, total_household_size, ...</td>\n",
              "      <td>[0, 1, 2, 3]</td>\n",
              "      <td>[4, 5, 6, 7, 8]</td>\n",
              "      <td>0.997551</td>\n",
              "      <td>1752.277405</td>\n",
              "      <td>1.363154e+16</td>\n",
              "      <td>0.808295</td>\n",
              "      <td>15502.849032</td>\n",
              "      <td>26485.353711</td>\n",
              "      <td>0.830222</td>\n",
              "      <td>14589.333917</td>\n",
              "      <td>27928.761232</td>\n",
              "    </tr>\n",
              "  </tbody>\n",
              "</table>\n",
              "</div>\n",
              "      <button class=\"colab-df-convert\" onclick=\"convertToInteractive('df-490c67db-770c-4bc3-aed2-c8cea85ecf0d')\"\n",
              "              title=\"Convert this dataframe to an interactive table.\"\n",
              "              style=\"display:none;\">\n",
              "        \n",
              "  <svg xmlns=\"http://www.w3.org/2000/svg\" height=\"24px\"viewBox=\"0 0 24 24\"\n",
              "       width=\"24px\">\n",
              "    <path d=\"M0 0h24v24H0V0z\" fill=\"none\"/>\n",
              "    <path d=\"M18.56 5.44l.94 2.06.94-2.06 2.06-.94-2.06-.94-.94-2.06-.94 2.06-2.06.94zm-11 1L8.5 8.5l.94-2.06 2.06-.94-2.06-.94L8.5 2.5l-.94 2.06-2.06.94zm10 10l.94 2.06.94-2.06 2.06-.94-2.06-.94-.94-2.06-.94 2.06-2.06.94z\"/><path d=\"M17.41 7.96l-1.37-1.37c-.4-.4-.92-.59-1.43-.59-.52 0-1.04.2-1.43.59L10.3 9.45l-7.72 7.72c-.78.78-.78 2.05 0 2.83L4 21.41c.39.39.9.59 1.41.59.51 0 1.02-.2 1.41-.59l7.78-7.78 2.81-2.81c.8-.78.8-2.07 0-2.86zM5.41 20L4 18.59l7.72-7.72 1.47 1.35L5.41 20z\"/>\n",
              "  </svg>\n",
              "      </button>\n",
              "      \n",
              "  <style>\n",
              "    .colab-df-container {\n",
              "      display:flex;\n",
              "      flex-wrap:wrap;\n",
              "      gap: 12px;\n",
              "    }\n",
              "\n",
              "    .colab-df-convert {\n",
              "      background-color: #E8F0FE;\n",
              "      border: none;\n",
              "      border-radius: 50%;\n",
              "      cursor: pointer;\n",
              "      display: none;\n",
              "      fill: #1967D2;\n",
              "      height: 32px;\n",
              "      padding: 0 0 0 0;\n",
              "      width: 32px;\n",
              "    }\n",
              "\n",
              "    .colab-df-convert:hover {\n",
              "      background-color: #E2EBFA;\n",
              "      box-shadow: 0px 1px 2px rgba(60, 64, 67, 0.3), 0px 1px 3px 1px rgba(60, 64, 67, 0.15);\n",
              "      fill: #174EA6;\n",
              "    }\n",
              "\n",
              "    [theme=dark] .colab-df-convert {\n",
              "      background-color: #3B4455;\n",
              "      fill: #D2E3FC;\n",
              "    }\n",
              "\n",
              "    [theme=dark] .colab-df-convert:hover {\n",
              "      background-color: #434B5C;\n",
              "      box-shadow: 0px 1px 3px 1px rgba(0, 0, 0, 0.15);\n",
              "      filter: drop-shadow(0px 1px 2px rgba(0, 0, 0, 0.3));\n",
              "      fill: #FFFFFF;\n",
              "    }\n",
              "  </style>\n",
              "\n",
              "      <script>\n",
              "        const buttonEl =\n",
              "          document.querySelector('#df-490c67db-770c-4bc3-aed2-c8cea85ecf0d button.colab-df-convert');\n",
              "        buttonEl.style.display =\n",
              "          google.colab.kernel.accessAllowed ? 'block' : 'none';\n",
              "\n",
              "        async function convertToInteractive(key) {\n",
              "          const element = document.querySelector('#df-490c67db-770c-4bc3-aed2-c8cea85ecf0d');\n",
              "          const dataTable =\n",
              "            await google.colab.kernel.invokeFunction('convertToInteractive',\n",
              "                                                     [key], {});\n",
              "          if (!dataTable) return;\n",
              "\n",
              "          const docLinkHtml = 'Like what you see? Visit the ' +\n",
              "            '<a target=\"_blank\" href=https://colab.research.google.com/notebooks/data_table.ipynb>data table notebook</a>'\n",
              "            + ' to learn more about interactive tables.';\n",
              "          element.innerHTML = '';\n",
              "          dataTable['output_type'] = 'display_data';\n",
              "          await google.colab.output.renderOutput(dataTable, element);\n",
              "          const docLink = document.createElement('div');\n",
              "          docLink.innerHTML = docLinkHtml;\n",
              "          element.appendChild(docLink);\n",
              "        }\n",
              "      </script>\n",
              "    </div>\n",
              "  </div>\n",
              "  "
            ]
          },
          "metadata": {},
          "execution_count": 29
        }
      ]
    },
    {
      "cell_type": "code",
      "source": [
        "p = preprocess_pipeline_builder([i.strip() for i in lr_model_report.iloc[3,0].split(',')], lr_model_report.iloc[3,1], lr_model_report.iloc[3,2])\n",
        "\n",
        "ridge.fit(p.fit_transform(train_X), train_y)"
      ],
      "metadata": {
        "colab": {
          "base_uri": "https://localhost:8080/",
          "height": 75
        },
        "id": "oNGAk8b0VvPq",
        "outputId": "1e31ae7a-ce64-4f00-a1b1-e4724316b95a"
      },
      "execution_count": 30,
      "outputs": [
        {
          "output_type": "execute_result",
          "data": {
            "text/plain": [
              "Ridge(alpha=100)"
            ],
            "text/html": [
              "<style>#sk-container-id-1 {color: black;background-color: white;}#sk-container-id-1 pre{padding: 0;}#sk-container-id-1 div.sk-toggleable {background-color: white;}#sk-container-id-1 label.sk-toggleable__label {cursor: pointer;display: block;width: 100%;margin-bottom: 0;padding: 0.3em;box-sizing: border-box;text-align: center;}#sk-container-id-1 label.sk-toggleable__label-arrow:before {content: \"▸\";float: left;margin-right: 0.25em;color: #696969;}#sk-container-id-1 label.sk-toggleable__label-arrow:hover:before {color: black;}#sk-container-id-1 div.sk-estimator:hover label.sk-toggleable__label-arrow:before {color: black;}#sk-container-id-1 div.sk-toggleable__content {max-height: 0;max-width: 0;overflow: hidden;text-align: left;background-color: #f0f8ff;}#sk-container-id-1 div.sk-toggleable__content pre {margin: 0.2em;color: black;border-radius: 0.25em;background-color: #f0f8ff;}#sk-container-id-1 input.sk-toggleable__control:checked~div.sk-toggleable__content {max-height: 200px;max-width: 100%;overflow: auto;}#sk-container-id-1 input.sk-toggleable__control:checked~label.sk-toggleable__label-arrow:before {content: \"▾\";}#sk-container-id-1 div.sk-estimator input.sk-toggleable__control:checked~label.sk-toggleable__label {background-color: #d4ebff;}#sk-container-id-1 div.sk-label input.sk-toggleable__control:checked~label.sk-toggleable__label {background-color: #d4ebff;}#sk-container-id-1 input.sk-hidden--visually {border: 0;clip: rect(1px 1px 1px 1px);clip: rect(1px, 1px, 1px, 1px);height: 1px;margin: -1px;overflow: hidden;padding: 0;position: absolute;width: 1px;}#sk-container-id-1 div.sk-estimator {font-family: monospace;background-color: #f0f8ff;border: 1px dotted black;border-radius: 0.25em;box-sizing: border-box;margin-bottom: 0.5em;}#sk-container-id-1 div.sk-estimator:hover {background-color: #d4ebff;}#sk-container-id-1 div.sk-parallel-item::after {content: \"\";width: 100%;border-bottom: 1px solid gray;flex-grow: 1;}#sk-container-id-1 div.sk-label:hover label.sk-toggleable__label {background-color: #d4ebff;}#sk-container-id-1 div.sk-serial::before {content: \"\";position: absolute;border-left: 1px solid gray;box-sizing: border-box;top: 0;bottom: 0;left: 50%;z-index: 0;}#sk-container-id-1 div.sk-serial {display: flex;flex-direction: column;align-items: center;background-color: white;padding-right: 0.2em;padding-left: 0.2em;position: relative;}#sk-container-id-1 div.sk-item {position: relative;z-index: 1;}#sk-container-id-1 div.sk-parallel {display: flex;align-items: stretch;justify-content: center;background-color: white;position: relative;}#sk-container-id-1 div.sk-item::before, #sk-container-id-1 div.sk-parallel-item::before {content: \"\";position: absolute;border-left: 1px solid gray;box-sizing: border-box;top: 0;bottom: 0;left: 50%;z-index: -1;}#sk-container-id-1 div.sk-parallel-item {display: flex;flex-direction: column;z-index: 1;position: relative;background-color: white;}#sk-container-id-1 div.sk-parallel-item:first-child::after {align-self: flex-end;width: 50%;}#sk-container-id-1 div.sk-parallel-item:last-child::after {align-self: flex-start;width: 50%;}#sk-container-id-1 div.sk-parallel-item:only-child::after {width: 0;}#sk-container-id-1 div.sk-dashed-wrapped {border: 1px dashed gray;margin: 0 0.4em 0.5em 0.4em;box-sizing: border-box;padding-bottom: 0.4em;background-color: white;}#sk-container-id-1 div.sk-label label {font-family: monospace;font-weight: bold;display: inline-block;line-height: 1.2em;}#sk-container-id-1 div.sk-label-container {text-align: center;}#sk-container-id-1 div.sk-container {/* jupyter's `normalize.less` sets `[hidden] { display: none; }` but bootstrap.min.css set `[hidden] { display: none !important; }` so we also need the `!important` here to be able to override the default hidden behavior on the sphinx rendered scikit-learn.org. See: https://github.com/scikit-learn/scikit-learn/issues/21755 */display: inline-block !important;position: relative;}#sk-container-id-1 div.sk-text-repr-fallback {display: none;}</style><div id=\"sk-container-id-1\" class=\"sk-top-container\"><div class=\"sk-text-repr-fallback\"><pre>Ridge(alpha=100)</pre><b>In a Jupyter environment, please rerun this cell to show the HTML representation or trust the notebook. <br />On GitHub, the HTML representation is unable to render, please try loading this page with nbviewer.org.</b></div><div class=\"sk-container\" hidden><div class=\"sk-item\"><div class=\"sk-estimator sk-toggleable\"><input class=\"sk-toggleable__control sk-hidden--visually\" id=\"sk-estimator-id-1\" type=\"checkbox\" checked><label for=\"sk-estimator-id-1\" class=\"sk-toggleable__label sk-toggleable__label-arrow\">Ridge</label><div class=\"sk-toggleable__content\"><pre>Ridge(alpha=100)</pre></div></div></div></div></div>"
            ]
          },
          "metadata": {},
          "execution_count": 30
        }
      ]
    },
    {
      "cell_type": "code",
      "source": [
        "sns.histplot(ridge.predict(p.transform(train_X)))"
      ],
      "metadata": {
        "colab": {
          "base_uri": "https://localhost:8080/",
          "height": 447
        },
        "id": "maJL4Bh3WugH",
        "outputId": "06ef0dc5-882e-424c-cfcc-9d0fa3a14843"
      },
      "execution_count": 31,
      "outputs": [
        {
          "output_type": "execute_result",
          "data": {
            "text/plain": [
              "<Axes: ylabel='Count'>"
            ]
          },
          "metadata": {},
          "execution_count": 31
        },
        {
          "output_type": "display_data",
          "data": {
            "text/plain": [
              "<Figure size 640x480 with 1 Axes>"
            ],
            "image/png": "[encoded data removed]"
          },
          "metadata": {}
        }
      ]
    },
    {
      "cell_type": "code",
      "source": [
        "(ridge.predict(p.transform(train_X))< 0).sum()   # three values are predicted negative."
      ],
      "metadata": {
        "colab": {
          "base_uri": "https://localhost:8080/"
        },
        "id": "9hgyoTXhXhCv",
        "outputId": "ae5d826f-e7bd-4f95-c337-c8942731b278"
      },
      "execution_count": 32,
      "outputs": [
        {
          "output_type": "execute_result",
          "data": {
            "text/plain": [
              "3"
            ]
          },
          "metadata": {},
          "execution_count": 32
        }
      ]
    },
    {
      "cell_type": "markdown",
      "source": [
        "Using DNN"
      ],
      "metadata": {
        "id": "-DovLvSdQwJq"
      }
    },
    {
      "cell_type": "code",
      "source": [
        "import tensorflow as tf\n",
        "import keras\n",
        "from keras.layers import InputLayer, Dense, CategoryEncoding, Input\n",
        "from keras.activations import elu, relu\n",
        "from keras.models import Sequential\n",
        "from keras.losses import MeanSquaredError\n",
        "from keras.callbacks import EarlyStopping"
      ],
      "metadata": {
        "id": "U1uDqgY_QvkA"
      },
      "execution_count": 120,
      "outputs": []
    },
    {
      "cell_type": "code",
      "source": [
        "def get_model(input_shape, units, activation=['relu', 'relu']):\n",
        "  layers = [Input(shape=input_shape)]\n",
        "  layers.extend( [Dense(unit, activation=activation[0]) for unit in units[:-1]])\n",
        "  layers.append(Dense(units[-1], activation=activation[-1]))\n",
        "  model = Sequential(layers)\n",
        "  return model"
      ],
      "metadata": {
        "id": "Ft_7AtfkR1x5"
      },
      "execution_count": 121,
      "outputs": []
    },
    {
      "cell_type": "code",
      "source": [
        "train_pX = p.transform(train_X)\n",
        "\n",
        "model = get_model(\n",
        "    input_shape = (train_pX.shape[1],),\n",
        "    units= [128, 64, 32, 16, 1],\n",
        "    activation=[ 'relu', 'relu']\n",
        ")"
      ],
      "metadata": {
        "id": "ZcOGqgwtX8ED"
      },
      "execution_count": 131,
      "outputs": []
    },
    {
      "cell_type": "code",
      "source": [
        "model.summary()"
      ],
      "metadata": {
        "colab": {
          "base_uri": "https://localhost:8080/"
        },
        "id": "8Bx7WepuWBEj",
        "outputId": "8126078c-18a1-42cd-fc4a-2202dc8b9423"
      },
      "execution_count": 132,
      "outputs": [
        {
          "output_type": "stream",
          "name": "stdout",
          "text": [
            "Model: \"sequential_11\"\n",
            "_________________________________________________________________\n",
            " Layer (type)                Output Shape              Param #   \n",
            "=================================================================\n",
            " dense_55 (Dense)            (None, 128)               41856     \n",
            "                                                                 \n",
            " dense_56 (Dense)            (None, 64)                8256      \n",
            "                                                                 \n",
            " dense_57 (Dense)            (None, 32)                2080      \n",
            "                                                                 \n",
            " dense_58 (Dense)            (None, 16)                528       \n",
            "                                                                 \n",
            " dense_59 (Dense)            (None, 1)                 17        \n",
            "                                                                 \n",
            "=================================================================\n",
            "Total params: 52,737\n",
            "Trainable params: 52,737\n",
            "Non-trainable params: 0\n",
            "_________________________________________________________________\n"
          ]
        }
      ]
    },
    {
      "cell_type": "code",
      "source": [
        "model.compile(optimizer=tf.keras.optimizers.RMSprop(learning_rate=0.001), loss=tf.keras.losses.MeanSquaredError() , metrics=['mean_absolute_error'])"
      ],
      "metadata": {
        "id": "HyArpedTWOIK"
      },
      "execution_count": 133,
      "outputs": []
    },
    {
      "cell_type": "code",
      "source": [
        "early_stopping = EarlyStopping(patience=3,  restore_best_weights=True)\n",
        "model.fit(train_pX, train_y.astype(np.float32),epochs=1000, validation_split=0.1, callbacks=[early_stopping], verbose=2)"
      ],
      "metadata": {
        "colab": {
          "base_uri": "https://localhost:8080/"
        },
        "id": "tFCs-Cm6YuIh",
        "outputId": "69e05110-cf7d-4e30-fb9a-25fe3b4ae48d"
      },
      "execution_count": 134,
      "outputs": [
        {
          "output_type": "stream",
          "name": "stdout",
          "text": [
            "Epoch 1/1000\n",
            "10/10 - 1s - loss: 1011029760.0000 - mean_absolute_error: 9408.9854 - val_loss: 7981807104.0000 - val_mean_absolute_error: 33698.7617 - 1s/epoch - 135ms/step\n",
            "Epoch 2/1000\n",
            "10/10 - 0s - loss: 1010959424.0000 - mean_absolute_error: 9405.8936 - val_loss: 7981321216.0000 - val_mean_absolute_error: 33693.3750 - 83ms/epoch - 8ms/step\n",
            "Epoch 3/1000\n",
            "10/10 - 0s - loss: 1010773696.0000 - mean_absolute_error: 9397.7344 - val_loss: 7980346880.0000 - val_mean_absolute_error: 33683.0117 - 82ms/epoch - 8ms/step\n",
            "Epoch 4/1000\n",
            "10/10 - 0s - loss: 1010398080.0000 - mean_absolute_error: 9383.8477 - val_loss: 7978330112.0000 - val_mean_absolute_error: 33662.0000 - 83ms/epoch - 8ms/step\n",
            "Epoch 5/1000\n",
            "10/10 - 0s - loss: 1009756288.0000 - mean_absolute_error: 9356.3564 - val_loss: 7974961664.0000 - val_mean_absolute_error: 33626.8359 - 92ms/epoch - 9ms/step\n",
            "Epoch 6/1000\n",
            "10/10 - 0s - loss: 1008735872.0000 - mean_absolute_error: 9313.8447 - val_loss: 7970394624.0000 - val_mean_absolute_error: 33577.9219 - 83ms/epoch - 8ms/step\n",
            "Epoch 7/1000\n",
            "10/10 - 0s - loss: 1007315968.0000 - mean_absolute_error: 9253.5215 - val_loss: 7963684864.0000 - val_mean_absolute_error: 33508.1914 - 54ms/epoch - 5ms/step\n",
            "Epoch 8/1000\n",
            "10/10 - 0s - loss: 1005279488.0000 - mean_absolute_error: 9173.8340 - val_loss: 7954322432.0000 - val_mean_absolute_error: 33411.5469 - 57ms/epoch - 6ms/step\n",
            "Epoch 9/1000\n",
            "10/10 - 0s - loss: 1002590400.0000 - mean_absolute_error: 9056.0254 - val_loss: 7942396928.0000 - val_mean_absolute_error: 33289.6211 - 70ms/epoch - 7ms/step\n",
            "Epoch 10/1000\n",
            "10/10 - 0s - loss: 998738304.0000 - mean_absolute_error: 8929.1680 - val_loss: 7923924992.0000 - val_mean_absolute_error: 33137.8164 - 56ms/epoch - 6ms/step\n",
            "Epoch 11/1000\n",
            "10/10 - 0s - loss: 993864768.0000 - mean_absolute_error: 8797.2529 - val_loss: 7904920576.0000 - val_mean_absolute_error: 33038.8320 - 55ms/epoch - 6ms/step\n",
            "Epoch 12/1000\n",
            "10/10 - 0s - loss: 988253248.0000 - mean_absolute_error: 8703.8721 - val_loss: 7876786688.0000 - val_mean_absolute_error: 32954.1602 - 62ms/epoch - 6ms/step\n",
            "Epoch 13/1000\n",
            "10/10 - 0s - loss: 981118464.0000 - mean_absolute_error: 8610.7207 - val_loss: 7850980864.0000 - val_mean_absolute_error: 32880.6055 - 55ms/epoch - 6ms/step\n",
            "Epoch 14/1000\n",
            "10/10 - 0s - loss: 974032000.0000 - mean_absolute_error: 8557.0479 - val_loss: 7819025408.0000 - val_mean_absolute_error: 32788.9375 - 74ms/epoch - 7ms/step\n",
            "Epoch 15/1000\n",
            "10/10 - 0s - loss: 965165184.0000 - mean_absolute_error: 8516.8389 - val_loss: 7776248320.0000 - val_mean_absolute_error: 32701.2637 - 63ms/epoch - 6ms/step\n",
            "Epoch 16/1000\n",
            "10/10 - 0s - loss: 955441664.0000 - mean_absolute_error: 8528.9551 - val_loss: 7738080768.0000 - val_mean_absolute_error: 32661.2852 - 55ms/epoch - 6ms/step\n",
            "Epoch 17/1000\n",
            "10/10 - 0s - loss: 944944960.0000 - mean_absolute_error: 8541.0322 - val_loss: 7683476992.0000 - val_mean_absolute_error: 32628.8184 - 55ms/epoch - 6ms/step\n",
            "Epoch 18/1000\n",
            "10/10 - 0s - loss: 933746752.0000 - mean_absolute_error: 8611.7451 - val_loss: 7641283072.0000 - val_mean_absolute_error: 32605.0645 - 75ms/epoch - 8ms/step\n",
            "Epoch 19/1000\n",
            "10/10 - 0s - loss: 922293696.0000 - mean_absolute_error: 8663.2266 - val_loss: 7575073792.0000 - val_mean_absolute_error: 32588.2109 - 65ms/epoch - 6ms/step\n",
            "Epoch 20/1000\n",
            "10/10 - 0s - loss: 909266176.0000 - mean_absolute_error: 8829.9443 - val_loss: 7523350016.0000 - val_mean_absolute_error: 32588.5996 - 54ms/epoch - 5ms/step\n",
            "Epoch 21/1000\n",
            "10/10 - 0s - loss: 897648640.0000 - mean_absolute_error: 8964.5352 - val_loss: 7456643584.0000 - val_mean_absolute_error: 32636.2422 - 55ms/epoch - 5ms/step\n",
            "Epoch 22/1000\n",
            "10/10 - 0s - loss: 884322432.0000 - mean_absolute_error: 9252.8076 - val_loss: 7394906112.0000 - val_mean_absolute_error: 32664.9609 - 51ms/epoch - 5ms/step\n",
            "Epoch 23/1000\n",
            "10/10 - 0s - loss: 871737280.0000 - mean_absolute_error: 9438.2588 - val_loss: 7316213760.0000 - val_mean_absolute_error: 32699.0938 - 73ms/epoch - 7ms/step\n",
            "Epoch 24/1000\n",
            "10/10 - 0s - loss: 857272768.0000 - mean_absolute_error: 9697.5771 - val_loss: 7242176512.0000 - val_mean_absolute_error: 32721.9570 - 64ms/epoch - 6ms/step\n",
            "Epoch 25/1000\n",
            "10/10 - 0s - loss: 845560512.0000 - mean_absolute_error: 10045.7207 - val_loss: 7184274432.0000 - val_mean_absolute_error: 32736.8848 - 63ms/epoch - 6ms/step\n",
            "Epoch 26/1000\n",
            "10/10 - 0s - loss: 832804672.0000 - mean_absolute_error: 10154.1885 - val_loss: 7102081024.0000 - val_mean_absolute_error: 32777.0000 - 69ms/epoch - 7ms/step\n",
            "Epoch 27/1000\n",
            "10/10 - 0s - loss: 819936512.0000 - mean_absolute_error: 10574.1631 - val_loss: 7024710656.0000 - val_mean_absolute_error: 32824.1797 - 71ms/epoch - 7ms/step\n",
            "Epoch 28/1000\n",
            "10/10 - 0s - loss: 808244032.0000 - mean_absolute_error: 10784.9277 - val_loss: 6961340416.0000 - val_mean_absolute_error: 32796.6445 - 56ms/epoch - 6ms/step\n",
            "Epoch 29/1000\n",
            "10/10 - 0s - loss: 796009792.0000 - mean_absolute_error: 10991.3408 - val_loss: 6883441664.0000 - val_mean_absolute_error: 32786.8242 - 59ms/epoch - 6ms/step\n",
            "Epoch 30/1000\n",
            "10/10 - 0s - loss: 783376576.0000 - mean_absolute_error: 11104.1426 - val_loss: 6795786240.0000 - val_mean_absolute_error: 32771.3477 - 62ms/epoch - 6ms/step\n",
            "Epoch 31/1000\n",
            "10/10 - 0s - loss: 770893824.0000 - mean_absolute_error: 11563.4619 - val_loss: 6743396352.0000 - val_mean_absolute_error: 32660.8535 - 52ms/epoch - 5ms/step\n",
            "Epoch 32/1000\n",
            "10/10 - 0s - loss: 759959680.0000 - mean_absolute_error: 11643.2324 - val_loss: 6683514880.0000 - val_mean_absolute_error: 32533.9922 - 53ms/epoch - 5ms/step\n",
            "Epoch 33/1000\n",
            "10/10 - 0s - loss: 749018368.0000 - mean_absolute_error: 11534.7256 - val_loss: 6617005056.0000 - val_mean_absolute_error: 32418.3105 - 58ms/epoch - 6ms/step\n",
            "Epoch 34/1000\n",
            "10/10 - 0s - loss: 736852224.0000 - mean_absolute_error: 11633.1875 - val_loss: 6534943232.0000 - val_mean_absolute_error: 32317.7188 - 60ms/epoch - 6ms/step\n",
            "Epoch 35/1000\n",
            "10/10 - 0s - loss: 724691520.0000 - mean_absolute_error: 11663.3271 - val_loss: 6485559808.0000 - val_mean_absolute_error: 32128.0176 - 74ms/epoch - 7ms/step\n",
            "Epoch 36/1000\n",
            "10/10 - 0s - loss: 712543232.0000 - mean_absolute_error: 11578.4375 - val_loss: 6416651264.0000 - val_mean_absolute_error: 31955.6602 - 70ms/epoch - 7ms/step\n",
            "Epoch 37/1000\n",
            "10/10 - 0s - loss: 698240768.0000 - mean_absolute_error: 11641.6182 - val_loss: 6344348160.0000 - val_mean_absolute_error: 31811.0293 - 57ms/epoch - 6ms/step\n",
            "Epoch 38/1000\n",
            "10/10 - 0s - loss: 685330112.0000 - mean_absolute_error: 11729.0234 - val_loss: 6279697920.0000 - val_mean_absolute_error: 31608.3027 - 56ms/epoch - 6ms/step\n",
            "Epoch 39/1000\n",
            "10/10 - 0s - loss: 674792640.0000 - mean_absolute_error: 11576.5068 - val_loss: 6210520064.0000 - val_mean_absolute_error: 31425.0176 - 53ms/epoch - 5ms/step\n",
            "Epoch 40/1000\n",
            "10/10 - 0s - loss: 657814528.0000 - mean_absolute_error: 11543.2354 - val_loss: 6135401472.0000 - val_mean_absolute_error: 31237.8320 - 56ms/epoch - 6ms/step\n",
            "Epoch 41/1000\n",
            "10/10 - 0s - loss: 643438976.0000 - mean_absolute_error: 11425.4414 - val_loss: 6055667200.0000 - val_mean_absolute_error: 31013.5312 - 69ms/epoch - 7ms/step\n",
            "Epoch 42/1000\n",
            "10/10 - 0s - loss: 629042752.0000 - mean_absolute_error: 11407.1162 - val_loss: 5996544512.0000 - val_mean_absolute_error: 30759.8242 - 70ms/epoch - 7ms/step\n",
            "Epoch 43/1000\n",
            "10/10 - 0s - loss: 613217600.0000 - mean_absolute_error: 11195.0166 - val_loss: 5907624448.0000 - val_mean_absolute_error: 30520.6543 - 76ms/epoch - 8ms/step\n",
            "Epoch 44/1000\n",
            "10/10 - 0s - loss: 596902336.0000 - mean_absolute_error: 11231.5830 - val_loss: 5832753152.0000 - val_mean_absolute_error: 30218.4277 - 57ms/epoch - 6ms/step\n",
            "Epoch 45/1000\n",
            "10/10 - 0s - loss: 581600000.0000 - mean_absolute_error: 10811.4971 - val_loss: 5745334272.0000 - val_mean_absolute_error: 29937.4512 - 73ms/epoch - 7ms/step\n",
            "Epoch 46/1000\n",
            "10/10 - 0s - loss: 564081088.0000 - mean_absolute_error: 10696.7988 - val_loss: 5655043584.0000 - val_mean_absolute_error: 29671.9785 - 63ms/epoch - 6ms/step\n",
            "Epoch 47/1000\n",
            "10/10 - 0s - loss: 545964416.0000 - mean_absolute_error: 10599.2744 - val_loss: 5540154368.0000 - val_mean_absolute_error: 29370.3672 - 68ms/epoch - 7ms/step\n",
            "Epoch 48/1000\n",
            "10/10 - 0s - loss: 525587744.0000 - mean_absolute_error: 10609.0674 - val_loss: 5454815232.0000 - val_mean_absolute_error: 29017.7930 - 71ms/epoch - 7ms/step\n",
            "Epoch 49/1000\n",
            "10/10 - 0s - loss: 509206144.0000 - mean_absolute_error: 10342.0205 - val_loss: 5374027776.0000 - val_mean_absolute_error: 28673.1094 - 60ms/epoch - 6ms/step\n",
            "Epoch 50/1000\n",
            "10/10 - 0s - loss: 490527648.0000 - mean_absolute_error: 10154.4932 - val_loss: 5292470272.0000 - val_mean_absolute_error: 28313.8848 - 51ms/epoch - 5ms/step\n",
            "Epoch 51/1000\n",
            "10/10 - 0s - loss: 473246432.0000 - mean_absolute_error: 10013.2197 - val_loss: 5206213632.0000 - val_mean_absolute_error: 27927.7832 - 57ms/epoch - 6ms/step\n",
            "Epoch 52/1000\n",
            "10/10 - 0s - loss: 454791744.0000 - mean_absolute_error: 9582.3086 - val_loss: 5100207616.0000 - val_mean_absolute_error: 27570.6777 - 51ms/epoch - 5ms/step\n",
            "Epoch 53/1000\n",
            "10/10 - 0s - loss: 435024608.0000 - mean_absolute_error: 9519.1514 - val_loss: 5008485376.0000 - val_mean_absolute_error: 27195.2070 - 57ms/epoch - 6ms/step\n",
            "Epoch 54/1000\n",
            "10/10 - 0s - loss: 415126944.0000 - mean_absolute_error: 9329.3633 - val_loss: 4910025728.0000 - val_mean_absolute_error: 26795.1035 - 56ms/epoch - 6ms/step\n",
            "Epoch 55/1000\n",
            "10/10 - 0s - loss: 395197824.0000 - mean_absolute_error: 8812.6895 - val_loss: 4781277184.0000 - val_mean_absolute_error: 26410.7227 - 53ms/epoch - 5ms/step\n",
            "Epoch 56/1000\n",
            "10/10 - 0s - loss: 373219616.0000 - mean_absolute_error: 8831.7539 - val_loss: 4669616128.0000 - val_mean_absolute_error: 26012.2441 - 54ms/epoch - 5ms/step\n",
            "Epoch 57/1000\n",
            "10/10 - 0s - loss: 352883712.0000 - mean_absolute_error: 8626.4482 - val_loss: 4557651968.0000 - val_mean_absolute_error: 25595.6973 - 69ms/epoch - 7ms/step\n",
            "Epoch 58/1000\n",
            "10/10 - 0s - loss: 333208736.0000 - mean_absolute_error: 8316.7471 - val_loss: 4417637376.0000 - val_mean_absolute_error: 25164.5527 - 53ms/epoch - 5ms/step\n",
            "Epoch 59/1000\n",
            "10/10 - 0s - loss: 309902976.0000 - mean_absolute_error: 8231.7510 - val_loss: 4317166080.0000 - val_mean_absolute_error: 24755.7656 - 74ms/epoch - 7ms/step\n",
            "Epoch 60/1000\n",
            "10/10 - 0s - loss: 292810304.0000 - mean_absolute_error: 7922.3521 - val_loss: 4226670848.0000 - val_mean_absolute_error: 24405.0723 - 60ms/epoch - 6ms/step\n",
            "Epoch 61/1000\n",
            "10/10 - 0s - loss: 275008576.0000 - mean_absolute_error: 7631.2236 - val_loss: 4115363072.0000 - val_mean_absolute_error: 24040.3438 - 72ms/epoch - 7ms/step\n",
            "Epoch 62/1000\n",
            "10/10 - 0s - loss: 257494288.0000 - mean_absolute_error: 7364.9561 - val_loss: 4001084672.0000 - val_mean_absolute_error: 23670.0293 - 52ms/epoch - 5ms/step\n",
            "Epoch 63/1000\n",
            "10/10 - 0s - loss: 238959808.0000 - mean_absolute_error: 7166.9443 - val_loss: 3909237248.0000 - val_mean_absolute_error: 23339.0352 - 53ms/epoch - 5ms/step\n",
            "Epoch 64/1000\n",
            "10/10 - 0s - loss: 223456416.0000 - mean_absolute_error: 6803.3159 - val_loss: 3779201536.0000 - val_mean_absolute_error: 22942.0469 - 72ms/epoch - 7ms/step\n",
            "Epoch 65/1000\n",
            "10/10 - 0s - loss: 204541664.0000 - mean_absolute_error: 6579.9854 - val_loss: 3608451840.0000 - val_mean_absolute_error: 22421.0859 - 75ms/epoch - 7ms/step\n",
            "Epoch 66/1000\n",
            "10/10 - 0s - loss: 185421952.0000 - mean_absolute_error: 6232.3511 - val_loss: 3436030464.0000 - val_mean_absolute_error: 21914.3984 - 71ms/epoch - 7ms/step\n",
            "Epoch 67/1000\n",
            "10/10 - 0s - loss: 168339232.0000 - mean_absolute_error: 6094.5146 - val_loss: 3332408832.0000 - val_mean_absolute_error: 21531.1992 - 75ms/epoch - 7ms/step\n",
            "Epoch 68/1000\n",
            "10/10 - 0s - loss: 154381776.0000 - mean_absolute_error: 5831.2183 - val_loss: 3220522496.0000 - val_mean_absolute_error: 21137.7109 - 53ms/epoch - 5ms/step\n",
            "Epoch 69/1000\n",
            "10/10 - 0s - loss: 140847472.0000 - mean_absolute_error: 5546.2129 - val_loss: 3118021632.0000 - val_mean_absolute_error: 20744.1777 - 53ms/epoch - 5ms/step\n",
            "Epoch 70/1000\n",
            "10/10 - 0s - loss: 129202736.0000 - mean_absolute_error: 5196.3472 - val_loss: 2936680192.0000 - val_mean_absolute_error: 20141.9531 - 69ms/epoch - 7ms/step\n",
            "Epoch 71/1000\n",
            "10/10 - 0s - loss: 117971976.0000 - mean_absolute_error: 4934.8706 - val_loss: 2877147392.0000 - val_mean_absolute_error: 19875.5234 - 68ms/epoch - 7ms/step\n",
            "Epoch 72/1000\n",
            "10/10 - 0s - loss: 110998144.0000 - mean_absolute_error: 4694.0410 - val_loss: 2777229568.0000 - val_mean_absolute_error: 19475.4043 - 71ms/epoch - 7ms/step\n",
            "Epoch 73/1000\n",
            "10/10 - 0s - loss: 104213896.0000 - mean_absolute_error: 4538.6162 - val_loss: 2761688064.0000 - val_mean_absolute_error: 19344.2070 - 57ms/epoch - 6ms/step\n",
            "Epoch 74/1000\n",
            "10/10 - 0s - loss: 98436672.0000 - mean_absolute_error: 4300.4995 - val_loss: 2698269184.0000 - val_mean_absolute_error: 19080.2051 - 58ms/epoch - 6ms/step\n",
            "Epoch 75/1000\n",
            "10/10 - 0s - loss: 93979992.0000 - mean_absolute_error: 4184.3950 - val_loss: 2687559936.0000 - val_mean_absolute_error: 19006.3066 - 52ms/epoch - 5ms/step\n",
            "Epoch 76/1000\n",
            "10/10 - 0s - loss: 90423984.0000 - mean_absolute_error: 4006.3755 - val_loss: 2622802432.0000 - val_mean_absolute_error: 18752.9062 - 80ms/epoch - 8ms/step\n",
            "Epoch 77/1000\n",
            "10/10 - 0s - loss: 86377200.0000 - mean_absolute_error: 3924.3333 - val_loss: 2638421760.0000 - val_mean_absolute_error: 18748.7695 - 52ms/epoch - 5ms/step\n",
            "Epoch 78/1000\n",
            "10/10 - 0s - loss: 83958760.0000 - mean_absolute_error: 3769.0061 - val_loss: 2623385344.0000 - val_mean_absolute_error: 18653.8828 - 73ms/epoch - 7ms/step\n",
            "Epoch 79/1000\n",
            "10/10 - 0s - loss: 81766584.0000 - mean_absolute_error: 3734.2869 - val_loss: 2620737792.0000 - val_mean_absolute_error: 18596.1973 - 72ms/epoch - 7ms/step\n",
            "Epoch 80/1000\n",
            "10/10 - 0s - loss: 80023648.0000 - mean_absolute_error: 3597.4746 - val_loss: 2614289408.0000 - val_mean_absolute_error: 18530.2051 - 71ms/epoch - 7ms/step\n",
            "Epoch 81/1000\n",
            "10/10 - 0s - loss: 75809632.0000 - mean_absolute_error: 3481.1870 - val_loss: 2594667264.0000 - val_mean_absolute_error: 18425.7266 - 53ms/epoch - 5ms/step\n",
            "Epoch 82/1000\n",
            "10/10 - 0s - loss: 73459936.0000 - mean_absolute_error: 3398.3545 - val_loss: 2550865664.0000 - val_mean_absolute_error: 18259.8398 - 51ms/epoch - 5ms/step\n",
            "Epoch 83/1000\n",
            "10/10 - 0s - loss: 73003768.0000 - mean_absolute_error: 3322.9907 - val_loss: 2522553344.0000 - val_mean_absolute_error: 18136.9297 - 57ms/epoch - 6ms/step\n",
            "Epoch 84/1000\n",
            "10/10 - 0s - loss: 70860456.0000 - mean_absolute_error: 3281.4329 - val_loss: 2511618048.0000 - val_mean_absolute_error: 18079.1875 - 64ms/epoch - 6ms/step\n",
            "Epoch 85/1000\n",
            "10/10 - 0s - loss: 70409656.0000 - mean_absolute_error: 3211.9644 - val_loss: 2471290624.0000 - val_mean_absolute_error: 17915.7207 - 52ms/epoch - 5ms/step\n",
            "Epoch 86/1000\n",
            "10/10 - 0s - loss: 67722272.0000 - mean_absolute_error: 3131.9556 - val_loss: 2471909888.0000 - val_mean_absolute_error: 17892.7578 - 67ms/epoch - 7ms/step\n",
            "Epoch 87/1000\n",
            "10/10 - 0s - loss: 67628680.0000 - mean_absolute_error: 3073.9111 - val_loss: 2464418304.0000 - val_mean_absolute_error: 17845.1094 - 62ms/epoch - 6ms/step\n",
            "Epoch 88/1000\n",
            "10/10 - 0s - loss: 65887808.0000 - mean_absolute_error: 3036.1687 - val_loss: 2471611392.0000 - val_mean_absolute_error: 17836.0195 - 68ms/epoch - 7ms/step\n",
            "Epoch 89/1000\n",
            "10/10 - 0s - loss: 64623588.0000 - mean_absolute_error: 3006.1155 - val_loss: 2444975104.0000 - val_mean_absolute_error: 17717.1738 - 58ms/epoch - 6ms/step\n",
            "Epoch 90/1000\n",
            "10/10 - 0s - loss: 61640892.0000 - mean_absolute_error: 2916.7771 - val_loss: 2450360320.0000 - val_mean_absolute_error: 17707.1953 - 52ms/epoch - 5ms/step\n",
            "Epoch 91/1000\n",
            "10/10 - 0s - loss: 62868740.0000 - mean_absolute_error: 2891.7146 - val_loss: 2422427392.0000 - val_mean_absolute_error: 17575.5762 - 53ms/epoch - 5ms/step\n",
            "Epoch 92/1000\n",
            "10/10 - 0s - loss: 59722008.0000 - mean_absolute_error: 2843.7485 - val_loss: 2430049792.0000 - val_mean_absolute_error: 17584.3164 - 62ms/epoch - 6ms/step\n",
            "Epoch 93/1000\n",
            "10/10 - 0s - loss: 59021180.0000 - mean_absolute_error: 2766.3037 - val_loss: 2428807168.0000 - val_mean_absolute_error: 17556.0430 - 53ms/epoch - 5ms/step\n",
            "Epoch 94/1000\n",
            "10/10 - 0s - loss: 59276548.0000 - mean_absolute_error: 2732.4812 - val_loss: 2456164864.0000 - val_mean_absolute_error: 17630.1348 - 79ms/epoch - 8ms/step\n"
          ]
        },
        {
          "output_type": "execute_result",
          "data": {
            "text/plain": [
              "<keras.callbacks.History at 0x7f0568bc37f0>"
            ]
          },
          "metadata": {},
          "execution_count": 134
        }
      ]
    },
    {
      "cell_type": "code",
      "source": [
        "from sklearn.metrics import r2_score, mean_squared_error\n",
        "score = r2_score(train_y, model.predict(train_pX))\n",
        "rmse = mean_squared_error(train_y, model.predict(train_pX)) ** 0.5\n",
        "\n",
        "print(score, rmse)"
      ],
      "metadata": {
        "colab": {
          "base_uri": "https://localhost:8080/"
        },
        "id": "47pcpHRUY005",
        "outputId": "e1fd9c80-62b6-42c3-f3b0-0843320e5036"
      },
      "execution_count": 169,
      "outputs": [
        {
          "output_type": "stream",
          "name": "stdout",
          "text": [
            "11/11 [==============================] - 0s 2ms/step\n",
            "11/11 [==============================] - 0s 2ms/step\n",
            "0.8104065202314116 17334.37543207589\n"
          ]
        }
      ]
    },
    {
      "cell_type": "code",
      "source": [
        "np.std(train_y)"
      ],
      "metadata": {
        "colab": {
          "base_uri": "https://localhost:8080/"
        },
        "id": "Vv845zpsQoRc",
        "outputId": "4bcf555c-4bcf-4e59-d64a-a473fd1ca1b5"
      },
      "execution_count": 170,
      "outputs": [
        {
          "output_type": "execute_result",
          "data": {
            "text/plain": [
              "39810.39618132019"
            ]
          },
          "metadata": {},
          "execution_count": 170
        }
      ]
    },
    {
      "cell_type": "code",
      "source": [
        "rmse/np.std(train_y)"
      ],
      "metadata": {
        "colab": {
          "base_uri": "https://localhost:8080/"
        },
        "id": "79gnAxHObDR2",
        "outputId": "329d535b-ff96-44b1-a40c-b1be1280953e"
      },
      "execution_count": 171,
      "outputs": [
        {
          "output_type": "execute_result",
          "data": {
            "text/plain": [
              "0.4354233339734889"
            ]
          },
          "metadata": {},
          "execution_count": 171
        }
      ]
    },
    {
      "cell_type": "code",
      "source": [
        "sns.histplot(model.predict(train_pX))"
      ],
      "metadata": {
        "colab": {
          "base_uri": "https://localhost:8080/",
          "height": 465
        },
        "id": "i6UbsuSljE9m",
        "outputId": "495d4431-72be-4175-eaab-b58fb08987ee"
      },
      "execution_count": 137,
      "outputs": [
        {
          "output_type": "stream",
          "name": "stdout",
          "text": [
            "11/11 [==============================] - 0s 2ms/step\n"
          ]
        },
        {
          "output_type": "execute_result",
          "data": {
            "text/plain": [
              "<Axes: ylabel='Count'>"
            ]
          },
          "metadata": {},
          "execution_count": 137
        },
        {
          "output_type": "display_data",
          "data": {
            "text/plain": [
              "<Figure size 640x480 with 1 Axes>"
            ],
            "image/png": "[encoded data removed]"
          },
          "metadata": {}
        }
      ]
    },
    {
      "cell_type": "code",
      "source": [
        "model.predict(train_pX)"
      ],
      "metadata": {
        "id": "FecKi8cWJd6L"
      },
      "execution_count": null,
      "outputs": []
    },
    {
      "cell_type": "code",
      "source": [
        "(model.predict(train_pX) < 0 ).sum()"
      ],
      "metadata": {
        "colab": {
          "base_uri": "https://localhost:8080/"
        },
        "id": "nC3zn7lzjNEM",
        "outputId": "2190d976-a375-431b-b396-d9e2ed4546f3"
      },
      "execution_count": 140,
      "outputs": [
        {
          "output_type": "stream",
          "name": "stdout",
          "text": [
            "11/11 [==============================] - 0s 2ms/step\n"
          ]
        },
        {
          "output_type": "execute_result",
          "data": {
            "text/plain": [
              "0"
            ]
          },
          "metadata": {},
          "execution_count": 140
        }
      ]
    },
    {
      "cell_type": "markdown",
      "source": [
        "predicting on submission data"
      ],
      "metadata": {
        "id": "G80Air5RI6dj"
      }
    },
    {
      "cell_type": "code",
      "source": [
        "sub_X = test_data.iloc[:, :len(test_data.columns.to_list())]\n",
        "sub_X.columns = [i.strip() for i in sub_X.columns]\n",
        "sub_X"
      ],
      "metadata": {
        "colab": {
          "base_uri": "https://localhost:8080/",
          "height": 522
        },
        "id": "sZBUD3b6JUFi",
        "outputId": "dfd01111-a86a-4d1d-b8d5-f8c06b9270ac"
      },
      "execution_count": 145,
      "outputs": [
        {
          "output_type": "execute_result",
          "data": {
            "text/plain": [
              "     outlet_no  business_type           city state    zip  \\\n",
              "0         1001              1        HOUSTON    TX  77057   \n",
              "1         1002              1     RAPID CITY    SD  57702   \n",
              "2         1003              1    CLARKSVILLE    AR  72830   \n",
              "3         1004              1     RAPID CITY    SD  57702   \n",
              "4         1005              1    CLARKSVILLE    AR  72830   \n",
              "..         ...            ...            ...   ...    ...   \n",
              "250       1251              4  CLEVELAND HTS    OH  44118   \n",
              "251       1252              1      BETHLEHEM    PA  18017   \n",
              "252       1253              4      BETHLEHEM    PA  18017   \n",
              "253       1254              1      BETHLEHEM    PA  18017   \n",
              "254       1255              4      BETHLEHEM    PA  18017   \n",
              "\n",
              "                        store_location  avg_age  blue_collar  white_collar  \\\n",
              "0                              AT-WORK    33.96        22.42         44.74   \n",
              "1                              AT-WORK    37.34        42.41         34.52   \n",
              "2                              AT-WORK    36.06        54.47         33.87   \n",
              "3           THIRD PARTY (NON-CONSUMER)    37.34        42.41         34.52   \n",
              "4     ENTERTAINMENT/RECREATION/LEISURE    33.64        50.70         34.93   \n",
              "..                                 ...      ...          ...           ...   \n",
              "250                        EDUCATIONAL    36.51         4.27         55.69   \n",
              "251  TRAVEL/TRANSPORTATION/HOSPITALITY    55.23        11.83         45.25   \n",
              "252         THIRD PARTY (NON-CONSUMER)    62.34        31.17         44.72   \n",
              "253                            AT-WORK    42.37        15.81         52.49   \n",
              "254         THIRD PARTY (NON-CONSUMER)    40.17        44.53         43.97   \n",
              "\n",
              "     female  ...  total_household_size  total_household_income  time_zone  \\\n",
              "0     50.76  ...                  1.58                74121000        CST   \n",
              "1     50.06  ...                  1.99                45196000        MST   \n",
              "2     50.46  ...                  2.58                47034000        CST   \n",
              "3     50.06  ...                  1.99                45196000        MST   \n",
              "4     51.30  ...                  2.56                45592000        CST   \n",
              "..      ...  ...                   ...                     ...        ...   \n",
              "250   51.53  ...                  2.89               221859000        EST   \n",
              "251   55.66  ...                  2.15                97928000        EST   \n",
              "252   61.98  ...                  1.33                29932000        EST   \n",
              "253   52.73  ...                  2.53               107371000        EST   \n",
              "254   50.00  ...                  2.70                85011000        EST   \n",
              "\n",
              "      latitude   longitude  location_employee_code employee_size  \\\n",
              "0    29.749850  -95.482657                       D            41   \n",
              "1    44.079441 -103.262005                       A             4   \n",
              "2    35.482303  -93.476899                       A             4   \n",
              "3    44.082562 -103.263440                       B             5   \n",
              "4    35.472011  -93.482870                       B             5   \n",
              "..         ...         ...                     ...           ...   \n",
              "250  41.486555  -81.525715                       H           600   \n",
              "251  40.644006  -75.369886                       G           250   \n",
              "252  40.647520  -75.408263                       A             3   \n",
              "253  40.673970  -75.383771                       A             3   \n",
              "254  40.688504  -75.337809                       D            27   \n",
              "\n",
              "     credit_score credit_score_range actual _credit_score  \n",
              "0              A+          95 TO 100                   95  \n",
              "1              A+          95 TO 100                   96  \n",
              "2              A+          95 TO 100                   96  \n",
              "3              B+           85 TO 89                   89  \n",
              "4              A+          95 TO 100                   96  \n",
              "..            ...                ...                  ...  \n",
              "250             A           90 TO 94                   91  \n",
              "251             A           90 TO 94                   94  \n",
              "252            B+           85 TO 89                   86  \n",
              "253             A           90 TO 94                   90  \n",
              "254            A+          95 TO 100                   99  \n",
              "\n",
              "[255 rows x 21 columns]"
            ],
            "text/html": [
              "\n",
              "  <div id=\"df-2c9c9081-f7f7-4d05-9549-63b40c3f4f58\">\n",
              "    <div class=\"colab-df-container\">\n",
              "      <div>\n",
              "<style scoped>\n",
              "    .dataframe tbody tr th:only-of-type {\n",
              "        vertical-align: middle;\n",
              "    }\n",
              "\n",
              "    .dataframe tbody tr th {\n",
              "        vertical-align: top;\n",
              "    }\n",
              "\n",
              "    .dataframe thead th {\n",
              "        text-align: right;\n",
              "    }\n",
              "</style>\n",
              "<table border=\"1\" class=\"dataframe\">\n",
              "  <thead>\n",
              "    <tr style=\"text-align: right;\">\n",
              "      <th></th>\n",
              "      <th>outlet_no</th>\n",
              "      <th>business_type</th>\n",
              "      <th>city</th>\n",
              "      <th>state</th>\n",
              "      <th>zip</th>\n",
              "      <th>store_location</th>\n",
              "      <th>avg_age</th>\n",
              "      <th>blue_collar</th>\n",
              "      <th>white_collar</th>\n",
              "      <th>female</th>\n",
              "      <th>...</th>\n",
              "      <th>total_household_size</th>\n",
              "      <th>total_household_income</th>\n",
              "      <th>time_zone</th>\n",
              "      <th>latitude</th>\n",
              "      <th>longitude</th>\n",
              "      <th>location_employee_code</th>\n",
              "      <th>employee_size</th>\n",
              "      <th>credit_score</th>\n",
              "      <th>credit_score_range</th>\n",
              "      <th>actual _credit_score</th>\n",
              "    </tr>\n",
              "  </thead>\n",
              "  <tbody>\n",
              "    <tr>\n",
              "      <th>0</th>\n",
              "      <td>1001</td>\n",
              "      <td>1</td>\n",
              "      <td>HOUSTON</td>\n",
              "      <td>TX</td>\n",
              "      <td>77057</td>\n",
              "      <td>AT-WORK</td>\n",
              "      <td>33.96</td>\n",
              "      <td>22.42</td>\n",
              "      <td>44.74</td>\n",
              "      <td>50.76</td>\n",
              "      <td>...</td>\n",
              "      <td>1.58</td>\n",
              "      <td>74121000</td>\n",
              "      <td>CST</td>\n",
              "      <td>29.749850</td>\n",
              "      <td>-95.482657</td>\n",
              "      <td>D</td>\n",
              "      <td>41</td>\n",
              "      <td>A+</td>\n",
              "      <td>95 TO 100</td>\n",
              "      <td>95</td>\n",
              "    </tr>\n",
              "    <tr>\n",
              "      <th>1</th>\n",
              "      <td>1002</td>\n",
              "      <td>1</td>\n",
              "      <td>RAPID CITY</td>\n",
              "      <td>SD</td>\n",
              "      <td>57702</td>\n",
              "      <td>AT-WORK</td>\n",
              "      <td>37.34</td>\n",
              "      <td>42.41</td>\n",
              "      <td>34.52</td>\n",
              "      <td>50.06</td>\n",
              "      <td>...</td>\n",
              "      <td>1.99</td>\n",
              "      <td>45196000</td>\n",
              "      <td>MST</td>\n",
              "      <td>44.079441</td>\n",
              "      <td>-103.262005</td>\n",
              "      <td>A</td>\n",
              "      <td>4</td>\n",
              "      <td>A+</td>\n",
              "      <td>95 TO 100</td>\n",
              "      <td>96</td>\n",
              "    </tr>\n",
              "    <tr>\n",
              "      <th>2</th>\n",
              "      <td>1003</td>\n",
              "      <td>1</td>\n",
              "      <td>CLARKSVILLE</td>\n",
              "      <td>AR</td>\n",
              "      <td>72830</td>\n",
              "      <td>AT-WORK</td>\n",
              "      <td>36.06</td>\n",
              "      <td>54.47</td>\n",
              "      <td>33.87</td>\n",
              "      <td>50.46</td>\n",
              "      <td>...</td>\n",
              "      <td>2.58</td>\n",
              "      <td>47034000</td>\n",
              "      <td>CST</td>\n",
              "      <td>35.482303</td>\n",
              "      <td>-93.476899</td>\n",
              "      <td>A</td>\n",
              "      <td>4</td>\n",
              "      <td>A+</td>\n",
              "      <td>95 TO 100</td>\n",
              "      <td>96</td>\n",
              "    </tr>\n",
              "    <tr>\n",
              "      <th>3</th>\n",
              "      <td>1004</td>\n",
              "      <td>1</td>\n",
              "      <td>RAPID CITY</td>\n",
              "      <td>SD</td>\n",
              "      <td>57702</td>\n",
              "      <td>THIRD PARTY (NON-CONSUMER)</td>\n",
              "      <td>37.34</td>\n",
              "      <td>42.41</td>\n",
              "      <td>34.52</td>\n",
              "      <td>50.06</td>\n",
              "      <td>...</td>\n",
              "      <td>1.99</td>\n",
              "      <td>45196000</td>\n",
              "      <td>MST</td>\n",
              "      <td>44.082562</td>\n",
              "      <td>-103.263440</td>\n",
              "      <td>B</td>\n",
              "      <td>5</td>\n",
              "      <td>B+</td>\n",
              "      <td>85 TO 89</td>\n",
              "      <td>89</td>\n",
              "    </tr>\n",
              "    <tr>\n",
              "      <th>4</th>\n",
              "      <td>1005</td>\n",
              "      <td>1</td>\n",
              "      <td>CLARKSVILLE</td>\n",
              "      <td>AR</td>\n",
              "      <td>72830</td>\n",
              "      <td>ENTERTAINMENT/RECREATION/LEISURE</td>\n",
              "      <td>33.64</td>\n",
              "      <td>50.70</td>\n",
              "      <td>34.93</td>\n",
              "      <td>51.30</td>\n",
              "      <td>...</td>\n",
              "      <td>2.56</td>\n",
              "      <td>45592000</td>\n",
              "      <td>CST</td>\n",
              "      <td>35.472011</td>\n",
              "      <td>-93.482870</td>\n",
              "      <td>B</td>\n",
              "      <td>5</td>\n",
              "      <td>A+</td>\n",
              "      <td>95 TO 100</td>\n",
              "      <td>96</td>\n",
              "    </tr>\n",
              "    <tr>\n",
              "      <th>...</th>\n",
              "      <td>...</td>\n",
              "      <td>...</td>\n",
              "      <td>...</td>\n",
              "      <td>...</td>\n",
              "      <td>...</td>\n",
              "      <td>...</td>\n",
              "      <td>...</td>\n",
              "      <td>...</td>\n",
              "      <td>...</td>\n",
              "      <td>...</td>\n",
              "      <td>...</td>\n",
              "      <td>...</td>\n",
              "      <td>...</td>\n",
              "      <td>...</td>\n",
              "      <td>...</td>\n",
              "      <td>...</td>\n",
              "      <td>...</td>\n",
              "      <td>...</td>\n",
              "      <td>...</td>\n",
              "      <td>...</td>\n",
              "      <td>...</td>\n",
              "    </tr>\n",
              "    <tr>\n",
              "      <th>250</th>\n",
              "      <td>1251</td>\n",
              "      <td>4</td>\n",
              "      <td>CLEVELAND HTS</td>\n",
              "      <td>OH</td>\n",
              "      <td>44118</td>\n",
              "      <td>EDUCATIONAL</td>\n",
              "      <td>36.51</td>\n",
              "      <td>4.27</td>\n",
              "      <td>55.69</td>\n",
              "      <td>51.53</td>\n",
              "      <td>...</td>\n",
              "      <td>2.89</td>\n",
              "      <td>221859000</td>\n",
              "      <td>EST</td>\n",
              "      <td>41.486555</td>\n",
              "      <td>-81.525715</td>\n",
              "      <td>H</td>\n",
              "      <td>600</td>\n",
              "      <td>A</td>\n",
              "      <td>90 TO 94</td>\n",
              "      <td>91</td>\n",
              "    </tr>\n",
              "    <tr>\n",
              "      <th>251</th>\n",
              "      <td>1252</td>\n",
              "      <td>1</td>\n",
              "      <td>BETHLEHEM</td>\n",
              "      <td>PA</td>\n",
              "      <td>18017</td>\n",
              "      <td>TRAVEL/TRANSPORTATION/HOSPITALITY</td>\n",
              "      <td>55.23</td>\n",
              "      <td>11.83</td>\n",
              "      <td>45.25</td>\n",
              "      <td>55.66</td>\n",
              "      <td>...</td>\n",
              "      <td>2.15</td>\n",
              "      <td>97928000</td>\n",
              "      <td>EST</td>\n",
              "      <td>40.644006</td>\n",
              "      <td>-75.369886</td>\n",
              "      <td>G</td>\n",
              "      <td>250</td>\n",
              "      <td>A</td>\n",
              "      <td>90 TO 94</td>\n",
              "      <td>94</td>\n",
              "    </tr>\n",
              "    <tr>\n",
              "      <th>252</th>\n",
              "      <td>1253</td>\n",
              "      <td>4</td>\n",
              "      <td>BETHLEHEM</td>\n",
              "      <td>PA</td>\n",
              "      <td>18017</td>\n",
              "      <td>THIRD PARTY (NON-CONSUMER)</td>\n",
              "      <td>62.34</td>\n",
              "      <td>31.17</td>\n",
              "      <td>44.72</td>\n",
              "      <td>61.98</td>\n",
              "      <td>...</td>\n",
              "      <td>1.33</td>\n",
              "      <td>29932000</td>\n",
              "      <td>EST</td>\n",
              "      <td>40.647520</td>\n",
              "      <td>-75.408263</td>\n",
              "      <td>A</td>\n",
              "      <td>3</td>\n",
              "      <td>B+</td>\n",
              "      <td>85 TO 89</td>\n",
              "      <td>86</td>\n",
              "    </tr>\n",
              "    <tr>\n",
              "      <th>253</th>\n",
              "      <td>1254</td>\n",
              "      <td>1</td>\n",
              "      <td>BETHLEHEM</td>\n",
              "      <td>PA</td>\n",
              "      <td>18017</td>\n",
              "      <td>AT-WORK</td>\n",
              "      <td>42.37</td>\n",
              "      <td>15.81</td>\n",
              "      <td>52.49</td>\n",
              "      <td>52.73</td>\n",
              "      <td>...</td>\n",
              "      <td>2.53</td>\n",
              "      <td>107371000</td>\n",
              "      <td>EST</td>\n",
              "      <td>40.673970</td>\n",
              "      <td>-75.383771</td>\n",
              "      <td>A</td>\n",
              "      <td>3</td>\n",
              "      <td>A</td>\n",
              "      <td>90 TO 94</td>\n",
              "      <td>90</td>\n",
              "    </tr>\n",
              "    <tr>\n",
              "      <th>254</th>\n",
              "      <td>1255</td>\n",
              "      <td>4</td>\n",
              "      <td>BETHLEHEM</td>\n",
              "      <td>PA</td>\n",
              "      <td>18017</td>\n",
              "      <td>THIRD PARTY (NON-CONSUMER)</td>\n",
              "      <td>40.17</td>\n",
              "      <td>44.53</td>\n",
              "      <td>43.97</td>\n",
              "      <td>50.00</td>\n",
              "      <td>...</td>\n",
              "      <td>2.70</td>\n",
              "      <td>85011000</td>\n",
              "      <td>EST</td>\n",
              "      <td>40.688504</td>\n",
              "      <td>-75.337809</td>\n",
              "      <td>D</td>\n",
              "      <td>27</td>\n",
              "      <td>A+</td>\n",
              "      <td>95 TO 100</td>\n",
              "      <td>99</td>\n",
              "    </tr>\n",
              "  </tbody>\n",
              "</table>\n",
              "<p>255 rows × 21 columns</p>\n",
              "</div>\n",
              "      <button class=\"colab-df-convert\" onclick=\"convertToInteractive('df-2c9c9081-f7f7-4d05-9549-63b40c3f4f58')\"\n",
              "              title=\"Convert this dataframe to an interactive table.\"\n",
              "              style=\"display:none;\">\n",
              "        \n",
              "  <svg xmlns=\"http://www.w3.org/2000/svg\" height=\"24px\"viewBox=\"0 0 24 24\"\n",
              "       width=\"24px\">\n",
              "    <path d=\"M0 0h24v24H0V0z\" fill=\"none\"/>\n",
              "    <path d=\"M18.56 5.44l.94 2.06.94-2.06 2.06-.94-2.06-.94-.94-2.06-.94 2.06-2.06.94zm-11 1L8.5 8.5l.94-2.06 2.06-.94-2.06-.94L8.5 2.5l-.94 2.06-2.06.94zm10 10l.94 2.06.94-2.06 2.06-.94-2.06-.94-.94-2.06-.94 2.06-2.06.94z\"/><path d=\"M17.41 7.96l-1.37-1.37c-.4-.4-.92-.59-1.43-.59-.52 0-1.04.2-1.43.59L10.3 9.45l-7.72 7.72c-.78.78-.78 2.05 0 2.83L4 21.41c.39.39.9.59 1.41.59.51 0 1.02-.2 1.41-.59l7.78-7.78 2.81-2.81c.8-.78.8-2.07 0-2.86zM5.41 20L4 18.59l7.72-7.72 1.47 1.35L5.41 20z\"/>\n",
              "  </svg>\n",
              "      </button>\n",
              "      \n",
              "  <style>\n",
              "    .colab-df-container {\n",
              "      display:flex;\n",
              "      flex-wrap:wrap;\n",
              "      gap: 12px;\n",
              "    }\n",
              "\n",
              "    .colab-df-convert {\n",
              "      background-color: #E8F0FE;\n",
              "      border: none;\n",
              "      border-radius: 50%;\n",
              "      cursor: pointer;\n",
              "      display: none;\n",
              "      fill: #1967D2;\n",
              "      height: 32px;\n",
              "      padding: 0 0 0 0;\n",
              "      width: 32px;\n",
              "    }\n",
              "\n",
              "    .colab-df-convert:hover {\n",
              "      background-color: #E2EBFA;\n",
              "      box-shadow: 0px 1px 2px rgba(60, 64, 67, 0.3), 0px 1px 3px 1px rgba(60, 64, 67, 0.15);\n",
              "      fill: #174EA6;\n",
              "    }\n",
              "\n",
              "    [theme=dark] .colab-df-convert {\n",
              "      background-color: #3B4455;\n",
              "      fill: #D2E3FC;\n",
              "    }\n",
              "\n",
              "    [theme=dark] .colab-df-convert:hover {\n",
              "      background-color: #434B5C;\n",
              "      box-shadow: 0px 1px 3px 1px rgba(0, 0, 0, 0.15);\n",
              "      filter: drop-shadow(0px 1px 2px rgba(0, 0, 0, 0.3));\n",
              "      fill: #FFFFFF;\n",
              "    }\n",
              "  </style>\n",
              "\n",
              "      <script>\n",
              "        const buttonEl =\n",
              "          document.querySelector('#df-2c9c9081-f7f7-4d05-9549-63b40c3f4f58 button.colab-df-convert');\n",
              "        buttonEl.style.display =\n",
              "          google.colab.kernel.accessAllowed ? 'block' : 'none';\n",
              "\n",
              "        async function convertToInteractive(key) {\n",
              "          const element = document.querySelector('#df-2c9c9081-f7f7-4d05-9549-63b40c3f4f58');\n",
              "          const dataTable =\n",
              "            await google.colab.kernel.invokeFunction('convertToInteractive',\n",
              "                                                     [key], {});\n",
              "          if (!dataTable) return;\n",
              "\n",
              "          const docLinkHtml = 'Like what you see? Visit the ' +\n",
              "            '<a target=\"_blank\" href=https://colab.research.google.com/notebooks/data_table.ipynb>data table notebook</a>'\n",
              "            + ' to learn more about interactive tables.';\n",
              "          element.innerHTML = '';\n",
              "          dataTable['output_type'] = 'display_data';\n",
              "          await google.colab.output.renderOutput(dataTable, element);\n",
              "          const docLink = document.createElement('div');\n",
              "          docLink.innerHTML = docLinkHtml;\n",
              "          element.appendChild(docLink);\n",
              "        }\n",
              "      </script>\n",
              "    </div>\n",
              "  </div>\n",
              "  "
            ]
          },
          "metadata": {},
          "execution_count": 145
        }
      ]
    },
    {
      "cell_type": "code",
      "source": [
        "sub_pX= p.transform(sub_X)\n",
        "sub_pX"
      ],
      "metadata": {
        "colab": {
          "base_uri": "https://localhost:8080/"
        },
        "id": "O0MQ_fNMjeAQ",
        "outputId": "ee861121-05b8-4c20-b8e2-00ed50420af6"
      },
      "execution_count": 147,
      "outputs": [
        {
          "output_type": "execute_result",
          "data": {
            "text/plain": [
              "array([[-0.19280017, -0.71200804, -1.28924348, ...,  0.        ,\n",
              "         0.        ,  0.        ],\n",
              "       [-0.29065052, -0.32211345, -0.54132177, ...,  0.        ,\n",
              "         0.        ,  0.        ],\n",
              "       [-0.29065052, -0.46976584,  0.5349558 , ...,  0.        ,\n",
              "         0.        ,  0.        ],\n",
              "       ...,\n",
              "       [-0.29329513,  2.56172224, -1.7452933 , ...,  0.        ,\n",
              "         0.        ,  0.        ],\n",
              "       [-0.29329513,  0.25811429,  0.44374584, ...,  0.        ,\n",
              "         0.        ,  0.        ],\n",
              "       [-0.22982463,  0.00433675,  0.75385971, ...,  0.        ,\n",
              "         0.        ,  0.        ]])"
            ]
          },
          "metadata": {},
          "execution_count": 147
        }
      ]
    },
    {
      "cell_type": "code",
      "source": [
        "sub_y = model.predict(sub_pX)\n",
        "sns.histplot(sub_y)"
      ],
      "metadata": {
        "colab": {
          "base_uri": "https://localhost:8080/",
          "height": 465
        },
        "id": "UiUyeXp_Klvy",
        "outputId": "67b91fe7-69a9-4ca7-c973-57bcb258c8b5"
      },
      "execution_count": 150,
      "outputs": [
        {
          "output_type": "stream",
          "name": "stdout",
          "text": [
            "8/8 [==============================] - 0s 5ms/step\n"
          ]
        },
        {
          "output_type": "execute_result",
          "data": {
            "text/plain": [
              "<Axes: ylabel='Count'>"
            ]
          },
          "metadata": {},
          "execution_count": 150
        },
        {
          "output_type": "display_data",
          "data": {
            "text/plain": [
              "<Figure size 640x480 with 1 Axes>"
            ],
            "image/png": "[encoded data removed]"
          },
          "metadata": {}
        }
      ]
    },
    {
      "cell_type": "code",
      "source": [
        "sub = pd.DataFrame(\n",
        "    data = {\n",
        "        'outlet_no' : np.array(sub_X.outlet_no.to_list())\n",
        "        }\n",
        ")\n",
        "sub['total_sales_actual'] = sub_y.astype(np.int64)\n",
        "sub"
      ],
      "metadata": {
        "colab": {
          "base_uri": "https://localhost:8080/",
          "height": 424
        },
        "id": "KZHkL_tdK80K",
        "outputId": "65dfe997-9e5e-4db9-e60b-285b16f52fd1"
      },
      "execution_count": 164,
      "outputs": [
        {
          "output_type": "execute_result",
          "data": {
            "text/plain": [
              "     outlet_no  total_sales_actual\n",
              "0         1001                5718\n",
              "1         1002                 609\n",
              "2         1003                9468\n",
              "3         1004                 358\n",
              "4         1005                5379\n",
              "..         ...                 ...\n",
              "250       1251                9148\n",
              "251       1252                2451\n",
              "252       1253                 311\n",
              "253       1254                 257\n",
              "254       1255                2329\n",
              "\n",
              "[255 rows x 2 columns]"
            ],
            "text/html": [
              "\n",
              "  <div id=\"df-1465f7fa-01b5-422c-b99c-0353eb72cfa6\">\n",
              "    <div class=\"colab-df-container\">\n",
              "      <div>\n",
              "<style scoped>\n",
              "    .dataframe tbody tr th:only-of-type {\n",
              "        vertical-align: middle;\n",
              "    }\n",
              "\n",
              "    .dataframe tbody tr th {\n",
              "        vertical-align: top;\n",
              "    }\n",
              "\n",
              "    .dataframe thead th {\n",
              "        text-align: right;\n",
              "    }\n",
              "</style>\n",
              "<table border=\"1\" class=\"dataframe\">\n",
              "  <thead>\n",
              "    <tr style=\"text-align: right;\">\n",
              "      <th></th>\n",
              "      <th>outlet_no</th>\n",
              "      <th>total_sales_actual</th>\n",
              "    </tr>\n",
              "  </thead>\n",
              "  <tbody>\n",
              "    <tr>\n",
              "      <th>0</th>\n",
              "      <td>1001</td>\n",
              "      <td>5718</td>\n",
              "    </tr>\n",
              "    <tr>\n",
              "      <th>1</th>\n",
              "      <td>1002</td>\n",
              "      <td>609</td>\n",
              "    </tr>\n",
              "    <tr>\n",
              "      <th>2</th>\n",
              "      <td>1003</td>\n",
              "      <td>9468</td>\n",
              "    </tr>\n",
              "    <tr>\n",
              "      <th>3</th>\n",
              "      <td>1004</td>\n",
              "      <td>358</td>\n",
              "    </tr>\n",
              "    <tr>\n",
              "      <th>4</th>\n",
              "      <td>1005</td>\n",
              "      <td>5379</td>\n",
              "    </tr>\n",
              "    <tr>\n",
              "      <th>...</th>\n",
              "      <td>...</td>\n",
              "      <td>...</td>\n",
              "    </tr>\n",
              "    <tr>\n",
              "      <th>250</th>\n",
              "      <td>1251</td>\n",
              "      <td>9148</td>\n",
              "    </tr>\n",
              "    <tr>\n",
              "      <th>251</th>\n",
              "      <td>1252</td>\n",
              "      <td>2451</td>\n",
              "    </tr>\n",
              "    <tr>\n",
              "      <th>252</th>\n",
              "      <td>1253</td>\n",
              "      <td>311</td>\n",
              "    </tr>\n",
              "    <tr>\n",
              "      <th>253</th>\n",
              "      <td>1254</td>\n",
              "      <td>257</td>\n",
              "    </tr>\n",
              "    <tr>\n",
              "      <th>254</th>\n",
              "      <td>1255</td>\n",
              "      <td>2329</td>\n",
              "    </tr>\n",
              "  </tbody>\n",
              "</table>\n",
              "<p>255 rows × 2 columns</p>\n",
              "</div>\n",
              "      <button class=\"colab-df-convert\" onclick=\"convertToInteractive('df-1465f7fa-01b5-422c-b99c-0353eb72cfa6')\"\n",
              "              title=\"Convert this dataframe to an interactive table.\"\n",
              "              style=\"display:none;\">\n",
              "        \n",
              "  <svg xmlns=\"http://www.w3.org/2000/svg\" height=\"24px\"viewBox=\"0 0 24 24\"\n",
              "       width=\"24px\">\n",
              "    <path d=\"M0 0h24v24H0V0z\" fill=\"none\"/>\n",
              "    <path d=\"M18.56 5.44l.94 2.06.94-2.06 2.06-.94-2.06-.94-.94-2.06-.94 2.06-2.06.94zm-11 1L8.5 8.5l.94-2.06 2.06-.94-2.06-.94L8.5 2.5l-.94 2.06-2.06.94zm10 10l.94 2.06.94-2.06 2.06-.94-2.06-.94-.94-2.06-.94 2.06-2.06.94z\"/><path d=\"M17.41 7.96l-1.37-1.37c-.4-.4-.92-.59-1.43-.59-.52 0-1.04.2-1.43.59L10.3 9.45l-7.72 7.72c-.78.78-.78 2.05 0 2.83L4 21.41c.39.39.9.59 1.41.59.51 0 1.02-.2 1.41-.59l7.78-7.78 2.81-2.81c.8-.78.8-2.07 0-2.86zM5.41 20L4 18.59l7.72-7.72 1.47 1.35L5.41 20z\"/>\n",
              "  </svg>\n",
              "      </button>\n",
              "      \n",
              "  <style>\n",
              "    .colab-df-container {\n",
              "      display:flex;\n",
              "      flex-wrap:wrap;\n",
              "      gap: 12px;\n",
              "    }\n",
              "\n",
              "    .colab-df-convert {\n",
              "      background-color: #E8F0FE;\n",
              "      border: none;\n",
              "      border-radius: 50%;\n",
              "      cursor: pointer;\n",
              "      display: none;\n",
              "      fill: #1967D2;\n",
              "      height: 32px;\n",
              "      padding: 0 0 0 0;\n",
              "      width: 32px;\n",
              "    }\n",
              "\n",
              "    .colab-df-convert:hover {\n",
              "      background-color: #E2EBFA;\n",
              "      box-shadow: 0px 1px 2px rgba(60, 64, 67, 0.3), 0px 1px 3px 1px rgba(60, 64, 67, 0.15);\n",
              "      fill: #174EA6;\n",
              "    }\n",
              "\n",
              "    [theme=dark] .colab-df-convert {\n",
              "      background-color: #3B4455;\n",
              "      fill: #D2E3FC;\n",
              "    }\n",
              "\n",
              "    [theme=dark] .colab-df-convert:hover {\n",
              "      background-color: #434B5C;\n",
              "      box-shadow: 0px 1px 3px 1px rgba(0, 0, 0, 0.15);\n",
              "      filter: drop-shadow(0px 1px 2px rgba(0, 0, 0, 0.3));\n",
              "      fill: #FFFFFF;\n",
              "    }\n",
              "  </style>\n",
              "\n",
              "      <script>\n",
              "        const buttonEl =\n",
              "          document.querySelector('#df-1465f7fa-01b5-422c-b99c-0353eb72cfa6 button.colab-df-convert');\n",
              "        buttonEl.style.display =\n",
              "          google.colab.kernel.accessAllowed ? 'block' : 'none';\n",
              "\n",
              "        async function convertToInteractive(key) {\n",
              "          const element = document.querySelector('#df-1465f7fa-01b5-422c-b99c-0353eb72cfa6');\n",
              "          const dataTable =\n",
              "            await google.colab.kernel.invokeFunction('convertToInteractive',\n",
              "                                                     [key], {});\n",
              "          if (!dataTable) return;\n",
              "\n",
              "          const docLinkHtml = 'Like what you see? Visit the ' +\n",
              "            '<a target=\"_blank\" href=https://colab.research.google.com/notebooks/data_table.ipynb>data table notebook</a>'\n",
              "            + ' to learn more about interactive tables.';\n",
              "          element.innerHTML = '';\n",
              "          dataTable['output_type'] = 'display_data';\n",
              "          await google.colab.output.renderOutput(dataTable, element);\n",
              "          const docLink = document.createElement('div');\n",
              "          docLink.innerHTML = docLinkHtml;\n",
              "          element.appendChild(docLink);\n",
              "        }\n",
              "      </script>\n",
              "    </div>\n",
              "  </div>\n",
              "  "
            ]
          },
          "metadata": {},
          "execution_count": 164
        }
      ]
    },
    {
      "cell_type": "code",
      "source": [
        "sub.to_csv(os.path.join(base_dir, 'NYR.csv'),index=False)"
      ],
      "metadata": {
        "id": "yTJwP7CmLI-K"
      },
      "execution_count": 166,
      "outputs": []
    },
    {
      "cell_type": "code",
      "source": [],
      "metadata": {
        "id": "cIPjBfYeL-iR"
      },
      "execution_count": null,
      "outputs": []
    }
  ]
}